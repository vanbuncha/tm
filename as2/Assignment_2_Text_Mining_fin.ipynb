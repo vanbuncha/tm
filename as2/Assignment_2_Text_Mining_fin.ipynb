{
  "cells": [
    {
      "cell_type": "markdown",
      "metadata": {
        "id": "7e-pWXTBdi5i"
      },
      "source": [
        "# Assignment 2 - Data Mining"
      ]
    },
    {
      "cell_type": "markdown",
      "metadata": {
        "id": "xqI-XewcnizU"
      },
      "source": [
        "# Task 1\n",
        "The task one is just to download the W-NUT_data.zip\n",
        "- [X] Done"
      ]
    },
    {
      "cell_type": "markdown",
      "metadata": {
        "id": "aNbZYiAmnIM5"
      },
      "source": [
        "# Task 2\n",
        "Task 2 is to convert IOB data to the correct data structure for token class.\n",
        "- [X] Done"
      ]
    },
    {
      "cell_type": "markdown",
      "metadata": {
        "id": "hmO5Gtenm2Ay"
      },
      "source": [
        "Needed libraries"
      ]
    },
    {
      "cell_type": "code",
      "execution_count": null,
      "metadata": {
        "id": "letndaDnnoxf"
      },
      "outputs": [],
      "source": [
        "# ! pip install transformers\n",
        "# ! pip install datasets\n",
        "# ! pip install seqeval\n",
        "# ! pip install evaluate\n",
        "# ! pip install torch\n",
        "# ! pip install accelerate\n",
        "# ! pip install transformers[torch]\n",
        "\n",
        "# ! pip install optuna\n",
        "# # or $ conda install -c conda-forge optuna\n",
        "\n"
      ]
    },
    {
      "cell_type": "code",
      "execution_count": null,
      "metadata": {
        "id": "SL9vX3xnnizW"
      },
      "outputs": [],
      "source": [
        "from datasets import Dataset\n",
        "from transformers import AutoTokenizer\n",
        "import torch\n",
        "import accelerate\n",
        "import evaluate\n",
        "from transformers import DataCollatorForTokenClassification\n",
        "from datasets import DatasetDict\n",
        "from transformers import AutoModelForTokenClassification\n",
        "from huggingface_hub import notebook_login\n",
        "from transformers import TrainingArguments\n",
        "from transformers import Trainer\n",
        "from sklearn.model_selection import ParameterGrid\n",
        "import seqeval\n",
        "from sklearn.metrics import classification_report\n",
        "from tabulate import tabulate\n",
        "from sklearn.metrics import classification_report, f1_score, precision_score, recall_score\n",
        "from sklearn.preprocessing import LabelBinarizer\n",
        "from seqeval.metrics import classification_report as seqeval_classification_report, recall_score as seqeval_recall_score, precision_score as seqeval_precision_score, f1_score as seqeval_f1_score\n"
      ]
    },
    {
      "cell_type": "markdown",
      "metadata": {
        "id": "swiP4Hnrm4RA"
      },
      "source": [
        "# Importing training set"
      ]
    },
    {
      "cell_type": "code",
      "execution_count": null,
      "metadata": {
        "id": "L0V5PxI1dSi6"
      },
      "outputs": [],
      "source": [
        "# Define the data format\n",
        "data = {\n",
        "    \"tokens\": [],  # List of tokens\n",
        "    \"labels\": [],  # List of integer labels\n",
        "}\n",
        "\n",
        "label_to_int = {}  # Dictionary to map original labels to integers\n",
        "label_names = []  # List to map integers to original labels\n",
        "\n",
        "train_path = \"W-NUT_data/wnut17train.conll\"\n",
        "\n",
        "\n",
        "# Read the .conll file and populate the data dictionary\n",
        "with open(train_path, \"r\") as file:\n",
        "    lines = file.readlines()\n",
        "    tokens, labels = [], []\n",
        "    for line in lines:\n",
        "        parts = line.strip().split()\n",
        "        if parts:\n",
        "            token, label = parts\n",
        "            tokens.append(token)\n",
        "\n",
        "            # Check if the label is already in the mapping dictionary\n",
        "            if label not in label_to_int:\n",
        "                label_to_int[label] = len(label_to_int)\n",
        "                label_names.append(label)\n",
        "\n",
        "            labels.append(label_to_int[label])\n",
        "        else:\n",
        "            data[\"tokens\"].append(tokens)\n",
        "            data[\"labels\"].append(labels)\n",
        "            tokens, labels = [], []  # Reset for the next sentence\n",
        "\n",
        "# Create a custom dataset\n",
        "train = Dataset.from_dict(data)"
      ]
    },
    {
      "cell_type": "code",
      "execution_count": null,
      "metadata": {
        "colab": {
          "base_uri": "https://localhost:8080/"
        },
        "id": "SMSvk7jyjjBN",
        "outputId": "68a8b21d-d8d2-4cd9-b795-2a5b2204deac"
      },
      "outputs": [
        {
          "output_type": "stream",
          "name": "stdout",
          "text": [
            "Dataset({\n",
            "    features: ['tokens', 'labels'],\n",
            "    num_rows: 3394\n",
            "})\n"
          ]
        }
      ],
      "source": [
        "print(train)"
      ]
    },
    {
      "cell_type": "markdown",
      "metadata": {
        "id": "agXOqxchm7aY"
      },
      "source": [
        "# Importing validation set"
      ]
    },
    {
      "cell_type": "code",
      "execution_count": null,
      "metadata": {
        "id": "KmDuvrUbYUno"
      },
      "outputs": [],
      "source": [
        "# Define the data format for the validation set\n",
        "validation_data = {\n",
        "    \"tokens\": [],  # List of tokens\n",
        "    \"labels\": [],  # List of integer labels\n",
        "}\n",
        "\n",
        "validation_path = \"W-NUT_data/emerging.dev.conll\"  # Replace with the actual path to your validation set .conll file\n",
        "\n",
        "# Read the .conll file for the validation set and populate the data dictionary\n",
        "with open(validation_path, \"r\") as file:\n",
        "    lines = file.readlines()\n",
        "    tokens, labels = [], []\n",
        "    for line in lines:\n",
        "        parts = line.strip().split()\n",
        "        if len(parts) == 2:  # Check if there are both token and label\n",
        "            token, label = parts\n",
        "            tokens.append(token)\n",
        "\n",
        "            if label not in label_to_int:\n",
        "                label_to_int[label] = len(label_names)\n",
        "                label_names.append(label)\n",
        "\n",
        "            labels.append(label_to_int[label])\n",
        "        else:\n",
        "            if parts:  # Handle lines with only one value\n",
        "                # Decide how to handle lines with one value (e.g., set a default label)\n",
        "                token = parts[0]\n",
        "                label = \"O\"  # You can replace this with an appropriate default label\n",
        "                tokens.append(token)\n",
        "\n",
        "                if label not in label_to_int:\n",
        "                    label_to_int[label] = len(label_names)\n",
        "                    label_names.append(label)\n",
        "\n",
        "                labels.append(label_to_int[label])\n",
        "            else:\n",
        "                validation_data[\"tokens\"].append(tokens)\n",
        "                validation_data[\"labels\"].append(labels)\n",
        "                tokens, labels = [], []  # Reset for the next sentence\n",
        "\n",
        "# If there's data left to process\n",
        "if tokens:\n",
        "    validation_data[\"tokens\"].append(tokens)\n",
        "    validation_data[\"labels\"].append(labels)\n",
        "\n",
        "# Create a custom dataset for the validation set\n",
        "validation = Dataset.from_dict(validation_data)\n"
      ]
    },
    {
      "cell_type": "code",
      "execution_count": null,
      "metadata": {
        "colab": {
          "base_uri": "https://localhost:8080/"
        },
        "id": "ZUUw-Y_0e98b",
        "outputId": "8d13a798-4450-4efb-c5c4-54cbd7b121a6"
      },
      "outputs": [
        {
          "output_type": "stream",
          "name": "stdout",
          "text": [
            "Dataset({\n",
            "    features: ['tokens', 'labels'],\n",
            "    num_rows: 1009\n",
            "})\n"
          ]
        }
      ],
      "source": [
        "print(validation)"
      ]
    },
    {
      "cell_type": "markdown",
      "metadata": {
        "id": "LRYmQgsjnARd"
      },
      "source": [
        "# Importing test set"
      ]
    },
    {
      "cell_type": "code",
      "execution_count": null,
      "metadata": {
        "id": "qHpDRhBoj8cB"
      },
      "outputs": [],
      "source": [
        "# Define the data format for the test set\n",
        "test_data = {\n",
        "   \"tokens\": [],  # List of tokens\n",
        "   \"labels\": [],  # List of integer labels\n",
        "}\n",
        "\n",
        "test_path = \"W-NUT_data/emerging.test.annotated\"  # Replace with the actual path to your test set .conll file\n",
        "\n",
        "# Read the .conll file for the test set and populate the data dictionary\n",
        "with open(test_path, \"r\") as file:\n",
        "   lines = file.readlines()\n",
        "   tokens, labels = [], []\n",
        "   for line in lines:\n",
        "       parts = line.strip().split()\n",
        "       if len(parts) == 2:  # Check if there are both token and label\n",
        "           token, label = parts\n",
        "           tokens.append(token)\n",
        "\n",
        "           if label not in label_to_int:\n",
        "               label_to_int[label] = len(label_names)\n",
        "               label_names.append(label)\n",
        "\n",
        "           labels.append(label_to_int[label])\n",
        "       else:\n",
        "           if parts:  # Handle lines with only one value\n",
        "               # Decide how to handle lines with one value (e.g., set a default label)\n",
        "               token = parts[0]\n",
        "               label = \"O\"  # You can replace this with an appropriate default label\n",
        "               tokens.append(token)\n",
        "\n",
        "               if label not in label_to_int:\n",
        "                   label_to_int[label] = len(label_names)\n",
        "                   label_names.append(label)\n",
        "\n",
        "               labels.append(label_to_int[label])\n",
        "           else:\n",
        "               test_data[\"tokens\"].append(tokens)\n",
        "               test_data[\"labels\"].append(labels)\n",
        "               tokens, labels = [], []  # Reset for the next sentence\n",
        "\n",
        "# If there's data left to process\n",
        "if tokens:\n",
        "   test_data[\"tokens\"].append(tokens)\n",
        "   test_data[\"labels\"].append(labels)\n",
        "\n",
        "# Create a custom dataset for the test set\n",
        "test = Dataset.from_dict(test_data)\n"
      ]
    },
    {
      "cell_type": "code",
      "execution_count": null,
      "metadata": {
        "colab": {
          "base_uri": "https://localhost:8080/"
        },
        "id": "AkDFnjFFj-iG",
        "outputId": "90980469-f08e-4866-8363-5bf855094a20"
      },
      "outputs": [
        {
          "output_type": "stream",
          "name": "stdout",
          "text": [
            "Dataset({\n",
            "    features: ['tokens', 'labels'],\n",
            "    num_rows: 1287\n",
            "})\n"
          ]
        }
      ],
      "source": [
        "print(test)"
      ]
    },
    {
      "cell_type": "code",
      "execution_count": null,
      "metadata": {
        "colab": {
          "base_uri": "https://localhost:8080/"
        },
        "id": "RVcphvQQonBZ",
        "outputId": "4376773f-7f64-462d-86f6-ffbbb9b11817"
      },
      "outputs": [
        {
          "output_type": "stream",
          "name": "stdout",
          "text": [
            "{'O': 0, 'B-location': 1, 'I-location': 2, 'B-group': 3, 'B-corporation': 4, 'B-person': 5, 'B-creative-work': 6, 'B-product': 7, 'I-person': 8, 'I-creative-work': 9, 'I-corporation': 10, 'I-group': 11, 'I-product': 12}\n"
          ]
        }
      ],
      "source": [
        "print(label_to_int)"
      ]
    },
    {
      "cell_type": "code",
      "execution_count": null,
      "metadata": {
        "colab": {
          "base_uri": "https://localhost:8080/"
        },
        "id": "9d3Q11jvqOd2",
        "outputId": "eae25331-4784-4777-e370-e6bb05378791"
      },
      "outputs": [
        {
          "output_type": "stream",
          "name": "stdout",
          "text": [
            "['O', 'B-location', 'I-location', 'B-group', 'B-corporation', 'B-person', 'B-creative-work', 'B-product', 'I-person', 'I-creative-work', 'I-corporation', 'I-group', 'I-product']\n"
          ]
        }
      ],
      "source": [
        "print(label_names)"
      ]
    },
    {
      "cell_type": "markdown",
      "metadata": {
        "id": "ALwL5apknC-O"
      },
      "source": [
        "# Realizing a dataset dictionary"
      ]
    },
    {
      "cell_type": "code",
      "execution_count": null,
      "metadata": {
        "id": "oaW-JRDxkfVr"
      },
      "outputs": [],
      "source": [
        "raw_datasets = DatasetDict({\n",
        "    'train': train,\n",
        "    'validation': validation,\n",
        "    'test': test\n",
        "})"
      ]
    },
    {
      "cell_type": "code",
      "execution_count": null,
      "metadata": {
        "colab": {
          "base_uri": "https://localhost:8080/"
        },
        "id": "b7Kc5p5dlVKd",
        "outputId": "e5f9809a-6bb1-4233-bb90-16261b2fba5a"
      },
      "outputs": [
        {
          "output_type": "stream",
          "name": "stdout",
          "text": [
            "DatasetDict({\n",
            "    train: Dataset({\n",
            "        features: ['tokens', 'labels'],\n",
            "        num_rows: 3394\n",
            "    })\n",
            "    validation: Dataset({\n",
            "        features: ['tokens', 'labels'],\n",
            "        num_rows: 1009\n",
            "    })\n",
            "    test: Dataset({\n",
            "        features: ['tokens', 'labels'],\n",
            "        num_rows: 1287\n",
            "    })\n",
            "})\n"
          ]
        }
      ],
      "source": [
        "print(raw_datasets)"
      ]
    },
    {
      "cell_type": "markdown",
      "metadata": {
        "id": "or8-qlGJmvvU"
      },
      "source": [
        "# Verify the initial alignment between tokens and labels."
      ]
    },
    {
      "cell_type": "code",
      "execution_count": 65,
      "metadata": {
        "colab": {
          "base_uri": "https://localhost:8080/"
        },
        "id": "LkxFkSP8mT5m",
        "outputId": "4f359535-dc21-4464-aa93-bad73d3e97b5"
      },
      "outputs": [
        {
          "output_type": "stream",
          "name": "stdout",
          "text": [
            "& gt ; * The soldier was killed when another avalanche hit an army barracks in the northern area of Sonmarg    , said a military spokesman . \n",
            "O O  O O O   O       O   O      O    O       O         O   O  O    O        O  O   O        O    O  B-location O O    O O        O         O \n"
          ]
        }
      ],
      "source": [
        "words = raw_datasets[\"test\"][0][\"tokens\"]\n",
        "labels = raw_datasets[\"test\"][0][\"labels\"]\n",
        "line1 = \"\"\n",
        "line2 = \"\"\n",
        "for word, label in zip(words, labels):\n",
        "    full_label = label_names[label]\n",
        "    max_length = max(len(word), len(full_label))\n",
        "    line1 += word + \" \" * (max_length - len(word) + 1)\n",
        "    line2 += full_label + \" \" * (max_length - len(full_label) + 1)\n",
        "\n",
        "print(line1)\n",
        "print(line2)"
      ]
    },
    {
      "cell_type": "markdown",
      "metadata": {
        "id": "h8vFB1ofnfqV"
      },
      "source": [
        "# Importing the needed tokenizer"
      ]
    },
    {
      "cell_type": "code",
      "execution_count": null,
      "metadata": {
        "id": "olUqne2NneG1"
      },
      "outputs": [],
      "source": [
        "model_checkpoint = \"bert-base-cased\"\n",
        "tokenizer = AutoTokenizer.from_pretrained(model_checkpoint)"
      ]
    },
    {
      "cell_type": "code",
      "execution_count": null,
      "metadata": {
        "colab": {
          "base_uri": "https://localhost:8080/"
        },
        "id": "KSwKdpQsD3JD",
        "outputId": "d24f5563-0d3f-48ed-b136-0e2181984e61"
      },
      "outputs": [
        {
          "output_type": "execute_result",
          "data": {
            "text/plain": [
              "['[CLS]',\n",
              " '@',\n",
              " 'p',\n",
              " '##aul',\n",
              " '##walk',\n",
              " 'It',\n",
              " \"'\",\n",
              " 's',\n",
              " 'the',\n",
              " 'view',\n",
              " 'from',\n",
              " 'where',\n",
              " 'I',\n",
              " \"'\",\n",
              " 'm',\n",
              " 'living',\n",
              " 'for',\n",
              " 'two',\n",
              " 'weeks',\n",
              " '.',\n",
              " 'Empire',\n",
              " 'State',\n",
              " 'Building',\n",
              " '=',\n",
              " 'E',\n",
              " '##SB',\n",
              " '.',\n",
              " 'Pretty',\n",
              " 'bad',\n",
              " 'storm',\n",
              " 'here',\n",
              " 'last',\n",
              " 'evening',\n",
              " '.',\n",
              " '[SEP]']"
            ]
          },
          "metadata": {},
          "execution_count": 18
        }
      ],
      "source": [
        "inputs = tokenizer(raw_datasets[\"train\"][0][\"tokens\"], is_split_into_words=True)\n",
        "inputs.tokens()"
      ]
    },
    {
      "cell_type": "markdown",
      "metadata": {
        "id": "l5q39tLcy56h"
      },
      "source": [
        "# Defining the function to align labels and tokens properly"
      ]
    },
    {
      "cell_type": "code",
      "execution_count": 62,
      "metadata": {
        "id": "RhTJjytaoNyj"
      },
      "outputs": [],
      "source": [
        "def align_labels_with_tokens(labels, word_ids):\n",
        "    new_labels = []\n",
        "    current_word = None\n",
        "    for word_id in word_ids:\n",
        "        if word_id != current_word:\n",
        "            # Start of a new word!\n",
        "            current_word = word_id\n",
        "            label = -100 if word_id is None else labels[word_id]\n",
        "            new_labels.append(label)\n",
        "        elif word_id is None:\n",
        "            # Special token\n",
        "            new_labels.append(-100)\n",
        "        else:\n",
        "            # Same word as previous token\n",
        "            label = labels[word_id]\n",
        "            # If the label is B-XXX we change it to I-XXX\n",
        "            if label % 2 == 1:\n",
        "                label += 1\n",
        "            new_labels.append(label)\n",
        "\n",
        "    return new_labels"
      ]
    },
    {
      "cell_type": "code",
      "execution_count": 63,
      "metadata": {
        "colab": {
          "base_uri": "https://localhost:8080/"
        },
        "id": "_ik9DoJCoT3F",
        "outputId": "96ed6863-b76b-4989-cdd5-2ae2f0cdc569"
      },
      "outputs": [
        {
          "output_type": "stream",
          "name": "stdout",
          "text": [
            "[0, 0, 0, 0, 0, 0, 0, 0, 0, 0, 0, 0, 0, 0, 1, 2, 2, 0, 1, 0, 0, 0, 0, 0, 0, 0, 0]\n",
            "[-100, 0, 0, 0, 0, 0, 0, 0, 0, 0, 0, 0, 0, 0, 0, 0, 0, 0, 0, 0, 1, 2, 2, 0, 1, 2, 0, 0, 0, 0, 0, 0, 0, 0, -100]\n"
          ]
        }
      ],
      "source": [
        "labels = raw_datasets[\"train\"][0][\"labels\"]\n",
        "word_ids = inputs.word_ids()\n",
        "print(labels)\n",
        "print(align_labels_with_tokens(labels, word_ids))"
      ]
    },
    {
      "cell_type": "markdown",
      "metadata": {
        "id": "vbAwxSwwzAnS"
      },
      "source": [
        "Defining the function to apply the previous function on all the dataset"
      ]
    },
    {
      "cell_type": "code",
      "execution_count": null,
      "metadata": {
        "id": "qTVIwwPNfTDm"
      },
      "outputs": [],
      "source": [
        "def tokenize_and_align_labels(examples):\n",
        "    tokenized_inputs = tokenizer(\n",
        "        examples[\"tokens\"], truncation=True, is_split_into_words=True\n",
        "    )\n",
        "    all_labels = examples[\"labels\"]\n",
        "    new_labels = []\n",
        "    for i, labels in enumerate(all_labels):\n",
        "        word_ids = tokenized_inputs.word_ids(i)\n",
        "        new_labels.append(align_labels_with_tokens(labels, word_ids))\n",
        "\n",
        "    tokenized_inputs[\"labels\"] = new_labels\n",
        "    return tokenized_inputs"
      ]
    },
    {
      "cell_type": "code",
      "execution_count": null,
      "metadata": {
        "colab": {
          "base_uri": "https://localhost:8080/",
          "height": 113,
          "referenced_widgets": [
            "8b079606caf448dfae753ddcef180064",
            "0daa7169975a45a3b21f02684a5b9d5f",
            "ce8a259abe3f4e0380f00cd9a1e063fb",
            "d10da366230443439aa0bdcc3e9928a5",
            "c2c6e83ccca04a84b8e46e6638e49ff9",
            "d677106579234b1c86104668ebde1101",
            "e34bef54056a463eabfa80343e4c59b0",
            "b9b0b047e3644f688e9398edac429b0a",
            "d8f961117f1847f086d7657aa4506476",
            "45e83a85e71249659ff56c1a642c9e4d",
            "77d567e32dcc4883b583cea746909620",
            "a909377cd16c40d295569f78bb163a6f",
            "bc30793dadde4a7bb299a32d364b4023",
            "c12537805cdc4d2ebb6e95a15c07db99",
            "b8e4f420a2f74810a4088837f88b340d",
            "58f3bd31de9647c49e0c8a23d3c749db",
            "ec68bdc7eea44e3597272013f8510ff6",
            "8a24d66b2ad744f6833fc0b476658360",
            "f6e1a5b74570414cbabc70795a40011a",
            "8fc6067c364a4fd6824a474d4c8d09eb",
            "b42d6e21decf4dae8e28165e7dfe1086",
            "44ad873d445744f9824227a1847cf4b7",
            "0adad4567e1141f08ded98e8a789666f",
            "d1c67c5b17c149659295e5cc5068f917",
            "3b17d8f37f9b436196cb89346ca99faa",
            "f7b1dd3879974ed18c0d500137c11525",
            "94f08214b1914b9eb300386361c45884",
            "afcb24d7062e44cea10d2ad2e31ab4af",
            "a196979f30074d84b8d09c043ae147c7",
            "3f018de552a74be4a0bc55dcdc830394",
            "9ff5d003870f43f9b1af16e7abd656b4",
            "29a6af1d2bb54805aba50f2a4b04a38c",
            "3b7790a92062419d91d503645ad08ad0"
          ]
        },
        "id": "znADGrKyfmhb",
        "outputId": "5e0d6fea-c719-4138-d3fe-57682e7af80a"
      },
      "outputs": [
        {
          "output_type": "display_data",
          "data": {
            "text/plain": [
              "Map:   0%|          | 0/3394 [00:00<?, ? examples/s]"
            ],
            "application/vnd.jupyter.widget-view+json": {
              "version_major": 2,
              "version_minor": 0,
              "model_id": "8b079606caf448dfae753ddcef180064"
            }
          },
          "metadata": {}
        },
        {
          "output_type": "display_data",
          "data": {
            "text/plain": [
              "Map:   0%|          | 0/1009 [00:00<?, ? examples/s]"
            ],
            "application/vnd.jupyter.widget-view+json": {
              "version_major": 2,
              "version_minor": 0,
              "model_id": "a909377cd16c40d295569f78bb163a6f"
            }
          },
          "metadata": {}
        },
        {
          "output_type": "display_data",
          "data": {
            "text/plain": [
              "Map:   0%|          | 0/1287 [00:00<?, ? examples/s]"
            ],
            "application/vnd.jupyter.widget-view+json": {
              "version_major": 2,
              "version_minor": 0,
              "model_id": "0adad4567e1141f08ded98e8a789666f"
            }
          },
          "metadata": {}
        }
      ],
      "source": [
        "tokenized_datasets = raw_datasets.map(\n",
        "    tokenize_and_align_labels,\n",
        "    batched=True,\n",
        "    remove_columns=raw_datasets[\"train\"].column_names,\n",
        ")"
      ]
    },
    {
      "cell_type": "code",
      "execution_count": null,
      "metadata": {
        "colab": {
          "base_uri": "https://localhost:8080/"
        },
        "id": "SnklnCk2xOBD",
        "outputId": "278fd84d-e88e-4df7-97e7-f8338634c836"
      },
      "outputs": [
        {
          "output_type": "stream",
          "name": "stdout",
          "text": [
            "DatasetDict({\n",
            "    train: Dataset({\n",
            "        features: ['labels', 'input_ids', 'token_type_ids', 'attention_mask'],\n",
            "        num_rows: 3394\n",
            "    })\n",
            "    validation: Dataset({\n",
            "        features: ['labels', 'input_ids', 'token_type_ids', 'attention_mask'],\n",
            "        num_rows: 1009\n",
            "    })\n",
            "    test: Dataset({\n",
            "        features: ['labels', 'input_ids', 'token_type_ids', 'attention_mask'],\n",
            "        num_rows: 1287\n",
            "    })\n",
            "})\n"
          ]
        }
      ],
      "source": [
        "print(tokenized_datasets)"
      ]
    },
    {
      "cell_type": "markdown",
      "metadata": {
        "id": "9BlCHEIcrHLP"
      },
      "source": [
        "Data collation"
      ]
    },
    {
      "cell_type": "code",
      "execution_count": null,
      "metadata": {
        "id": "maOLtLrarKNi"
      },
      "outputs": [],
      "source": [
        "data_collator = DataCollatorForTokenClassification(tokenizer=tokenizer)"
      ]
    },
    {
      "cell_type": "code",
      "execution_count": null,
      "metadata": {
        "colab": {
          "base_uri": "https://localhost:8080/"
        },
        "id": "uVs3KisirM_u",
        "outputId": "7acc3347-fe04-4d9a-dd6d-c238445706ab"
      },
      "outputs": [
        {
          "output_type": "stream",
          "name": "stderr",
          "text": [
            "You're using a BertTokenizerFast tokenizer. Please note that with a fast tokenizer, using the `__call__` method is faster than using a method to encode the text followed by a call to the `pad` method to get a padded encoding.\n"
          ]
        },
        {
          "output_type": "execute_result",
          "data": {
            "text/plain": [
              "tensor([[-100,    0,    0,    0,    0,    0,    0,    0,    0,    0,    0,    0,\n",
              "            0,    0,    0,    0,    0,    0,    0,    0,    1,    2,    2,    0,\n",
              "            1,    2,    0,    0,    0,    0,    0,    0,    0,    0, -100],\n",
              "        [-100,    0,    0,    0,    0,    0,    0,    3,    4,    4,    0,    0,\n",
              "            0,    0,    0,    0,    0,    0,    0,    0,    0,    0,    0,    0,\n",
              "            0,    0,    0,    0,    0,    0,    0,    0,    0, -100, -100]])"
            ]
          },
          "metadata": {},
          "execution_count": 25
        }
      ],
      "source": [
        "batch = data_collator([tokenized_datasets[\"train\"][i] for i in range(2)])\n",
        "batch[\"labels\"]"
      ]
    },
    {
      "cell_type": "code",
      "execution_count": null,
      "metadata": {
        "colab": {
          "base_uri": "https://localhost:8080/"
        },
        "id": "OgMnLaWsrRE4",
        "outputId": "b78b3005-0fb5-494d-e4b5-8d0c0b02ed7a"
      },
      "outputs": [
        {
          "output_type": "stream",
          "name": "stdout",
          "text": [
            "[-100, 0, 0, 0, 0, 0, 0, 0, 0, 0, 0, 0, 0, 0, 0, 0, 0, 0, 0, 0, 1, 2, 2, 0, 1, 2, 0, 0, 0, 0, 0, 0, 0, 0, -100]\n",
            "[-100, 0, 0, 0, 0, 0, 0, 3, 4, 4, 0, 0, 0, 0, 0, 0, 0, 0, 0, 0, 0, 0, 0, 0, 0, 0, 0, 0, 0, 0, 0, 0, 0, -100]\n"
          ]
        }
      ],
      "source": [
        "for i in range(2):\n",
        "    print(tokenized_datasets[\"train\"][i][\"labels\"])"
      ]
    },
    {
      "cell_type": "markdown",
      "metadata": {
        "id": "ZoT4KrAp0doI"
      },
      "source": [
        "# Task 3\n",
        "Evaluation and metrics"
      ]
    },
    {
      "cell_type": "code",
      "execution_count": null,
      "metadata": {
        "id": "5HXph9ej0khm"
      },
      "outputs": [],
      "source": [
        "metric = evaluate.load(\"seqeval\")"
      ]
    },
    {
      "cell_type": "code",
      "execution_count": null,
      "metadata": {
        "id": "IYuAyQFm124I"
      },
      "outputs": [],
      "source": [
        "import numpy as np\n",
        "\n",
        "\n",
        "def compute_metrics(eval_preds):\n",
        "    logits, labels = eval_preds\n",
        "    predictions = np.argmax(logits, axis=-1)\n",
        "\n",
        "    # Remove ignored index (special tokens) and convert to labels\n",
        "    true_labels = [[label_names[l] for l in label if l != -100] for label in labels]\n",
        "    true_predictions = [\n",
        "        [label_names[p] for (p, l) in zip(prediction, label) if l != -100]\n",
        "        for prediction, label in zip(predictions, labels)\n",
        "    ]\n",
        "    all_metrics = metric.compute(predictions=true_predictions, references=true_labels)\n",
        "    return {\n",
        "        \"precision\": all_metrics[\"overall_precision\"],\n",
        "        \"recall\": all_metrics[\"overall_recall\"],\n",
        "        \"f1\": all_metrics[\"overall_f1\"],\n",
        "        \"accuracy\": all_metrics[\"overall_accuracy\"],\n",
        "    }"
      ]
    },
    {
      "cell_type": "markdown",
      "metadata": {
        "id": "7NMSPSWw2puH"
      },
      "source": [
        "# Task 4"
      ]
    },
    {
      "cell_type": "code",
      "execution_count": null,
      "metadata": {
        "id": "FD2UiffV5rto"
      },
      "outputs": [],
      "source": [
        "id2label = {i: label for i, label in enumerate(label_names)}\n",
        "label2id = {v: k for k, v in id2label.items()}\n"
      ]
    },
    {
      "cell_type": "code",
      "execution_count": null,
      "metadata": {
        "colab": {
          "base_uri": "https://localhost:8080/"
        },
        "id": "RL5jxJw354mF",
        "outputId": "dcf49172-554e-4613-f3c0-dfa0de3cb773"
      },
      "outputs": [
        {
          "output_type": "stream",
          "name": "stderr",
          "text": [
            "Some weights of BertForTokenClassification were not initialized from the model checkpoint at bert-base-cased and are newly initialized: ['classifier.weight', 'classifier.bias']\n",
            "You should probably TRAIN this model on a down-stream task to be able to use it for predictions and inference.\n"
          ]
        }
      ],
      "source": [
        "model = AutoModelForTokenClassification.from_pretrained(\n",
        "    model_checkpoint,\n",
        "    id2label=id2label,\n",
        "    label2id=label2id,\n",
        ")"
      ]
    },
    {
      "cell_type": "code",
      "execution_count": null,
      "metadata": {
        "colab": {
          "base_uri": "https://localhost:8080/"
        },
        "id": "8oldRMl84Qoa",
        "outputId": "bc4c3849-93b1-4263-f24e-4a17dfddff90"
      },
      "outputs": [
        {
          "output_type": "execute_result",
          "data": {
            "text/plain": [
              "13"
            ]
          },
          "metadata": {},
          "execution_count": 31
        }
      ],
      "source": [
        "model.config.num_labels"
      ]
    },
    {
      "cell_type": "code",
      "execution_count": null,
      "metadata": {
        "colab": {
          "base_uri": "https://localhost:8080/",
          "height": 145,
          "referenced_widgets": [
            "29ba1e1fb228411c8e01d9fe4836daf9",
            "af7df0a22b3b4992a7138017c25ceb6e",
            "fa670104a98a4ec7bb450f743bfad052",
            "9eaba1838fc147f8a204ffc94e85286b",
            "4048ef50f24446dca953a4f84aa0a81c",
            "e3db5035e8894119b6492b9a2167ae3f",
            "71a892fc0e2142eca06f83841e64cf37",
            "31cad55c507f465b8d9b1ca7bdd2461c",
            "a2a05692227e4a07b5fa17212c67a380",
            "1774e5b023434d06920f03f419b72959",
            "605d0fd953e743f48104f8c4c069e104",
            "a3d07711a5a3484e894e56db7dbdcfd9",
            "6c499d5b430d4620a57d7138627d6f93",
            "f445f03771b44e62ae6d39e55a78f0b1",
            "2975bb63073e49ecad9955e50141ee2d",
            "c0b76f61202b49c39f01d593586deae2",
            "095fce6da65442ef832f9666f6531499",
            "51158231ba5a42bea0244f849ae44a31",
            "7be57308266c48e1ae976a21aea0fd45",
            "763338da6ad54da1afd4ad62997e4c2c",
            "b0a974d1092641449d90376a7c0ce97f",
            "53c655a8396f46348a891d09231d3481",
            "21914cdbabfa41888229c2a9b5f5a6c1",
            "97255b092093460d9ed7a1b241663254",
            "673f0cf090b24bfab0eca5119fea3dc5",
            "7e54a152992f48b98dedb31a695bd569",
            "95dca42ef0bb43918dd03852d901216a",
            "7576d5bea4544f7d88a48e4201184573",
            "2bdd14c0bf064189aea5f3a08d8efaf4",
            "b569a979a95a405eba6daae34831fa9a",
            "4cb946f9863c4a5ca74caf91c5f1eb61",
            "26b444229516425d8955eb1cbd0f01d5"
          ]
        },
        "id": "GA3i8phK59DO",
        "outputId": "3fe90e62-dde3-45df-c006-c25274716272"
      },
      "outputs": [
        {
          "output_type": "display_data",
          "data": {
            "text/plain": [
              "VBox(children=(HTML(value='<center> <img\\nsrc=https://huggingface.co/front/assets/huggingface_logo-noborder.sv…"
            ],
            "application/vnd.jupyter.widget-view+json": {
              "version_major": 2,
              "version_minor": 0,
              "model_id": "29ba1e1fb228411c8e01d9fe4836daf9"
            }
          },
          "metadata": {}
        }
      ],
      "source": [
        "notebook_login() #reading token\n"
      ]
    },
    {
      "cell_type": "code",
      "execution_count": null,
      "metadata": {
        "colab": {
          "base_uri": "https://localhost:8080/",
          "height": 145,
          "referenced_widgets": [
            "e9d910aa6a904123b85c2f1e5b6decd5",
            "a380e42bb67b4029b7a875cc5ba0a19e",
            "5fe8599c2eda495b8ada07095299b922",
            "b9e0ca55bb324a48b265d7fb3b1f1e3e",
            "e6f75def9a544a2f8d1008ab292793d8",
            "be6cdb4083f54f8290a101e0ea8295d7",
            "93085b0489854f86849b403a8569554b",
            "907f9a6a2ef94e1aaab87ee8ecbd1c34",
            "d6af09e1e76747ce9e9732cb99f0fce1",
            "e9d2643224e144938aa92cf21cd242c1",
            "de6123e4ee8f4062b252b949b55151f8",
            "7389eb0841c54046bdb169b2d87ee698",
            "2099092526a24357bae399a7c257019f",
            "b817faca35f845b59f6e0bd663cfdcd0",
            "c687d23394bd4ef9add868df92dbcabb",
            "c4290f7f952d4ae69011379fdfea6cfc",
            "598d869762c64b8985cfe0fcbc83db45",
            "432a5ea502ba4d598dfdd0b9a2b72274",
            "1e204428ab3441368ef3d16719ead496",
            "9aef5df9c05c4fe79400494c64782471",
            "6d07ac38a91148ecbb42b9a92c3de1a3",
            "f6a7b3f9ec944b05b81358a07f498996",
            "8e9c6d29c3194b00a2935eff7a5d721b",
            "0ef5491972194dff98f7853b555929db",
            "96cda95e22c14098b6e3f82685671ab6",
            "f402cfbcb5a94fd09262a169d4bd2507",
            "fd30c2f98af843d49842e5393a7e6764",
            "23cd006e82054b7c8f77baeda0f54772",
            "7d34a4c551994c17b2aeba57aee10665",
            "a030d888a11a4b96b7c345cce7cf37f2",
            "0b8fcacd772742e3adaca9f0849d4ca0",
            "dcdda3b5094b41e48227264d25889f81"
          ]
        },
        "id": "ekKUuhFA-nwX",
        "outputId": "9471669b-dd79-402e-f081-351da9d2d2cf"
      },
      "outputs": [
        {
          "output_type": "display_data",
          "data": {
            "text/plain": [
              "VBox(children=(HTML(value='<center> <img\\nsrc=https://huggingface.co/front/assets/huggingface_logo-noborder.sv…"
            ],
            "application/vnd.jupyter.widget-view+json": {
              "version_major": 2,
              "version_minor": 0,
              "model_id": "e9d910aa6a904123b85c2f1e5b6decd5"
            }
          },
          "metadata": {}
        }
      ],
      "source": [
        "notebook_login() # writting token"
      ]
    },
    {
      "cell_type": "code",
      "execution_count": null,
      "metadata": {
        "id": "_0gFWnD16QjD"
      },
      "outputs": [],
      "source": [
        "args = TrainingArguments(\n",
        "    \"bert-finetuned-ner\",\n",
        "    evaluation_strategy=\"epoch\",\n",
        "    save_strategy=\"epoch\",\n",
        "    learning_rate=2e-5,\n",
        "    num_train_epochs=3,\n",
        "    weight_decay=0.01,\n",
        "    push_to_hub=True,\n",
        ")"
      ]
    },
    {
      "cell_type": "code",
      "execution_count": null,
      "metadata": {
        "colab": {
          "base_uri": "https://localhost:8080/",
          "height": 187
        },
        "id": "HSTKK-OeE3Yq",
        "outputId": "2d49ae68-5ad7-4778-fa52-3963f50be222",
        "scrolled": true
      },
      "outputs": [
        {
          "output_type": "display_data",
          "data": {
            "text/plain": [
              "<IPython.core.display.HTML object>"
            ],
            "text/html": [
              "\n",
              "    <div>\n",
              "      \n",
              "      <progress value='1275' max='1275' style='width:300px; height:20px; vertical-align: middle;'></progress>\n",
              "      [1275/1275 03:34, Epoch 3/3]\n",
              "    </div>\n",
              "    <table border=\"1\" class=\"dataframe\">\n",
              "  <thead>\n",
              " <tr style=\"text-align: left;\">\n",
              "      <th>Epoch</th>\n",
              "      <th>Training Loss</th>\n",
              "      <th>Validation Loss</th>\n",
              "      <th>Precision</th>\n",
              "      <th>Recall</th>\n",
              "      <th>F1</th>\n",
              "      <th>Accuracy</th>\n",
              "    </tr>\n",
              "  </thead>\n",
              "  <tbody>\n",
              "    <tr>\n",
              "      <td>1</td>\n",
              "      <td>No log</td>\n",
              "      <td>0.474795</td>\n",
              "      <td>0.513619</td>\n",
              "      <td>0.341969</td>\n",
              "      <td>0.410575</td>\n",
              "      <td>0.931809</td>\n",
              "    </tr>\n",
              "    <tr>\n",
              "      <td>2</td>\n",
              "      <td>0.029100</td>\n",
              "      <td>0.577936</td>\n",
              "      <td>0.585732</td>\n",
              "      <td>0.303109</td>\n",
              "      <td>0.399488</td>\n",
              "      <td>0.931784</td>\n",
              "    </tr>\n",
              "    <tr>\n",
              "      <td>3</td>\n",
              "      <td>0.013500</td>\n",
              "      <td>0.570911</td>\n",
              "      <td>0.558621</td>\n",
              "      <td>0.314767</td>\n",
              "      <td>0.402651</td>\n",
              "      <td>0.931985</td>\n",
              "    </tr>\n",
              "  </tbody>\n",
              "</table><p>"
            ]
          },
          "metadata": {}
        },
        {
          "output_type": "execute_result",
          "data": {
            "text/plain": [
              "TrainOutput(global_step=1275, training_loss=0.0191681235444312, metrics={'train_runtime': 214.2748, 'train_samples_per_second': 47.518, 'train_steps_per_second': 5.95, 'total_flos': 289506808910040.0, 'train_loss': 0.0191681235444312, 'epoch': 3.0})"
            ]
          },
          "metadata": {},
          "execution_count": 43
        }
      ],
      "source": [
        "trainer = Trainer(\n",
        "    model=model,\n",
        "    args=args,\n",
        "    train_dataset=tokenized_datasets[\"train\"],\n",
        "    eval_dataset=tokenized_datasets[\"test\"],\n",
        "    data_collator=data_collator,\n",
        "    compute_metrics=compute_metrics,\n",
        "    tokenizer=tokenizer,\n",
        ")\n",
        "trainer.train()\n"
      ]
    },
    {
      "cell_type": "code",
      "execution_count": null,
      "metadata": {
        "colab": {
          "base_uri": "https://localhost:8080/",
          "height": 226
        },
        "id": "C1Mn7m8gnizg",
        "outputId": "ccfb0ea8-0538-41a3-e665-3a16ca19c62d"
      },
      "outputs": [
        {
          "data": {
            "text/html": [
              "\n",
              "    <div>\n",
              "      \n",
              "      <progress value='1275' max='1275' style='width:300px; height:20px; vertical-align: middle;'></progress>\n",
              "      [1275/1275 03:21, Epoch 3/3]\n",
              "    </div>\n",
              "    <table border=\"1\" class=\"dataframe\">\n",
              "  <thead>\n",
              " <tr style=\"text-align: left;\">\n",
              "      <th>Epoch</th>\n",
              "      <th>Training Loss</th>\n",
              "      <th>Validation Loss</th>\n",
              "      <th>Precision</th>\n",
              "      <th>Recall</th>\n",
              "      <th>F1</th>\n",
              "      <th>Accuracy</th>\n",
              "    </tr>\n",
              "  </thead>\n",
              "  <tbody>\n",
              "    <tr>\n",
              "      <td>1</td>\n",
              "      <td>No log</td>\n",
              "      <td>0.880355</td>\n",
              "      <td>0.523810</td>\n",
              "      <td>0.214345</td>\n",
              "      <td>0.304207</td>\n",
              "      <td>0.928543</td>\n",
              "    </tr>\n",
              "    <tr>\n",
              "      <td>2</td>\n",
              "      <td>0.001600</td>\n",
              "      <td>0.986134</td>\n",
              "      <td>0.557962</td>\n",
              "      <td>0.181592</td>\n",
              "      <td>0.274007</td>\n",
              "      <td>0.928141</td>\n",
              "    </tr>\n",
              "    <tr>\n",
              "      <td>3</td>\n",
              "      <td>0.001500</td>\n",
              "      <td>0.972839</td>\n",
              "      <td>0.564838</td>\n",
              "      <td>0.187811</td>\n",
              "      <td>0.281892</td>\n",
              "      <td>0.928191</td>\n",
              "    </tr>\n",
              "  </tbody>\n",
              "</table><p>"
            ],
            "text/plain": [
              "<IPython.core.display.HTML object>"
            ]
          },
          "metadata": {},
          "output_type": "display_data"
        },
        {
          "data": {
            "text/html": [
              "\n",
              "    <div>\n",
              "      \n",
              "      <progress value='161' max='161' style='width:300px; height:20px; vertical-align: middle;'></progress>\n",
              "      [161/161 00:05]\n",
              "    </div>\n",
              "    "
            ],
            "text/plain": [
              "<IPython.core.display.HTML object>"
            ]
          },
          "metadata": {},
          "output_type": "display_data"
        },
        {
          "name": "stdout",
          "output_type": "stream",
          "text": [
            "Test Results: {'eval_loss': 0.9728385210037231, 'eval_precision': 0.5648379052369077, 'eval_recall': 0.18781094527363185, 'eval_f1': 0.28189172370877413, 'eval_accuracy': 0.9281909547738694, 'eval_runtime': 6.2486, 'eval_samples_per_second': 205.966, 'eval_steps_per_second': 25.766, 'epoch': 3.0}\n"
          ]
        }
      ],
      "source": [
        "args = TrainingArguments(\n",
        "    \"bert-finetuned-ner\",\n",
        "    evaluation_strategy=\"epoch\",\n",
        "    save_strategy=\"epoch\",\n",
        "    learning_rate=2e-5,\n",
        "    num_train_epochs=3,\n",
        "    weight_decay=0.01,\n",
        "    push_to_hub=True,\n",
        ")\n",
        "\n",
        "# Create Trainer with the current model and arguments\n",
        "trainer = Trainer(\n",
        "    model=model,\n",
        "    args=args,\n",
        "    train_dataset=tokenized_datasets[\"train\"],\n",
        "    eval_dataset=tokenized_datasets[\"test\"],  # Use the test set for evaluation during training\n",
        "    data_collator=data_collator,\n",
        "    compute_metrics=compute_metrics,\n",
        "    tokenizer=tokenizer,\n",
        ")\n",
        "\n",
        "# Train the model with the current hyperparameters\n",
        "trainer.train()\n",
        "\n",
        "# After training, evaluate the model on the test set\n",
        "test_results = trainer.evaluate(tokenized_datasets[\"test\"])\n",
        "\n",
        "# Print and/or store the results for this hyperparameter combination\n",
        "print(f\"Test Results: {test_results}\")\n"
      ]
    },
    {
      "cell_type": "markdown",
      "metadata": {
        "id": "aL2PEVW7nizg"
      },
      "source": [
        "# Task 5 Hyperparameters tuning\n",
        "Tuning learning rate and batch size with gradient accumulation because of GPU memory problems."
      ]
    },
    {
      "cell_type": "code",
      "execution_count": null,
      "metadata": {
        "colab": {
          "base_uri": "https://localhost:8080/",
          "height": 244
        },
        "id": "X1QdHugkqU9G",
        "outputId": "7656ff24-3fb9-415c-c560-c8fec855e80e"
      },
      "outputs": [
        {
          "data": {
            "text/html": [
              "\n",
              "    <div>\n",
              "      \n",
              "      <progress value='2547' max='2547' style='width:300px; height:20px; vertical-align: middle;'></progress>\n",
              "      [2547/2547 04:19, Epoch 3/3]\n",
              "    </div>\n",
              "    <table border=\"1\" class=\"dataframe\">\n",
              "  <thead>\n",
              " <tr style=\"text-align: left;\">\n",
              "      <th>Epoch</th>\n",
              "      <th>Training Loss</th>\n",
              "      <th>Validation Loss</th>\n",
              "      <th>Precision</th>\n",
              "      <th>Recall</th>\n",
              "      <th>F1</th>\n",
              "      <th>Accuracy</th>\n",
              "    </tr>\n",
              "  </thead>\n",
              "  <tbody>\n",
              "    <tr>\n",
              "      <td>1</td>\n",
              "      <td>0.020400</td>\n",
              "      <td>0.889384</td>\n",
              "      <td>0.680328</td>\n",
              "      <td>0.315190</td>\n",
              "      <td>0.430796</td>\n",
              "      <td>0.915868</td>\n",
              "    </tr>\n",
              "    <tr>\n",
              "      <td>2</td>\n",
              "      <td>0.021300</td>\n",
              "      <td>0.805429</td>\n",
              "      <td>0.668213</td>\n",
              "      <td>0.364557</td>\n",
              "      <td>0.471744</td>\n",
              "      <td>0.917046</td>\n",
              "    </tr>\n",
              "    <tr>\n",
              "      <td>3</td>\n",
              "      <td>0.009000</td>\n",
              "      <td>0.720928</td>\n",
              "      <td>0.697917</td>\n",
              "      <td>0.381646</td>\n",
              "      <td>0.493453</td>\n",
              "      <td>0.921327</td>\n",
              "    </tr>\n",
              "  </tbody>\n",
              "</table><p>"
            ],
            "text/plain": [
              "<IPython.core.display.HTML object>"
            ]
          },
          "metadata": {},
          "output_type": "display_data"
        },
        {
          "data": {
            "text/html": [
              "\n",
              "    <div>\n",
              "      \n",
              "      <progress value='161' max='161' style='width:300px; height:20px; vertical-align: middle;'></progress>\n",
              "      [161/161 00:05]\n",
              "    </div>\n",
              "    "
            ],
            "text/plain": [
              "<IPython.core.display.HTML object>"
            ]
          },
          "metadata": {},
          "output_type": "display_data"
        },
        {
          "name": "stdout",
          "output_type": "stream",
          "text": [
            "Test Results:\n",
            "{'eval_loss': 0.7523127198219299, 'eval_precision': 0.5814249363867684, 'eval_recall': 0.189469320066335, 'eval_f1': 0.2858036272670419, 'eval_accuracy': 0.929321608040201, 'eval_runtime': 6.2163, 'eval_samples_per_second': 207.037, 'eval_steps_per_second': 25.9, 'epoch': 3.0}\n"
          ]
        }
      ],
      "source": [
        "args_combination_1 = TrainingArguments(\n",
        "    \"bert-finetuned-ner-combination-1\",\n",
        "    evaluation_strategy=\"epoch\",\n",
        "    save_strategy=\"epoch\",\n",
        "    learning_rate=1e-4,\n",
        "    num_train_epochs=3,\n",
        "    weight_decay=0.01,\n",
        "    per_device_train_batch_size=4,\n",
        "    push_to_hub=True,\n",
        ")\n",
        "\n",
        "trainer = Trainer(\n",
        "    model=model,\n",
        "    args=args_combination_1,\n",
        "    train_dataset=tokenized_datasets[\"train\"],\n",
        "    eval_dataset=tokenized_datasets[\"validation\"],  # Use the \"validation\" set for hyperparameter optimization\n",
        "    data_collator=data_collator,\n",
        "    compute_metrics=compute_metrics,\n",
        "    tokenizer=tokenizer,\n",
        ")\n",
        "\n",
        "trainer.train()\n",
        "\n",
        "# After training, evaluate the model on the test set\n",
        "test_results = trainer.evaluate(tokenized_datasets[\"test\"])\n",
        "\n",
        "# Print the test results\n",
        "print(\"Test Results:\")\n",
        "print(test_results)"
      ]
    },
    {
      "cell_type": "code",
      "execution_count": null,
      "metadata": {
        "colab": {
          "base_uri": "https://localhost:8080/",
          "height": 244
        },
        "id": "39z8bT9Cv2Yw",
        "outputId": "ee9529f9-a992-457c-d4eb-cc0347f2d538"
      },
      "outputs": [
        {
          "data": {
            "text/html": [
              "\n",
              "    <div>\n",
              "      \n",
              "      <progress value='849' max='849' style='width:300px; height:20px; vertical-align: middle;'></progress>\n",
              "      [849/849 02:53, Epoch 3/3]\n",
              "    </div>\n",
              "    <table border=\"1\" class=\"dataframe\">\n",
              "  <thead>\n",
              " <tr style=\"text-align: left;\">\n",
              "      <th>Epoch</th>\n",
              "      <th>Training Loss</th>\n",
              "      <th>Validation Loss</th>\n",
              "      <th>Precision</th>\n",
              "      <th>Recall</th>\n",
              "      <th>F1</th>\n",
              "      <th>Accuracy</th>\n",
              "    </tr>\n",
              "  </thead>\n",
              "  <tbody>\n",
              "    <tr>\n",
              "      <td>1</td>\n",
              "      <td>No log</td>\n",
              "      <td>0.847894</td>\n",
              "      <td>0.670058</td>\n",
              "      <td>0.291772</td>\n",
              "      <td>0.406526</td>\n",
              "      <td>0.913085</td>\n",
              "    </tr>\n",
              "    <tr>\n",
              "      <td>2</td>\n",
              "      <td>0.013500</td>\n",
              "      <td>0.622215</td>\n",
              "      <td>0.675138</td>\n",
              "      <td>0.386709</td>\n",
              "      <td>0.491751</td>\n",
              "      <td>0.920739</td>\n",
              "    </tr>\n",
              "    <tr>\n",
              "      <td>3</td>\n",
              "      <td>0.013500</td>\n",
              "      <td>0.652038</td>\n",
              "      <td>0.658026</td>\n",
              "      <td>0.417722</td>\n",
              "      <td>0.511034</td>\n",
              "      <td>0.923307</td>\n",
              "    </tr>\n",
              "  </tbody>\n",
              "</table><p>"
            ],
            "text/plain": [
              "<IPython.core.display.HTML object>"
            ]
          },
          "metadata": {},
          "output_type": "display_data"
        },
        {
          "data": {
            "text/html": [
              "\n",
              "    <div>\n",
              "      \n",
              "      <progress value='161' max='161' style='width:300px; height:20px; vertical-align: middle;'></progress>\n",
              "      [161/161 00:05]\n",
              "    </div>\n",
              "    "
            ],
            "text/plain": [
              "<IPython.core.display.HTML object>"
            ]
          },
          "metadata": {},
          "output_type": "display_data"
        },
        {
          "name": "stdout",
          "output_type": "stream",
          "text": [
            "Test Results:\n",
            "{'eval_loss': 0.7375848889350891, 'eval_precision': 0.5557986870897156, 'eval_recall': 0.21061359867330018, 'eval_f1': 0.30547203848466625, 'eval_accuracy': 0.9295477386934673, 'eval_runtime': 6.8643, 'eval_samples_per_second': 187.492, 'eval_steps_per_second': 23.455, 'epoch': 3.0}\n"
          ]
        }
      ],
      "source": [
        "args_combination_2 = TrainingArguments(\n",
        "    \"bert-finetuned-ner-combination-2\",\n",
        "    evaluation_strategy=\"epoch\",\n",
        "    save_strategy=\"epoch\",\n",
        "    learning_rate=1e-4,\n",
        "    num_train_epochs=3,\n",
        "    weight_decay=0.01,\n",
        "    per_device_train_batch_size=12,\n",
        "    push_to_hub=True,\n",
        ")\n",
        "trainer = Trainer(\n",
        "    model=model,\n",
        "    args=args_combination_2,\n",
        "    train_dataset=tokenized_datasets[\"train\"],\n",
        "    eval_dataset=tokenized_datasets[\"validation\"],  # Use the \"validation\" set for hyperparameter optimization\n",
        "    data_collator=data_collator,\n",
        "    compute_metrics=compute_metrics,\n",
        "    tokenizer=tokenizer,\n",
        ")\n",
        "\n",
        "trainer.train()\n",
        "\n",
        "# After training, evaluate the model on the test set\n",
        "test_results = trainer.evaluate(tokenized_datasets[\"test\"])\n",
        "\n",
        "# Print the test results\n",
        "print(\"Test Results:\")\n",
        "print(test_results)"
      ]
    },
    {
      "cell_type": "code",
      "execution_count": null,
      "metadata": {
        "colab": {
          "base_uri": "https://localhost:8080/",
          "height": 244
        },
        "id": "SmBpcMfPv8S1",
        "outputId": "2f9e417e-1984-44e4-8e3b-5198761bf5de"
      },
      "outputs": [
        {
          "data": {
            "text/html": [
              "\n",
              "    <div>\n",
              "      \n",
              "      <progress value='2547' max='2547' style='width:300px; height:20px; vertical-align: middle;'></progress>\n",
              "      [2547/2547 04:15, Epoch 3/3]\n",
              "    </div>\n",
              "    <table border=\"1\" class=\"dataframe\">\n",
              "  <thead>\n",
              " <tr style=\"text-align: left;\">\n",
              "      <th>Epoch</th>\n",
              "      <th>Training Loss</th>\n",
              "      <th>Validation Loss</th>\n",
              "      <th>Precision</th>\n",
              "      <th>Recall</th>\n",
              "      <th>F1</th>\n",
              "      <th>Accuracy</th>\n",
              "    </tr>\n",
              "  </thead>\n",
              "  <tbody>\n",
              "    <tr>\n",
              "      <td>1</td>\n",
              "      <td>0.007900</td>\n",
              "      <td>0.912543</td>\n",
              "      <td>0.693935</td>\n",
              "      <td>0.311392</td>\n",
              "      <td>0.429882</td>\n",
              "      <td>0.916350</td>\n",
              "    </tr>\n",
              "    <tr>\n",
              "      <td>2</td>\n",
              "      <td>0.005700</td>\n",
              "      <td>0.823483</td>\n",
              "      <td>0.711230</td>\n",
              "      <td>0.336709</td>\n",
              "      <td>0.457045</td>\n",
              "      <td>0.917688</td>\n",
              "    </tr>\n",
              "    <tr>\n",
              "      <td>3</td>\n",
              "      <td>0.005900</td>\n",
              "      <td>0.730988</td>\n",
              "      <td>0.681406</td>\n",
              "      <td>0.380380</td>\n",
              "      <td>0.488221</td>\n",
              "      <td>0.920953</td>\n",
              "    </tr>\n",
              "  </tbody>\n",
              "</table><p>"
            ],
            "text/plain": [
              "<IPython.core.display.HTML object>"
            ]
          },
          "metadata": {},
          "output_type": "display_data"
        },
        {
          "data": {
            "text/html": [
              "\n",
              "    <div>\n",
              "      \n",
              "      <progress value='161' max='161' style='width:300px; height:20px; vertical-align: middle;'></progress>\n",
              "      [161/161 00:05]\n",
              "    </div>\n",
              "    "
            ],
            "text/plain": [
              "<IPython.core.display.HTML object>"
            ]
          },
          "metadata": {},
          "output_type": "display_data"
        },
        {
          "name": "stdout",
          "output_type": "stream",
          "text": [
            "Test Results:\n",
            "{'eval_loss': 0.8010109066963196, 'eval_precision': 0.5705596107055961, 'eval_recall': 0.19444444444444445, 'eval_f1': 0.29004329004329005, 'eval_accuracy': 0.9292713567839196, 'eval_runtime': 6.8971, 'eval_samples_per_second': 186.599, 'eval_steps_per_second': 23.343, 'epoch': 3.0}\n"
          ]
        }
      ],
      "source": [
        "args_combination_3 = TrainingArguments(\n",
        "    \"bert-finetuned-ner-combination-3\",\n",
        "    evaluation_strategy=\"epoch\",\n",
        "    save_strategy=\"epoch\",\n",
        "    learning_rate=5e-5,\n",
        "    num_train_epochs=3,\n",
        "    weight_decay=0.01,\n",
        "    per_device_train_batch_size=4,\n",
        "    push_to_hub=True,\n",
        ")\n",
        "trainer = Trainer(\n",
        "    model=model,\n",
        "    args=args_combination_3,\n",
        "    train_dataset=tokenized_datasets[\"train\"],\n",
        "    eval_dataset=tokenized_datasets[\"validation\"],  # Use the \"validation\" set for hyperparameter optimization\n",
        "    data_collator=data_collator,\n",
        "    compute_metrics=compute_metrics,\n",
        "    tokenizer=tokenizer,\n",
        ")\n",
        "\n",
        "trainer.train()\n",
        "\n",
        "# After training, evaluate the model on the test set\n",
        "test_results = trainer.evaluate(tokenized_datasets[\"test\"])\n",
        "\n",
        "# Print the test results\n",
        "print(\"Test Results:\")\n",
        "print(test_results)"
      ]
    },
    {
      "cell_type": "code",
      "execution_count": null,
      "metadata": {
        "colab": {
          "base_uri": "https://localhost:8080/",
          "height": 244
        },
        "id": "PJikXVzrwDlE",
        "outputId": "f6fdfb47-fd46-47d8-99b2-c94c41573827"
      },
      "outputs": [
        {
          "data": {
            "text/html": [
              "\n",
              "    <div>\n",
              "      \n",
              "      <progress value='849' max='849' style='width:300px; height:20px; vertical-align: middle;'></progress>\n",
              "      [849/849 02:45, Epoch 3/3]\n",
              "    </div>\n",
              "    <table border=\"1\" class=\"dataframe\">\n",
              "  <thead>\n",
              " <tr style=\"text-align: left;\">\n",
              "      <th>Epoch</th>\n",
              "      <th>Training Loss</th>\n",
              "      <th>Validation Loss</th>\n",
              "      <th>Precision</th>\n",
              "      <th>Recall</th>\n",
              "      <th>F1</th>\n",
              "      <th>Accuracy</th>\n",
              "    </tr>\n",
              "  </thead>\n",
              "  <tbody>\n",
              "    <tr>\n",
              "      <td>1</td>\n",
              "      <td>No log</td>\n",
              "      <td>0.859605</td>\n",
              "      <td>0.712379</td>\n",
              "      <td>0.371519</td>\n",
              "      <td>0.488353</td>\n",
              "      <td>0.920257</td>\n",
              "    </tr>\n",
              "    <tr>\n",
              "      <td>2</td>\n",
              "      <td>0.003900</td>\n",
              "      <td>0.706297</td>\n",
              "      <td>0.664888</td>\n",
              "      <td>0.394304</td>\n",
              "      <td>0.495034</td>\n",
              "      <td>0.921916</td>\n",
              "    </tr>\n",
              "    <tr>\n",
              "      <td>3</td>\n",
              "      <td>0.003900</td>\n",
              "      <td>0.662699</td>\n",
              "      <td>0.643917</td>\n",
              "      <td>0.412025</td>\n",
              "      <td>0.502509</td>\n",
              "      <td>0.924699</td>\n",
              "    </tr>\n",
              "  </tbody>\n",
              "</table><p>"
            ],
            "text/plain": [
              "<IPython.core.display.HTML object>"
            ]
          },
          "metadata": {},
          "output_type": "display_data"
        },
        {
          "data": {
            "text/html": [
              "\n",
              "    <div>\n",
              "      \n",
              "      <progress value='161' max='161' style='width:300px; height:20px; vertical-align: middle;'></progress>\n",
              "      [161/161 00:05]\n",
              "    </div>\n",
              "    "
            ],
            "text/plain": [
              "<IPython.core.display.HTML object>"
            ]
          },
          "metadata": {},
          "output_type": "display_data"
        },
        {
          "name": "stdout",
          "output_type": "stream",
          "text": [
            "Test Results:\n",
            "{'eval_loss': 0.7843152284622192, 'eval_precision': 0.5411764705882353, 'eval_recall': 0.20978441127694858, 'eval_f1': 0.3023603226770242, 'eval_accuracy': 0.9294221105527638, 'eval_runtime': 6.4846, 'eval_samples_per_second': 198.469, 'eval_steps_per_second': 24.828, 'epoch': 3.0}\n"
          ]
        }
      ],
      "source": [
        "args_combination_4 = TrainingArguments(\n",
        "    \"bert-finetuned-ner-combination-4\",\n",
        "    evaluation_strategy=\"epoch\",\n",
        "    save_strategy=\"epoch\",\n",
        "    learning_rate=5e-5,\n",
        "    num_train_epochs=3,\n",
        "    weight_decay=0.01,\n",
        "    per_device_train_batch_size=12,\n",
        "    push_to_hub=True,\n",
        ")\n",
        "trainer = Trainer(\n",
        "    model=model,\n",
        "    args=args_combination_4,\n",
        "    train_dataset=tokenized_datasets[\"train\"],\n",
        "    eval_dataset=tokenized_datasets[\"validation\"],  # Use the \"validation\" set for hyperparameter optimization\n",
        "    data_collator=data_collator,\n",
        "    compute_metrics=compute_metrics,\n",
        "    tokenizer=tokenizer,\n",
        ")\n",
        "\n",
        "trainer.train()\n",
        "\n",
        "# After training, evaluate the model on the test set\n",
        "test_results = trainer.evaluate(tokenized_datasets[\"test\"])\n",
        "\n",
        "# Print the test results\n",
        "print(\"Test Results:\")\n",
        "print(test_results)"
      ]
    },
    {
      "cell_type": "code",
      "execution_count": null,
      "metadata": {
        "colab": {
          "base_uri": "https://localhost:8080/",
          "height": 244
        },
        "id": "CmEkQahIwKRn",
        "outputId": "a52a4a46-ea54-4f11-9891-d403012b680e"
      },
      "outputs": [
        {
          "data": {
            "text/html": [
              "\n",
              "    <div>\n",
              "      \n",
              "      <progress value='2547' max='2547' style='width:300px; height:20px; vertical-align: middle;'></progress>\n",
              "      [2547/2547 04:15, Epoch 3/3]\n",
              "    </div>\n",
              "    <table border=\"1\" class=\"dataframe\">\n",
              "  <thead>\n",
              " <tr style=\"text-align: left;\">\n",
              "      <th>Epoch</th>\n",
              "      <th>Training Loss</th>\n",
              "      <th>Validation Loss</th>\n",
              "      <th>Precision</th>\n",
              "      <th>Recall</th>\n",
              "      <th>F1</th>\n",
              "      <th>Accuracy</th>\n",
              "    </tr>\n",
              "  </thead>\n",
              "  <tbody>\n",
              "    <tr>\n",
              "      <td>1</td>\n",
              "      <td>0.002400</td>\n",
              "      <td>0.857778</td>\n",
              "      <td>0.661905</td>\n",
              "      <td>0.351899</td>\n",
              "      <td>0.459504</td>\n",
              "      <td>0.919026</td>\n",
              "    </tr>\n",
              "    <tr>\n",
              "      <td>2</td>\n",
              "      <td>0.001600</td>\n",
              "      <td>0.860201</td>\n",
              "      <td>0.651672</td>\n",
              "      <td>0.357595</td>\n",
              "      <td>0.461790</td>\n",
              "      <td>0.919347</td>\n",
              "    </tr>\n",
              "    <tr>\n",
              "      <td>3</td>\n",
              "      <td>0.001600</td>\n",
              "      <td>0.845222</td>\n",
              "      <td>0.657778</td>\n",
              "      <td>0.374684</td>\n",
              "      <td>0.477419</td>\n",
              "      <td>0.920685</td>\n",
              "    </tr>\n",
              "  </tbody>\n",
              "</table><p>"
            ],
            "text/plain": [
              "<IPython.core.display.HTML object>"
            ]
          },
          "metadata": {},
          "output_type": "display_data"
        },
        {
          "data": {
            "text/html": [
              "\n",
              "    <div>\n",
              "      \n",
              "      <progress value='161' max='161' style='width:300px; height:20px; vertical-align: middle;'></progress>\n",
              "      [161/161 00:05]\n",
              "    </div>\n",
              "    "
            ],
            "text/plain": [
              "<IPython.core.display.HTML object>"
            ]
          },
          "metadata": {},
          "output_type": "display_data"
        },
        {
          "name": "stdout",
          "output_type": "stream",
          "text": [
            "Test Results:\n",
            "{'eval_loss': 0.8803117275238037, 'eval_precision': 0.5288888888888889, 'eval_recall': 0.19734660033167495, 'eval_f1': 0.28743961352657005, 'eval_accuracy': 0.9284673366834171, 'eval_runtime': 6.1025, 'eval_samples_per_second': 210.896, 'eval_steps_per_second': 26.382, 'epoch': 3.0}\n"
          ]
        }
      ],
      "source": [
        "args_combination_5 = TrainingArguments(\n",
        "    \"bert-finetuned-ner-combination-5\",\n",
        "    evaluation_strategy=\"epoch\",\n",
        "    save_strategy=\"epoch\",\n",
        "    learning_rate=2e-5,\n",
        "    num_train_epochs=3,\n",
        "    weight_decay=0.01,\n",
        "    per_device_train_batch_size=4,\n",
        "    push_to_hub=True,\n",
        ")\n",
        "trainer = Trainer(\n",
        "    model=model,\n",
        "    args=args_combination_5,\n",
        "    train_dataset=tokenized_datasets[\"train\"],\n",
        "    eval_dataset=tokenized_datasets[\"validation\"],  # Use the \"validation\" set for hyperparameter optimization\n",
        "    data_collator=data_collator,\n",
        "    compute_metrics=compute_metrics,\n",
        "    tokenizer=tokenizer,\n",
        ")\n",
        "\n",
        "trainer.train()\n",
        "\n",
        "# After training, evaluate the model on the test set\n",
        "test_results = trainer.evaluate(tokenized_datasets[\"test\"])\n",
        "\n",
        "# Print the test results\n",
        "print(\"Test Results:\")\n",
        "print(test_results)"
      ]
    },
    {
      "cell_type": "code",
      "execution_count": null,
      "metadata": {
        "colab": {
          "base_uri": "https://localhost:8080/",
          "height": 244
        },
        "id": "4WQaX8e2wOGd",
        "outputId": "dfd440e1-866f-41cb-8ada-1bef4a9c1fbe"
      },
      "outputs": [
        {
          "data": {
            "text/html": [
              "\n",
              "    <div>\n",
              "      \n",
              "      <progress value='849' max='849' style='width:300px; height:20px; vertical-align: middle;'></progress>\n",
              "      [849/849 02:49, Epoch 3/3]\n",
              "    </div>\n",
              "    <table border=\"1\" class=\"dataframe\">\n",
              "  <thead>\n",
              " <tr style=\"text-align: left;\">\n",
              "      <th>Epoch</th>\n",
              "      <th>Training Loss</th>\n",
              "      <th>Validation Loss</th>\n",
              "      <th>Precision</th>\n",
              "      <th>Recall</th>\n",
              "      <th>F1</th>\n",
              "      <th>Accuracy</th>\n",
              "    </tr>\n",
              "  </thead>\n",
              "  <tbody>\n",
              "    <tr>\n",
              "      <td>1</td>\n",
              "      <td>No log</td>\n",
              "      <td>0.862558</td>\n",
              "      <td>0.685979</td>\n",
              "      <td>0.374684</td>\n",
              "      <td>0.484650</td>\n",
              "      <td>0.921274</td>\n",
              "    </tr>\n",
              "    <tr>\n",
              "      <td>2</td>\n",
              "      <td>0.001500</td>\n",
              "      <td>0.970584</td>\n",
              "      <td>0.675776</td>\n",
              "      <td>0.344304</td>\n",
              "      <td>0.456184</td>\n",
              "      <td>0.918170</td>\n",
              "    </tr>\n",
              "    <tr>\n",
              "      <td>3</td>\n",
              "      <td>0.001500</td>\n",
              "      <td>0.945845</td>\n",
              "      <td>0.691624</td>\n",
              "      <td>0.344937</td>\n",
              "      <td>0.460304</td>\n",
              "      <td>0.918384</td>\n",
              "    </tr>\n",
              "  </tbody>\n",
              "</table><p>"
            ],
            "text/plain": [
              "<IPython.core.display.HTML object>"
            ]
          },
          "metadata": {},
          "output_type": "display_data"
        },
        {
          "data": {
            "text/html": [
              "\n",
              "    <div>\n",
              "      \n",
              "      <progress value='161' max='161' style='width:300px; height:20px; vertical-align: middle;'></progress>\n",
              "      [161/161 00:05]\n",
              "    </div>\n",
              "    "
            ],
            "text/plain": [
              "<IPython.core.display.HTML object>"
            ]
          },
          "metadata": {},
          "output_type": "display_data"
        },
        {
          "name": "stdout",
          "output_type": "stream",
          "text": [
            "Test Results:\n",
            "{'eval_loss': 0.9369379281997681, 'eval_precision': 0.5826558265582655, 'eval_recall': 0.17827529021558872, 'eval_f1': 0.273015873015873, 'eval_accuracy': 0.9279396984924623, 'eval_runtime': 6.1735, 'eval_samples_per_second': 208.471, 'eval_steps_per_second': 26.079, 'epoch': 3.0}\n"
          ]
        }
      ],
      "source": [
        "args_combination_6 = TrainingArguments(\n",
        "    \"bert-finetuned-ner-combination-6\",\n",
        "    evaluation_strategy=\"epoch\",\n",
        "    save_strategy=\"epoch\",\n",
        "    learning_rate=2e-5,\n",
        "    num_train_epochs=3,\n",
        "    weight_decay=0.01,\n",
        "    per_device_train_batch_size=12,\n",
        "    push_to_hub=True,\n",
        ")\n",
        "trainer = Trainer(\n",
        "    model=model,\n",
        "    args=args_combination_6,\n",
        "    train_dataset=tokenized_datasets[\"train\"],\n",
        "    eval_dataset=tokenized_datasets[\"validation\"],  # Use the \"validation\" set for hyperparameter optimization\n",
        "    data_collator=data_collator,\n",
        "    compute_metrics=compute_metrics,\n",
        "    tokenizer=tokenizer,\n",
        ")\n",
        "\n",
        "trainer.train()\n",
        "\n",
        "# After training, evaluate the model on the test set\n",
        "test_results = trainer.evaluate(tokenized_datasets[\"test\"])\n",
        "\n",
        "# Print the test results\n",
        "print(\"Test Results:\")\n",
        "print(test_results)"
      ]
    },
    {
      "cell_type": "code",
      "execution_count": null,
      "metadata": {
        "colab": {
          "base_uri": "https://localhost:8080/",
          "height": 244
        },
        "id": "gcpy4_Qwz3NL",
        "outputId": "2c06b1dc-8bf1-4122-ffe9-0b5bb0b8d0c5"
      },
      "outputs": [
        {
          "data": {
            "text/html": [
              "\n",
              "    <div>\n",
              "      \n",
              "      <progress value='849' max='849' style='width:300px; height:20px; vertical-align: middle;'></progress>\n",
              "      [849/849 02:54, Epoch 3/3]\n",
              "    </div>\n",
              "    <table border=\"1\" class=\"dataframe\">\n",
              "  <thead>\n",
              " <tr style=\"text-align: left;\">\n",
              "      <th>Epoch</th>\n",
              "      <th>Training Loss</th>\n",
              "      <th>Validation Loss</th>\n",
              "      <th>Precision</th>\n",
              "      <th>Recall</th>\n",
              "      <th>F1</th>\n",
              "      <th>Accuracy</th>\n",
              "    </tr>\n",
              "  </thead>\n",
              "  <tbody>\n",
              "    <tr>\n",
              "      <td>1</td>\n",
              "      <td>No log</td>\n",
              "      <td>0.934225</td>\n",
              "      <td>0.675386</td>\n",
              "      <td>0.359494</td>\n",
              "      <td>0.469228</td>\n",
              "      <td>0.920471</td>\n",
              "    </tr>\n",
              "    <tr>\n",
              "      <td>2</td>\n",
              "      <td>0.001100</td>\n",
              "      <td>0.971665</td>\n",
              "      <td>0.698473</td>\n",
              "      <td>0.347468</td>\n",
              "      <td>0.464074</td>\n",
              "      <td>0.919294</td>\n",
              "    </tr>\n",
              "    <tr>\n",
              "      <td>3</td>\n",
              "      <td>0.001100</td>\n",
              "      <td>1.008281</td>\n",
              "      <td>0.698241</td>\n",
              "      <td>0.326582</td>\n",
              "      <td>0.445019</td>\n",
              "      <td>0.917367</td>\n",
              "    </tr>\n",
              "  </tbody>\n",
              "</table><p>"
            ],
            "text/plain": [
              "<IPython.core.display.HTML object>"
            ]
          },
          "metadata": {},
          "output_type": "display_data"
        },
        {
          "data": {
            "text/html": [
              "\n",
              "    <div>\n",
              "      \n",
              "      <progress value='161' max='161' style='width:300px; height:20px; vertical-align: middle;'></progress>\n",
              "      [161/161 00:05]\n",
              "    </div>\n",
              "    "
            ],
            "text/plain": [
              "<IPython.core.display.HTML object>"
            ]
          },
          "metadata": {},
          "output_type": "display_data"
        },
        {
          "name": "stdout",
          "output_type": "stream",
          "text": [
            "Test Results:\n",
            "{'eval_loss': 0.96390700340271, 'eval_precision': 0.5740479548660085, 'eval_recall': 0.16873963515754561, 'eval_f1': 0.26081384171739824, 'eval_accuracy': 0.9278643216080402, 'eval_runtime': 6.9263, 'eval_samples_per_second': 185.815, 'eval_steps_per_second': 23.245, 'epoch': 3.0}\n"
          ]
        }
      ],
      "source": [
        "args_combination_7 = TrainingArguments(\n",
        "    \"bert-finetuned-ner-combination-7\",\n",
        "    evaluation_strategy=\"epoch\",\n",
        "    save_strategy=\"epoch\",\n",
        "    learning_rate=1e-5,\n",
        "    num_train_epochs=3,\n",
        "    weight_decay=0.01,\n",
        "    per_device_train_batch_size=4,\n",
        "    push_to_hub=True,\n",
        ")\n",
        "trainer = Trainer(\n",
        "    model=model,\n",
        "    args=args_combination_6,\n",
        "    train_dataset=tokenized_datasets[\"train\"],\n",
        "    eval_dataset=tokenized_datasets[\"validation\"],  # Use the \"validation\" set for hyperparameter optimization\n",
        "    data_collator=data_collator,\n",
        "    compute_metrics=compute_metrics,\n",
        "    tokenizer=tokenizer,\n",
        ")\n",
        "\n",
        "trainer.train()\n",
        "\n",
        "# After training, evaluate the model on the test set\n",
        "test_results = trainer.evaluate(tokenized_datasets[\"test\"])\n",
        "\n",
        "# Print the test results\n",
        "print(\"Test Results:\")\n",
        "print(test_results)"
      ]
    },
    {
      "cell_type": "code",
      "execution_count": null,
      "metadata": {
        "colab": {
          "base_uri": "https://localhost:8080/",
          "height": 244
        },
        "id": "AHy-8eWXzrNr",
        "outputId": "13baab88-52cb-46de-ee71-0f3a06e42b60"
      },
      "outputs": [
        {
          "data": {
            "text/html": [
              "\n",
              "    <div>\n",
              "      \n",
              "      <progress value='849' max='849' style='width:300px; height:20px; vertical-align: middle;'></progress>\n",
              "      [849/849 02:47, Epoch 3/3]\n",
              "    </div>\n",
              "    <table border=\"1\" class=\"dataframe\">\n",
              "  <thead>\n",
              " <tr style=\"text-align: left;\">\n",
              "      <th>Epoch</th>\n",
              "      <th>Training Loss</th>\n",
              "      <th>Validation Loss</th>\n",
              "      <th>Precision</th>\n",
              "      <th>Recall</th>\n",
              "      <th>F1</th>\n",
              "      <th>Accuracy</th>\n",
              "    </tr>\n",
              "  </thead>\n",
              "  <tbody>\n",
              "    <tr>\n",
              "      <td>1</td>\n",
              "      <td>No log</td>\n",
              "      <td>1.187177</td>\n",
              "      <td>0.721154</td>\n",
              "      <td>0.332278</td>\n",
              "      <td>0.454939</td>\n",
              "      <td>0.917420</td>\n",
              "    </tr>\n",
              "    <tr>\n",
              "      <td>2</td>\n",
              "      <td>0.000300</td>\n",
              "      <td>1.025149</td>\n",
              "      <td>0.676259</td>\n",
              "      <td>0.356962</td>\n",
              "      <td>0.467274</td>\n",
              "      <td>0.919829</td>\n",
              "    </tr>\n",
              "    <tr>\n",
              "      <td>3</td>\n",
              "      <td>0.000300</td>\n",
              "      <td>1.020509</td>\n",
              "      <td>0.698765</td>\n",
              "      <td>0.358228</td>\n",
              "      <td>0.473640</td>\n",
              "      <td>0.919615</td>\n",
              "    </tr>\n",
              "  </tbody>\n",
              "</table><p>"
            ],
            "text/plain": [
              "<IPython.core.display.HTML object>"
            ]
          },
          "metadata": {},
          "output_type": "display_data"
        },
        {
          "data": {
            "text/html": [
              "\n",
              "    <div>\n",
              "      \n",
              "      <progress value='161' max='161' style='width:300px; height:20px; vertical-align: middle;'></progress>\n",
              "      [161/161 00:05]\n",
              "    </div>\n",
              "    "
            ],
            "text/plain": [
              "<IPython.core.display.HTML object>"
            ]
          },
          "metadata": {},
          "output_type": "display_data"
        },
        {
          "name": "stdout",
          "output_type": "stream",
          "text": [
            "Test Results:\n",
            "{'eval_loss': 1.0025056600570679, 'eval_precision': 0.5787401574803149, 'eval_recall': 0.1828358208955224, 'eval_f1': 0.277882797731569, 'eval_accuracy': 0.9282412060301507, 'eval_runtime': 6.4262, 'eval_samples_per_second': 200.275, 'eval_steps_per_second': 25.054, 'epoch': 3.0}\n"
          ]
        }
      ],
      "source": [
        "args_combination_8 = TrainingArguments(\n",
        "    \"bert-finetuned-ner-combination-8\",\n",
        "    evaluation_strategy=\"epoch\",\n",
        "    save_strategy=\"epoch\",\n",
        "    learning_rate=1e-5,\n",
        "    num_train_epochs=3,\n",
        "    weight_decay=0.01,\n",
        "    per_device_train_batch_size=12,\n",
        "    push_to_hub=True,\n",
        ")\n",
        "trainer = Trainer(\n",
        "    model=model,\n",
        "    args=args_combination_6,\n",
        "    train_dataset=tokenized_datasets[\"train\"],\n",
        "    eval_dataset=tokenized_datasets[\"validation\"],  # Use the \"validation\" set for hyperparameter optimization\n",
        "    data_collator=data_collator,\n",
        "    compute_metrics=compute_metrics,\n",
        "    tokenizer=tokenizer,\n",
        ")\n",
        "\n",
        "trainer.train()\n",
        "\n",
        "# After training, evaluate the model on the test set\n",
        "test_results = trainer.evaluate(tokenized_datasets[\"test\"])\n",
        "\n",
        "# Print the test results\n",
        "print(\"Test Results:\")\n",
        "print(test_results)"
      ]
    },
    {
      "cell_type": "markdown",
      "metadata": {
        "id": "Qs5eBzt0nizi"
      },
      "source": [
        "# Task 6"
      ]
    },
    {
      "cell_type": "code",
      "source": [
        "def compute_metrics_extended(eval_preds, label_names):\n",
        "    logits, labels = eval_preds\n",
        "    predictions = np.argmax(logits, axis=-1)\n",
        "\n",
        "    # Remove ignored index (special tokens) and convert to labels\n",
        "    true_labels = [[label_names[l] for l in label if l != -100] for label in labels]\n",
        "    true_predictions = [\n",
        "        [label_names[p] for (p, l) in zip(prediction, label) if l != -100] for prediction, label in zip(predictions, labels)\n",
        "    ]\n",
        "\n",
        "    # Flatten the lists to make them suitable for classification_report\n",
        "    true_labels_flat = [label for labels in true_labels for label in labels]\n",
        "    true_predictions_flat = [label for labels in true_predictions for label in labels]\n",
        "\n",
        "    # Create a LabelBinarizer for one-hot encoding labels\n",
        "    label_binarizer = LabelBinarizer()\n",
        "    label_binarizer.fit(label_names)\n",
        "\n",
        "    # One-hot encode the labels\n",
        "    true_labels_bin = label_binarizer.transform(true_labels_flat)\n",
        "    true_predictions_bin = label_binarizer.transform(true_predictions_flat)\n",
        "\n",
        "    # Calculate classification report for Precision, Recall, F1-scores\n",
        "    report = classification_report(true_labels_bin, true_predictions_bin, target_names=label_names)\n",
        "\n",
        "    # Calculate macro and micro average F1-scores if there are samples for each class\n",
        "    macro_f1 = f1_score(true_labels_bin, true_predictions_bin, average='macro', zero_division=0)\n",
        "    micro_f1 = f1_score(true_labels_bin, true_predictions_bin, average='micro', zero_division=0)\n",
        "\n",
        "    # Compute metrics using classification_report from seqeval\n",
        "    seqeval_report = seqeval_classification_report(true_labels, true_predictions, scheme='IOB2', output_dict=True)\n",
        "\n",
        "    # Micro and macro metrics for seqeval\n",
        "    seqeval_micro_f1 = seqeval_f1_score(true_labels, true_predictions)\n",
        "    seqeval_macro_precision = seqeval_precision_score(true_labels, true_predictions)\n",
        "    seqeval_macro_recall = seqeval_recall_score(true_labels, true_predictions)\n",
        "\n",
        "    return {\n",
        "        \"classification_report\": report,\n",
        "        \"macro_f1\": macro_f1,\n",
        "        \"micro_f1\": micro_f1,\n",
        "        \"seqeval_classification_report\": seqeval_report,\n",
        "        \"seqeval_micro_f1\": seqeval_micro_f1,\n",
        "        \"seqeval_macro_precision\": seqeval_macro_precision,\n",
        "        \"seqeval_macro_recall\": seqeval_macro_recall\n",
        "    }\n"
      ],
      "metadata": {
        "id": "SZYRDQvtan3U"
      },
      "execution_count": 117,
      "outputs": []
    },
    {
      "cell_type": "code",
      "source": [
        "# Define label names\n",
        "label_names = [\n",
        "    \"O\",\n",
        "    \"B-location\", \"I-location\",\n",
        "    \"B-group\", \"I-group\",\n",
        "    \"B-corporation\", \"I-corporation\",\n",
        "    \"B-person\", \"I-person\",\n",
        "    \"B-creative-work\", \"I-creative-work\",\n",
        "    \"B-product\", \"I-product\"\n",
        "]\n",
        "\n",
        "# Define TrainingArguments\n",
        "args_combination_1 = TrainingArguments(\n",
        "    \"bert-finetuned-ner-combination-1\",\n",
        "    evaluation_strategy=\"epoch\",\n",
        "    save_strategy=\"epoch\",\n",
        "    learning_rate=1e-4,\n",
        "    num_train_epochs=3,\n",
        "    weight_decay=0.01,\n",
        "    per_device_train_batch_size=4,\n",
        "    push_to_hub=True,\n",
        ")\n",
        "\n",
        "# Create Trainer\n",
        "trainer = Trainer(\n",
        "    model=model,\n",
        "    args=args_combination_1,\n",
        "    train_dataset=tokenized_datasets[\"train\"],\n",
        "    eval_dataset=tokenized_datasets[\"test\"],\n",
        "    data_collator=data_collator,\n",
        "    compute_metrics=lambda eval_preds: compute_metrics_extended(eval_preds, label_names),\n",
        "    tokenizer=tokenizer,\n",
        ")\n",
        "\n",
        "# Train the model\n",
        "trainer.train()\n",
        "\n",
        "# After training, evaluate the model on the test set\n",
        "test_results = trainer.evaluate(tokenized_datasets[\"test\"])\n",
        "\n",
        "# Print the test results\n",
        "print(\"Test Results:\")\n",
        "print(test_results)\n"
      ],
      "metadata": {
        "colab": {
          "base_uri": "https://localhost:8080/",
          "height": 1000
        },
        "id": "_x01cmqmeF0-",
        "outputId": "ca0aa464-3454-4b74-b50b-96606b854cf6"
      },
      "execution_count": 122,
      "outputs": [
        {
          "output_type": "display_data",
          "data": {
            "text/plain": [
              "<IPython.core.display.HTML object>"
            ],
            "text/html": [
              "\n",
              "    <div>\n",
              "      \n",
              "      <progress value='2547' max='2547' style='width:300px; height:20px; vertical-align: middle;'></progress>\n",
              "      [2547/2547 04:41, Epoch 3/3]\n",
              "    </div>\n",
              "    <table border=\"1\" class=\"dataframe\">\n",
              "  <thead>\n",
              " <tr style=\"text-align: left;\">\n",
              "      <th>Epoch</th>\n",
              "      <th>Training Loss</th>\n",
              "      <th>Validation Loss</th>\n",
              "      <th>Classification Report</th>\n",
              "      <th>Macro F1</th>\n",
              "      <th>Micro F1</th>\n",
              "      <th>Seqeval Classification Report</th>\n",
              "      <th>Seqeval Micro F1</th>\n",
              "      <th>Seqeval Macro Precision</th>\n",
              "      <th>Seqeval Macro Recall</th>\n",
              "    </tr>\n",
              "  </thead>\n",
              "  <tbody>\n",
              "    <tr>\n",
              "      <td>1</td>\n",
              "      <td>0.014000</td>\n",
              "      <td>0.658469</td>\n",
              "      <td>                 precision    recall  f1-score   support\n",
              "\n",
              "              O       0.78      0.29      0.42       429\n",
              "     B-location       0.62      0.14      0.23       218\n",
              "     I-location       0.34      0.13      0.19       165\n",
              "        B-group       0.66      0.38      0.48       150\n",
              "        I-group       0.25      0.03      0.06       127\n",
              "  B-corporation       0.33      0.13      0.19        70\n",
              "  I-corporation       0.75      0.06      0.11       959\n",
              "       B-person       0.19      0.09      0.12        87\n",
              "       I-person       0.19      0.12      0.14       330\n",
              "B-creative-work       0.50      0.24      0.32       237\n",
              "I-creative-work       0.72      0.16      0.27       452\n",
              "      B-product       0.24      0.08      0.12       186\n",
              "      I-product       0.93      1.00      0.96     36390\n",
              "\n",
              "      micro avg       0.92      0.92      0.92     39800\n",
              "      macro avg       0.50      0.22      0.28     39800\n",
              "   weighted avg       0.90      0.92      0.90     39800\n",
              "    samples avg       0.92      0.92      0.92     39800\n",
              "</td>\n",
              "      <td>0.278410</td>\n",
              "      <td>0.922337</td>\n",
              "      <td>{'corporation': {'precision': 0.7202072538860104, 'recall': 0.2434325744308231, 'f1-score': 0.3638743455497382, 'support': 571}, 'creative-work': {'precision': 0.44871794871794873, 'recall': 0.15086206896551724, 'f1-score': 0.2258064516129032, 'support': 232}, 'group': {'precision': 0.22666666666666666, 'recall': 0.1471861471861472, 'f1-score': 0.1784776902887139, 'support': 231}, 'location': {'precision': 0.43333333333333335, 'recall': 0.3466666666666667, 'f1-score': 0.3851851851851852, 'support': 150}, 'person': {'precision': 0.5735294117647058, 'recall': 0.16738197424892703, 'f1-score': 0.2591362126245847, 'support': 233}, 'product': {'precision': 0.20408163265306123, 'recall': 0.07874015748031496, 'f1-score': 0.11363636363636365, 'support': 127}, 'micro avg': {'precision': 0.4696048632218845, 'recall': 0.20012953367875647, 'f1-score': 0.28065395095367845, 'support': 1544}, 'macro avg': {'precision': 0.4344227078369543, 'recall': 0.18904493149639937, 'f1-score': 0.2543527081495815, 'support': 1544}, 'weighted avg': {'precision': 0.5131163383157975, 'recall': 0.20012953367875647, 'f1-score': 0.2810725570213155, 'support': 1544}}</td>\n",
              "      <td>0.280654</td>\n",
              "      <td>0.469605</td>\n",
              "      <td>0.200130</td>\n",
              "    </tr>\n",
              "    <tr>\n",
              "      <td>2</td>\n",
              "      <td>0.025600</td>\n",
              "      <td>0.756469</td>\n",
              "      <td>                 precision    recall  f1-score   support\n",
              "\n",
              "              O       0.69      0.38      0.48       429\n",
              "     B-location       0.55      0.10      0.16       218\n",
              "     I-location       0.37      0.10      0.16       165\n",
              "        B-group       0.64      0.33      0.43       150\n",
              "        I-group       0.22      0.05      0.08       127\n",
              "  B-corporation       0.41      0.13      0.20        70\n",
              "  I-corporation       0.51      0.10      0.17       959\n",
              "       B-person       0.36      0.06      0.10        87\n",
              "       I-person       0.18      0.06      0.09       330\n",
              "B-creative-work       0.56      0.14      0.23       237\n",
              "I-creative-work       0.59      0.22      0.32       452\n",
              "      B-product       0.28      0.04      0.07       186\n",
              "      I-product       0.93      1.00      0.96     36390\n",
              "\n",
              "      micro avg       0.92      0.92      0.92     39800\n",
              "      macro avg       0.48      0.21      0.27     39800\n",
              "   weighted avg       0.90      0.92      0.90     39800\n",
              "    samples avg       0.92      0.92      0.92     39800\n",
              "</td>\n",
              "      <td>0.266464</td>\n",
              "      <td>0.923166</td>\n",
              "      <td>{'corporation': {'precision': 0.597864768683274, 'recall': 0.29422066549912435, 'f1-score': 0.3943661971830986, 'support': 571}, 'creative-work': {'precision': 0.4897959183673469, 'recall': 0.10344827586206896, 'f1-score': 0.1708185053380783, 'support': 232}, 'group': {'precision': 0.25252525252525254, 'recall': 0.10822510822510822, 'f1-score': 0.15151515151515152, 'support': 231}, 'location': {'precision': 0.5, 'recall': 0.29333333333333333, 'f1-score': 0.3697478991596639, 'support': 150}, 'person': {'precision': 0.43636363636363634, 'recall': 0.20600858369098712, 'f1-score': 0.27988338192419826, 'support': 233}, 'product': {'precision': 0.29411764705882354, 'recall': 0.07874015748031496, 'f1-score': 0.12422360248447203, 'support': 127}, 'micro avg': {'precision': 0.4826021180030257, 'recall': 0.20660621761658032, 'f1-score': 0.2893424036281179, 'support': 1544}, 'macro avg': {'precision': 0.4284445371663889, 'recall': 0.18066268734848953, 'f1-score': 0.24842578960077713, 'support': 1544}, 'weighted avg': {'precision': 0.4710961384468298, 'recall': 0.20660621761658032, 'f1-score': 0.282554664642357, 'support': 1544}}</td>\n",
              "      <td>0.289342</td>\n",
              "      <td>0.482602</td>\n",
              "      <td>0.206606</td>\n",
              "    </tr>\n",
              "    <tr>\n",
              "      <td>3</td>\n",
              "      <td>0.014100</td>\n",
              "      <td>0.750982</td>\n",
              "      <td>                 precision    recall  f1-score   support\n",
              "\n",
              "              O       0.69      0.38      0.49       429\n",
              "     B-location       0.47      0.11      0.18       218\n",
              "     I-location       0.33      0.10      0.16       165\n",
              "        B-group       0.59      0.39      0.47       150\n",
              "        I-group       0.23      0.07      0.11       127\n",
              "  B-corporation       0.23      0.13      0.17        70\n",
              "  I-corporation       0.50      0.12      0.19       959\n",
              "       B-person       0.14      0.06      0.08        87\n",
              "       I-person       0.18      0.08      0.11       330\n",
              "B-creative-work       0.45      0.19      0.27       237\n",
              "I-creative-work       0.50      0.26      0.34       452\n",
              "      B-product       0.23      0.09      0.13       186\n",
              "      I-product       0.94      0.99      0.97     36390\n",
              "\n",
              "      micro avg       0.92      0.92      0.92     39800\n",
              "      macro avg       0.42      0.23      0.28     39800\n",
              "   weighted avg       0.90      0.92      0.90     39800\n",
              "    samples avg       0.92      0.92      0.92     39800\n",
              "</td>\n",
              "      <td>0.281129</td>\n",
              "      <td>0.922789</td>\n",
              "      <td>{'corporation': {'precision': 0.5544554455445545, 'recall': 0.29422066549912435, 'f1-score': 0.3844393592677346, 'support': 571}, 'creative-work': {'precision': 0.37662337662337664, 'recall': 0.125, 'f1-score': 0.18770226537216828, 'support': 232}, 'group': {'precision': 0.20930232558139536, 'recall': 0.11688311688311688, 'f1-score': 0.15, 'support': 231}, 'location': {'precision': 0.4017094017094017, 'recall': 0.31333333333333335, 'f1-score': 0.35205992509363293, 'support': 150}, 'person': {'precision': 0.36129032258064514, 'recall': 0.24034334763948498, 'f1-score': 0.28865979381443296, 'support': 233}, 'product': {'precision': 0.1935483870967742, 'recall': 0.09448818897637795, 'f1-score': 0.12698412698412698, 'support': 127}, 'micro avg': {'precision': 0.40213523131672596, 'recall': 0.21955958549222798, 'f1-score': 0.28403854210305823, 'support': 1544}, 'macro avg': {'precision': 0.3494882098560246, 'recall': 0.19737810872190628, 'f1-score': 0.24830757842201598, 'support': 1544}, 'weighted avg': {'precision': 0.40242047964433764, 'recall': 0.21955958549222798, 'f1-score': 0.2810268811904219, 'support': 1544}}</td>\n",
              "      <td>0.284039</td>\n",
              "      <td>0.402135</td>\n",
              "      <td>0.219560</td>\n",
              "    </tr>\n",
              "  </tbody>\n",
              "</table><p>"
            ]
          },
          "metadata": {}
        },
        {
          "output_type": "stream",
          "name": "stderr",
          "text": [
            "Trainer is attempting to log a value of \"                 precision    recall  f1-score   support\n",
            "\n",
            "              O       0.78      0.29      0.42       429\n",
            "     B-location       0.62      0.14      0.23       218\n",
            "     I-location       0.34      0.13      0.19       165\n",
            "        B-group       0.66      0.38      0.48       150\n",
            "        I-group       0.25      0.03      0.06       127\n",
            "  B-corporation       0.33      0.13      0.19        70\n",
            "  I-corporation       0.75      0.06      0.11       959\n",
            "       B-person       0.19      0.09      0.12        87\n",
            "       I-person       0.19      0.12      0.14       330\n",
            "B-creative-work       0.50      0.24      0.32       237\n",
            "I-creative-work       0.72      0.16      0.27       452\n",
            "      B-product       0.24      0.08      0.12       186\n",
            "      I-product       0.93      1.00      0.96     36390\n",
            "\n",
            "      micro avg       0.92      0.92      0.92     39800\n",
            "      macro avg       0.50      0.22      0.28     39800\n",
            "   weighted avg       0.90      0.92      0.90     39800\n",
            "    samples avg       0.92      0.92      0.92     39800\n",
            "\" of type <class 'str'> for key \"eval/classification_report\" as a scalar. This invocation of Tensorboard's writer.add_scalar() is incorrect so we dropped this attribute.\n",
            "Trainer is attempting to log a value of \"{'corporation': {'precision': 0.7202072538860104, 'recall': 0.2434325744308231, 'f1-score': 0.3638743455497382, 'support': 571}, 'creative-work': {'precision': 0.44871794871794873, 'recall': 0.15086206896551724, 'f1-score': 0.2258064516129032, 'support': 232}, 'group': {'precision': 0.22666666666666666, 'recall': 0.1471861471861472, 'f1-score': 0.1784776902887139, 'support': 231}, 'location': {'precision': 0.43333333333333335, 'recall': 0.3466666666666667, 'f1-score': 0.3851851851851852, 'support': 150}, 'person': {'precision': 0.5735294117647058, 'recall': 0.16738197424892703, 'f1-score': 0.2591362126245847, 'support': 233}, 'product': {'precision': 0.20408163265306123, 'recall': 0.07874015748031496, 'f1-score': 0.11363636363636365, 'support': 127}, 'micro avg': {'precision': 0.4696048632218845, 'recall': 0.20012953367875647, 'f1-score': 0.28065395095367845, 'support': 1544}, 'macro avg': {'precision': 0.4344227078369543, 'recall': 0.18904493149639937, 'f1-score': 0.2543527081495815, 'support': 1544}, 'weighted avg': {'precision': 0.5131163383157975, 'recall': 0.20012953367875647, 'f1-score': 0.2810725570213155, 'support': 1544}}\" of type <class 'dict'> for key \"eval/seqeval_classification_report\" as a scalar. This invocation of Tensorboard's writer.add_scalar() is incorrect so we dropped this attribute.\n",
            "Trainer is attempting to log a value of \"                 precision    recall  f1-score   support\n",
            "\n",
            "              O       0.69      0.38      0.48       429\n",
            "     B-location       0.55      0.10      0.16       218\n",
            "     I-location       0.37      0.10      0.16       165\n",
            "        B-group       0.64      0.33      0.43       150\n",
            "        I-group       0.22      0.05      0.08       127\n",
            "  B-corporation       0.41      0.13      0.20        70\n",
            "  I-corporation       0.51      0.10      0.17       959\n",
            "       B-person       0.36      0.06      0.10        87\n",
            "       I-person       0.18      0.06      0.09       330\n",
            "B-creative-work       0.56      0.14      0.23       237\n",
            "I-creative-work       0.59      0.22      0.32       452\n",
            "      B-product       0.28      0.04      0.07       186\n",
            "      I-product       0.93      1.00      0.96     36390\n",
            "\n",
            "      micro avg       0.92      0.92      0.92     39800\n",
            "      macro avg       0.48      0.21      0.27     39800\n",
            "   weighted avg       0.90      0.92      0.90     39800\n",
            "    samples avg       0.92      0.92      0.92     39800\n",
            "\" of type <class 'str'> for key \"eval/classification_report\" as a scalar. This invocation of Tensorboard's writer.add_scalar() is incorrect so we dropped this attribute.\n",
            "Trainer is attempting to log a value of \"{'corporation': {'precision': 0.597864768683274, 'recall': 0.29422066549912435, 'f1-score': 0.3943661971830986, 'support': 571}, 'creative-work': {'precision': 0.4897959183673469, 'recall': 0.10344827586206896, 'f1-score': 0.1708185053380783, 'support': 232}, 'group': {'precision': 0.25252525252525254, 'recall': 0.10822510822510822, 'f1-score': 0.15151515151515152, 'support': 231}, 'location': {'precision': 0.5, 'recall': 0.29333333333333333, 'f1-score': 0.3697478991596639, 'support': 150}, 'person': {'precision': 0.43636363636363634, 'recall': 0.20600858369098712, 'f1-score': 0.27988338192419826, 'support': 233}, 'product': {'precision': 0.29411764705882354, 'recall': 0.07874015748031496, 'f1-score': 0.12422360248447203, 'support': 127}, 'micro avg': {'precision': 0.4826021180030257, 'recall': 0.20660621761658032, 'f1-score': 0.2893424036281179, 'support': 1544}, 'macro avg': {'precision': 0.4284445371663889, 'recall': 0.18066268734848953, 'f1-score': 0.24842578960077713, 'support': 1544}, 'weighted avg': {'precision': 0.4710961384468298, 'recall': 0.20660621761658032, 'f1-score': 0.282554664642357, 'support': 1544}}\" of type <class 'dict'> for key \"eval/seqeval_classification_report\" as a scalar. This invocation of Tensorboard's writer.add_scalar() is incorrect so we dropped this attribute.\n",
            "Trainer is attempting to log a value of \"                 precision    recall  f1-score   support\n",
            "\n",
            "              O       0.69      0.38      0.49       429\n",
            "     B-location       0.47      0.11      0.18       218\n",
            "     I-location       0.33      0.10      0.16       165\n",
            "        B-group       0.59      0.39      0.47       150\n",
            "        I-group       0.23      0.07      0.11       127\n",
            "  B-corporation       0.23      0.13      0.17        70\n",
            "  I-corporation       0.50      0.12      0.19       959\n",
            "       B-person       0.14      0.06      0.08        87\n",
            "       I-person       0.18      0.08      0.11       330\n",
            "B-creative-work       0.45      0.19      0.27       237\n",
            "I-creative-work       0.50      0.26      0.34       452\n",
            "      B-product       0.23      0.09      0.13       186\n",
            "      I-product       0.94      0.99      0.97     36390\n",
            "\n",
            "      micro avg       0.92      0.92      0.92     39800\n",
            "      macro avg       0.42      0.23      0.28     39800\n",
            "   weighted avg       0.90      0.92      0.90     39800\n",
            "    samples avg       0.92      0.92      0.92     39800\n",
            "\" of type <class 'str'> for key \"eval/classification_report\" as a scalar. This invocation of Tensorboard's writer.add_scalar() is incorrect so we dropped this attribute.\n",
            "Trainer is attempting to log a value of \"{'corporation': {'precision': 0.5544554455445545, 'recall': 0.29422066549912435, 'f1-score': 0.3844393592677346, 'support': 571}, 'creative-work': {'precision': 0.37662337662337664, 'recall': 0.125, 'f1-score': 0.18770226537216828, 'support': 232}, 'group': {'precision': 0.20930232558139536, 'recall': 0.11688311688311688, 'f1-score': 0.15, 'support': 231}, 'location': {'precision': 0.4017094017094017, 'recall': 0.31333333333333335, 'f1-score': 0.35205992509363293, 'support': 150}, 'person': {'precision': 0.36129032258064514, 'recall': 0.24034334763948498, 'f1-score': 0.28865979381443296, 'support': 233}, 'product': {'precision': 0.1935483870967742, 'recall': 0.09448818897637795, 'f1-score': 0.12698412698412698, 'support': 127}, 'micro avg': {'precision': 0.40213523131672596, 'recall': 0.21955958549222798, 'f1-score': 0.28403854210305823, 'support': 1544}, 'macro avg': {'precision': 0.3494882098560246, 'recall': 0.19737810872190628, 'f1-score': 0.24830757842201598, 'support': 1544}, 'weighted avg': {'precision': 0.40242047964433764, 'recall': 0.21955958549222798, 'f1-score': 0.2810268811904219, 'support': 1544}}\" of type <class 'dict'> for key \"eval/seqeval_classification_report\" as a scalar. This invocation of Tensorboard's writer.add_scalar() is incorrect so we dropped this attribute.\n"
          ]
        },
        {
          "output_type": "display_data",
          "data": {
            "text/plain": [
              "<IPython.core.display.HTML object>"
            ],
            "text/html": [
              "\n",
              "    <div>\n",
              "      \n",
              "      <progress value='161' max='161' style='width:300px; height:20px; vertical-align: middle;'></progress>\n",
              "      [161/161 00:05]\n",
              "    </div>\n",
              "    "
            ]
          },
          "metadata": {}
        },
        {
          "output_type": "stream",
          "name": "stderr",
          "text": [
            "Trainer is attempting to log a value of \"                 precision    recall  f1-score   support\n",
            "\n",
            "              O       0.69      0.38      0.49       429\n",
            "     B-location       0.47      0.11      0.18       218\n",
            "     I-location       0.33      0.10      0.16       165\n",
            "        B-group       0.59      0.39      0.47       150\n",
            "        I-group       0.23      0.07      0.11       127\n",
            "  B-corporation       0.23      0.13      0.17        70\n",
            "  I-corporation       0.50      0.12      0.19       959\n",
            "       B-person       0.14      0.06      0.08        87\n",
            "       I-person       0.18      0.08      0.11       330\n",
            "B-creative-work       0.45      0.19      0.27       237\n",
            "I-creative-work       0.50      0.26      0.34       452\n",
            "      B-product       0.23      0.09      0.13       186\n",
            "      I-product       0.94      0.99      0.97     36390\n",
            "\n",
            "      micro avg       0.92      0.92      0.92     39800\n",
            "      macro avg       0.42      0.23      0.28     39800\n",
            "   weighted avg       0.90      0.92      0.90     39800\n",
            "    samples avg       0.92      0.92      0.92     39800\n",
            "\" of type <class 'str'> for key \"eval/classification_report\" as a scalar. This invocation of Tensorboard's writer.add_scalar() is incorrect so we dropped this attribute.\n",
            "Trainer is attempting to log a value of \"{'corporation': {'precision': 0.5544554455445545, 'recall': 0.29422066549912435, 'f1-score': 0.3844393592677346, 'support': 571}, 'creative-work': {'precision': 0.37662337662337664, 'recall': 0.125, 'f1-score': 0.18770226537216828, 'support': 232}, 'group': {'precision': 0.20930232558139536, 'recall': 0.11688311688311688, 'f1-score': 0.15, 'support': 231}, 'location': {'precision': 0.4017094017094017, 'recall': 0.31333333333333335, 'f1-score': 0.35205992509363293, 'support': 150}, 'person': {'precision': 0.36129032258064514, 'recall': 0.24034334763948498, 'f1-score': 0.28865979381443296, 'support': 233}, 'product': {'precision': 0.1935483870967742, 'recall': 0.09448818897637795, 'f1-score': 0.12698412698412698, 'support': 127}, 'micro avg': {'precision': 0.40213523131672596, 'recall': 0.21955958549222798, 'f1-score': 0.28403854210305823, 'support': 1544}, 'macro avg': {'precision': 0.3494882098560246, 'recall': 0.19737810872190628, 'f1-score': 0.24830757842201598, 'support': 1544}, 'weighted avg': {'precision': 0.40242047964433764, 'recall': 0.21955958549222798, 'f1-score': 0.2810268811904219, 'support': 1544}}\" of type <class 'dict'> for key \"eval/seqeval_classification_report\" as a scalar. This invocation of Tensorboard's writer.add_scalar() is incorrect so we dropped this attribute.\n"
          ]
        },
        {
          "output_type": "stream",
          "name": "stdout",
          "text": [
            "Test Results:\n",
            "{'eval_loss': 0.7509824633598328, 'eval_classification_report': '                 precision    recall  f1-score   support\\n\\n              O       0.69      0.38      0.49       429\\n     B-location       0.47      0.11      0.18       218\\n     I-location       0.33      0.10      0.16       165\\n        B-group       0.59      0.39      0.47       150\\n        I-group       0.23      0.07      0.11       127\\n  B-corporation       0.23      0.13      0.17        70\\n  I-corporation       0.50      0.12      0.19       959\\n       B-person       0.14      0.06      0.08        87\\n       I-person       0.18      0.08      0.11       330\\nB-creative-work       0.45      0.19      0.27       237\\nI-creative-work       0.50      0.26      0.34       452\\n      B-product       0.23      0.09      0.13       186\\n      I-product       0.94      0.99      0.97     36390\\n\\n      micro avg       0.92      0.92      0.92     39800\\n      macro avg       0.42      0.23      0.28     39800\\n   weighted avg       0.90      0.92      0.90     39800\\n    samples avg       0.92      0.92      0.92     39800\\n', 'eval_macro_f1': 0.2811287927265219, 'eval_micro_f1': 0.922788944723618, 'eval_seqeval_classification_report': {'corporation': {'precision': 0.5544554455445545, 'recall': 0.29422066549912435, 'f1-score': 0.3844393592677346, 'support': 571}, 'creative-work': {'precision': 0.37662337662337664, 'recall': 0.125, 'f1-score': 0.18770226537216828, 'support': 232}, 'group': {'precision': 0.20930232558139536, 'recall': 0.11688311688311688, 'f1-score': 0.15, 'support': 231}, 'location': {'precision': 0.4017094017094017, 'recall': 0.31333333333333335, 'f1-score': 0.35205992509363293, 'support': 150}, 'person': {'precision': 0.36129032258064514, 'recall': 0.24034334763948498, 'f1-score': 0.28865979381443296, 'support': 233}, 'product': {'precision': 0.1935483870967742, 'recall': 0.09448818897637795, 'f1-score': 0.12698412698412698, 'support': 127}, 'micro avg': {'precision': 0.40213523131672596, 'recall': 0.21955958549222798, 'f1-score': 0.28403854210305823, 'support': 1544}, 'macro avg': {'precision': 0.3494882098560246, 'recall': 0.19737810872190628, 'f1-score': 0.24830757842201598, 'support': 1544}, 'weighted avg': {'precision': 0.40242047964433764, 'recall': 0.21955958549222798, 'f1-score': 0.2810268811904219, 'support': 1544}}, 'eval_seqeval_micro_f1': 0.28403854210305823, 'eval_seqeval_macro_precision': 0.40213523131672596, 'eval_seqeval_macro_recall': 0.21955958549222798, 'eval_runtime': 6.3852, 'eval_samples_per_second': 201.558, 'eval_steps_per_second': 25.214, 'epoch': 3.0}\n"
          ]
        }
      ]
    },
    {
      "cell_type": "code",
      "source": [
        "# Define label names\n",
        "label_names = [\n",
        "    \"O\",\n",
        "    \"B-location\", \"I-location\",\n",
        "    \"B-group\", \"I-group\",\n",
        "    \"B-corporation\", \"I-corporation\",\n",
        "    \"B-person\", \"I-person\",\n",
        "    \"B-creative-work\", \"I-creative-work\",\n",
        "    \"B-product\", \"I-product\"\n",
        "]\n",
        "\n",
        "# Define TrainingArguments\n",
        "args_combination_2 = TrainingArguments(\n",
        "    \"bert-finetuned-ner-combination-2\",\n",
        "    evaluation_strategy=\"epoch\",\n",
        "    save_strategy=\"epoch\",\n",
        "    learning_rate=1e-4,\n",
        "    num_train_epochs=3,\n",
        "    weight_decay=0.01,\n",
        "    per_device_train_batch_size=12,\n",
        "    push_to_hub=True,\n",
        ")\n",
        "\n",
        "# Create Trainer\n",
        "trainer = Trainer(\n",
        "    model=model,\n",
        "    args=args_combination_2,\n",
        "    train_dataset=tokenized_datasets[\"train\"],\n",
        "    eval_dataset=tokenized_datasets[\"test\"],\n",
        "    data_collator=data_collator,\n",
        "    compute_metrics=lambda eval_preds: compute_metrics_extended(eval_preds, label_names),\n",
        "    tokenizer=tokenizer,\n",
        ")\n",
        "\n",
        "# Train the model\n",
        "trainer.train()\n",
        "\n",
        "# After training, evaluate the model on the test set\n",
        "test_results = trainer.evaluate(tokenized_datasets[\"test\"])\n",
        "\n",
        "# Print the test results\n",
        "print(\"Test Results:\")\n",
        "print(test_results)\n"
      ],
      "metadata": {
        "colab": {
          "base_uri": "https://localhost:8080/",
          "height": 1000
        },
        "id": "9OeZd7Yja004",
        "outputId": "3529b204-40d5-4e76-b559-c9bb932876f1"
      },
      "execution_count": 123,
      "outputs": [
        {
          "output_type": "display_data",
          "data": {
            "text/plain": [
              "<IPython.core.display.HTML object>"
            ],
            "text/html": [
              "\n",
              "    <div>\n",
              "      \n",
              "      <progress value='849' max='849' style='width:300px; height:20px; vertical-align: middle;'></progress>\n",
              "      [849/849 02:55, Epoch 3/3]\n",
              "    </div>\n",
              "    <table border=\"1\" class=\"dataframe\">\n",
              "  <thead>\n",
              " <tr style=\"text-align: left;\">\n",
              "      <th>Epoch</th>\n",
              "      <th>Training Loss</th>\n",
              "      <th>Validation Loss</th>\n",
              "      <th>Classification Report</th>\n",
              "      <th>Macro F1</th>\n",
              "      <th>Micro F1</th>\n",
              "      <th>Seqeval Classification Report</th>\n",
              "      <th>Seqeval Micro F1</th>\n",
              "      <th>Seqeval Macro Precision</th>\n",
              "      <th>Seqeval Macro Recall</th>\n",
              "    </tr>\n",
              "  </thead>\n",
              "  <tbody>\n",
              "    <tr>\n",
              "      <td>1</td>\n",
              "      <td>No log</td>\n",
              "      <td>0.742025</td>\n",
              "      <td>                 precision    recall  f1-score   support\n",
              "\n",
              "              O       0.67      0.35      0.46       429\n",
              "     B-location       0.57      0.09      0.16       218\n",
              "     I-location       0.48      0.13      0.20       165\n",
              "        B-group       0.52      0.43      0.47       150\n",
              "        I-group       0.17      0.06      0.09       127\n",
              "  B-corporation       0.20      0.29      0.24        70\n",
              "  I-corporation       0.46      0.08      0.14       959\n",
              "       B-person       0.19      0.03      0.06        87\n",
              "       I-person       0.18      0.06      0.09       330\n",
              "B-creative-work       0.42      0.23      0.30       237\n",
              "I-creative-work       0.49      0.25      0.33       452\n",
              "      B-product       0.23      0.28      0.25       186\n",
              "      I-product       0.94      0.99      0.96     36390\n",
              "\n",
              "      micro avg       0.92      0.92      0.92     39800\n",
              "      macro avg       0.42      0.25      0.29     39800\n",
              "   weighted avg       0.90      0.92      0.90     39800\n",
              "    samples avg       0.92      0.92      0.92     39800\n",
              "</td>\n",
              "      <td>0.288192</td>\n",
              "      <td>0.920477</td>\n",
              "      <td>{'corporation': {'precision': 0.5555555555555556, 'recall': 0.2714535901926445, 'f1-score': 0.36470588235294116, 'support': 571}, 'creative-work': {'precision': 0.4897959183673469, 'recall': 0.10344827586206896, 'f1-score': 0.1708185053380783, 'support': 232}, 'group': {'precision': 0.3177570093457944, 'recall': 0.1471861471861472, 'f1-score': 0.20118343195266272, 'support': 231}, 'location': {'precision': 0.381294964028777, 'recall': 0.35333333333333333, 'f1-score': 0.36678200692041524, 'support': 150}, 'person': {'precision': 0.2981366459627329, 'recall': 0.20600858369098712, 'f1-score': 0.24365482233502536, 'support': 233}, 'product': {'precision': 0.13736263736263737, 'recall': 0.1968503937007874, 'f1-score': 0.16181229773462782, 'support': 127}, 'micro avg': {'precision': 0.3696837513631407, 'recall': 0.21955958549222798, 'f1-score': 0.27549776513612356, 'support': 1544}, 'macro avg': {'precision': 0.36331712177047404, 'recall': 0.21304672066099475, 'f1-score': 0.25149282443895843, 'support': 1544}, 'weighted avg': {'precision': 0.4199234990291538, 'recall': 0.21955958549222798, 'f1-score': 0.27635321327555024, 'support': 1544}}</td>\n",
              "      <td>0.275498</td>\n",
              "      <td>0.369684</td>\n",
              "      <td>0.219560</td>\n",
              "    </tr>\n",
              "    <tr>\n",
              "      <td>2</td>\n",
              "      <td>0.013300</td>\n",
              "      <td>0.867954</td>\n",
              "      <td>                 precision    recall  f1-score   support\n",
              "\n",
              "              O       0.80      0.31      0.45       429\n",
              "     B-location       0.57      0.11      0.19       218\n",
              "     I-location       0.36      0.10      0.16       165\n",
              "        B-group       0.53      0.43      0.47       150\n",
              "        I-group       0.15      0.06      0.08       127\n",
              "  B-corporation       0.37      0.10      0.16        70\n",
              "  I-corporation       0.66      0.06      0.12       959\n",
              "       B-person       0.31      0.06      0.10        87\n",
              "       I-person       0.21      0.09      0.13       330\n",
              "B-creative-work       0.42      0.20      0.27       237\n",
              "I-creative-work       0.55      0.22      0.31       452\n",
              "      B-product       0.24      0.08      0.11       186\n",
              "      I-product       0.93      0.99      0.96     36390\n",
              "\n",
              "      micro avg       0.92      0.92      0.92     39800\n",
              "      macro avg       0.47      0.22      0.27     39800\n",
              "   weighted avg       0.90      0.92      0.90     39800\n",
              "    samples avg       0.92      0.92      0.92     39800\n",
              "</td>\n",
              "      <td>0.270412</td>\n",
              "      <td>0.922362</td>\n",
              "      <td>{'corporation': {'precision': 0.7101449275362319, 'recall': 0.2574430823117338, 'f1-score': 0.37789203084832906, 'support': 571}, 'creative-work': {'precision': 0.5192307692307693, 'recall': 0.11637931034482758, 'f1-score': 0.1901408450704225, 'support': 232}, 'group': {'precision': 0.2545454545454545, 'recall': 0.12121212121212122, 'f1-score': 0.16422287390029325, 'support': 231}, 'location': {'precision': 0.3953488372093023, 'recall': 0.34, 'f1-score': 0.3655913978494624, 'support': 150}, 'person': {'precision': 0.3813559322033898, 'recall': 0.19313304721030042, 'f1-score': 0.2564102564102564, 'support': 233}, 'product': {'precision': 0.20930232558139536, 'recall': 0.07086614173228346, 'f1-score': 0.10588235294117646, 'support': 127}, 'micro avg': {'precision': 0.4658573596358118, 'recall': 0.19883419689119172, 'f1-score': 0.27871084884248754, 'support': 1544}, 'macro avg': {'precision': 0.4116547077177572, 'recall': 0.18317228380187775, 'f1-score': 0.24335662616999001, 'support': 1544}, 'weighted avg': {'precision': 0.4919002235870138, 'recall': 0.19883419689119172, 'f1-score': 0.27581209053512956, 'support': 1544}}</td>\n",
              "      <td>0.278711</td>\n",
              "      <td>0.465857</td>\n",
              "      <td>0.198834</td>\n",
              "    </tr>\n",
              "    <tr>\n",
              "      <td>3</td>\n",
              "      <td>0.013300</td>\n",
              "      <td>0.808096</td>\n",
              "      <td>                 precision    recall  f1-score   support\n",
              "\n",
              "              O       0.76      0.34      0.48       429\n",
              "     B-location       0.57      0.11      0.18       218\n",
              "     I-location       0.32      0.15      0.21       165\n",
              "        B-group       0.53      0.41      0.46       150\n",
              "        I-group       0.23      0.05      0.08       127\n",
              "  B-corporation       0.24      0.11      0.16        70\n",
              "  I-corporation       0.57      0.09      0.16       959\n",
              "       B-person       0.31      0.06      0.10        87\n",
              "       I-person       0.20      0.10      0.14       330\n",
              "B-creative-work       0.44      0.22      0.30       237\n",
              "I-creative-work       0.64      0.22      0.33       452\n",
              "      B-product       0.28      0.07      0.11       186\n",
              "      I-product       0.94      0.99      0.96     36390\n",
              "\n",
              "      micro avg       0.92      0.92      0.92     39800\n",
              "      macro avg       0.47      0.23      0.28     39800\n",
              "   weighted avg       0.90      0.92      0.90     39800\n",
              "    samples avg       0.92      0.92      0.92     39800\n",
              "</td>\n",
              "      <td>0.281525</td>\n",
              "      <td>0.922965</td>\n",
              "      <td>{'corporation': {'precision': 0.6456692913385826, 'recall': 0.287215411558669, 'f1-score': 0.3975757575757576, 'support': 571}, 'creative-work': {'precision': 0.5294117647058824, 'recall': 0.11637931034482758, 'f1-score': 0.1908127208480565, 'support': 232}, 'group': {'precision': 0.25874125874125875, 'recall': 0.16017316017316016, 'f1-score': 0.1978609625668449, 'support': 231}, 'location': {'precision': 0.38636363636363635, 'recall': 0.34, 'f1-score': 0.36170212765957455, 'support': 150}, 'person': {'precision': 0.46938775510204084, 'recall': 0.19742489270386265, 'f1-score': 0.27794561933534745, 'support': 233}, 'product': {'precision': 0.2553191489361702, 'recall': 0.09448818897637795, 'f1-score': 0.13793103448275862, 'support': 127}, 'micro avg': {'precision': 0.46482758620689657, 'recall': 0.2182642487046632, 'f1-score': 0.2970471573380344, 'support': 1544}, 'macro avg': {'precision': 0.42414880919792847, 'recall': 0.1992801606261496, 'f1-score': 0.2606380370780566, 'support': 1544}, 'weighted avg': {'precision': 0.48641020067586843, 'recall': 0.2182642487046632, 'f1-score': 0.293733213082144, 'support': 1544}}</td>\n",
              "      <td>0.297047</td>\n",
              "      <td>0.464828</td>\n",
              "      <td>0.218264</td>\n",
              "    </tr>\n",
              "  </tbody>\n",
              "</table><p>"
            ]
          },
          "metadata": {}
        },
        {
          "output_type": "stream",
          "name": "stderr",
          "text": [
            "Trainer is attempting to log a value of \"                 precision    recall  f1-score   support\n",
            "\n",
            "              O       0.67      0.35      0.46       429\n",
            "     B-location       0.57      0.09      0.16       218\n",
            "     I-location       0.48      0.13      0.20       165\n",
            "        B-group       0.52      0.43      0.47       150\n",
            "        I-group       0.17      0.06      0.09       127\n",
            "  B-corporation       0.20      0.29      0.24        70\n",
            "  I-corporation       0.46      0.08      0.14       959\n",
            "       B-person       0.19      0.03      0.06        87\n",
            "       I-person       0.18      0.06      0.09       330\n",
            "B-creative-work       0.42      0.23      0.30       237\n",
            "I-creative-work       0.49      0.25      0.33       452\n",
            "      B-product       0.23      0.28      0.25       186\n",
            "      I-product       0.94      0.99      0.96     36390\n",
            "\n",
            "      micro avg       0.92      0.92      0.92     39800\n",
            "      macro avg       0.42      0.25      0.29     39800\n",
            "   weighted avg       0.90      0.92      0.90     39800\n",
            "    samples avg       0.92      0.92      0.92     39800\n",
            "\" of type <class 'str'> for key \"eval/classification_report\" as a scalar. This invocation of Tensorboard's writer.add_scalar() is incorrect so we dropped this attribute.\n",
            "Trainer is attempting to log a value of \"{'corporation': {'precision': 0.5555555555555556, 'recall': 0.2714535901926445, 'f1-score': 0.36470588235294116, 'support': 571}, 'creative-work': {'precision': 0.4897959183673469, 'recall': 0.10344827586206896, 'f1-score': 0.1708185053380783, 'support': 232}, 'group': {'precision': 0.3177570093457944, 'recall': 0.1471861471861472, 'f1-score': 0.20118343195266272, 'support': 231}, 'location': {'precision': 0.381294964028777, 'recall': 0.35333333333333333, 'f1-score': 0.36678200692041524, 'support': 150}, 'person': {'precision': 0.2981366459627329, 'recall': 0.20600858369098712, 'f1-score': 0.24365482233502536, 'support': 233}, 'product': {'precision': 0.13736263736263737, 'recall': 0.1968503937007874, 'f1-score': 0.16181229773462782, 'support': 127}, 'micro avg': {'precision': 0.3696837513631407, 'recall': 0.21955958549222798, 'f1-score': 0.27549776513612356, 'support': 1544}, 'macro avg': {'precision': 0.36331712177047404, 'recall': 0.21304672066099475, 'f1-score': 0.25149282443895843, 'support': 1544}, 'weighted avg': {'precision': 0.4199234990291538, 'recall': 0.21955958549222798, 'f1-score': 0.27635321327555024, 'support': 1544}}\" of type <class 'dict'> for key \"eval/seqeval_classification_report\" as a scalar. This invocation of Tensorboard's writer.add_scalar() is incorrect so we dropped this attribute.\n",
            "Trainer is attempting to log a value of \"                 precision    recall  f1-score   support\n",
            "\n",
            "              O       0.80      0.31      0.45       429\n",
            "     B-location       0.57      0.11      0.19       218\n",
            "     I-location       0.36      0.10      0.16       165\n",
            "        B-group       0.53      0.43      0.47       150\n",
            "        I-group       0.15      0.06      0.08       127\n",
            "  B-corporation       0.37      0.10      0.16        70\n",
            "  I-corporation       0.66      0.06      0.12       959\n",
            "       B-person       0.31      0.06      0.10        87\n",
            "       I-person       0.21      0.09      0.13       330\n",
            "B-creative-work       0.42      0.20      0.27       237\n",
            "I-creative-work       0.55      0.22      0.31       452\n",
            "      B-product       0.24      0.08      0.11       186\n",
            "      I-product       0.93      0.99      0.96     36390\n",
            "\n",
            "      micro avg       0.92      0.92      0.92     39800\n",
            "      macro avg       0.47      0.22      0.27     39800\n",
            "   weighted avg       0.90      0.92      0.90     39800\n",
            "    samples avg       0.92      0.92      0.92     39800\n",
            "\" of type <class 'str'> for key \"eval/classification_report\" as a scalar. This invocation of Tensorboard's writer.add_scalar() is incorrect so we dropped this attribute.\n",
            "Trainer is attempting to log a value of \"{'corporation': {'precision': 0.7101449275362319, 'recall': 0.2574430823117338, 'f1-score': 0.37789203084832906, 'support': 571}, 'creative-work': {'precision': 0.5192307692307693, 'recall': 0.11637931034482758, 'f1-score': 0.1901408450704225, 'support': 232}, 'group': {'precision': 0.2545454545454545, 'recall': 0.12121212121212122, 'f1-score': 0.16422287390029325, 'support': 231}, 'location': {'precision': 0.3953488372093023, 'recall': 0.34, 'f1-score': 0.3655913978494624, 'support': 150}, 'person': {'precision': 0.3813559322033898, 'recall': 0.19313304721030042, 'f1-score': 0.2564102564102564, 'support': 233}, 'product': {'precision': 0.20930232558139536, 'recall': 0.07086614173228346, 'f1-score': 0.10588235294117646, 'support': 127}, 'micro avg': {'precision': 0.4658573596358118, 'recall': 0.19883419689119172, 'f1-score': 0.27871084884248754, 'support': 1544}, 'macro avg': {'precision': 0.4116547077177572, 'recall': 0.18317228380187775, 'f1-score': 0.24335662616999001, 'support': 1544}, 'weighted avg': {'precision': 0.4919002235870138, 'recall': 0.19883419689119172, 'f1-score': 0.27581209053512956, 'support': 1544}}\" of type <class 'dict'> for key \"eval/seqeval_classification_report\" as a scalar. This invocation of Tensorboard's writer.add_scalar() is incorrect so we dropped this attribute.\n",
            "Trainer is attempting to log a value of \"                 precision    recall  f1-score   support\n",
            "\n",
            "              O       0.76      0.34      0.48       429\n",
            "     B-location       0.57      0.11      0.18       218\n",
            "     I-location       0.32      0.15      0.21       165\n",
            "        B-group       0.53      0.41      0.46       150\n",
            "        I-group       0.23      0.05      0.08       127\n",
            "  B-corporation       0.24      0.11      0.16        70\n",
            "  I-corporation       0.57      0.09      0.16       959\n",
            "       B-person       0.31      0.06      0.10        87\n",
            "       I-person       0.20      0.10      0.14       330\n",
            "B-creative-work       0.44      0.22      0.30       237\n",
            "I-creative-work       0.64      0.22      0.33       452\n",
            "      B-product       0.28      0.07      0.11       186\n",
            "      I-product       0.94      0.99      0.96     36390\n",
            "\n",
            "      micro avg       0.92      0.92      0.92     39800\n",
            "      macro avg       0.47      0.23      0.28     39800\n",
            "   weighted avg       0.90      0.92      0.90     39800\n",
            "    samples avg       0.92      0.92      0.92     39800\n",
            "\" of type <class 'str'> for key \"eval/classification_report\" as a scalar. This invocation of Tensorboard's writer.add_scalar() is incorrect so we dropped this attribute.\n",
            "Trainer is attempting to log a value of \"{'corporation': {'precision': 0.6456692913385826, 'recall': 0.287215411558669, 'f1-score': 0.3975757575757576, 'support': 571}, 'creative-work': {'precision': 0.5294117647058824, 'recall': 0.11637931034482758, 'f1-score': 0.1908127208480565, 'support': 232}, 'group': {'precision': 0.25874125874125875, 'recall': 0.16017316017316016, 'f1-score': 0.1978609625668449, 'support': 231}, 'location': {'precision': 0.38636363636363635, 'recall': 0.34, 'f1-score': 0.36170212765957455, 'support': 150}, 'person': {'precision': 0.46938775510204084, 'recall': 0.19742489270386265, 'f1-score': 0.27794561933534745, 'support': 233}, 'product': {'precision': 0.2553191489361702, 'recall': 0.09448818897637795, 'f1-score': 0.13793103448275862, 'support': 127}, 'micro avg': {'precision': 0.46482758620689657, 'recall': 0.2182642487046632, 'f1-score': 0.2970471573380344, 'support': 1544}, 'macro avg': {'precision': 0.42414880919792847, 'recall': 0.1992801606261496, 'f1-score': 0.2606380370780566, 'support': 1544}, 'weighted avg': {'precision': 0.48641020067586843, 'recall': 0.2182642487046632, 'f1-score': 0.293733213082144, 'support': 1544}}\" of type <class 'dict'> for key \"eval/seqeval_classification_report\" as a scalar. This invocation of Tensorboard's writer.add_scalar() is incorrect so we dropped this attribute.\n"
          ]
        },
        {
          "output_type": "display_data",
          "data": {
            "text/plain": [
              "<IPython.core.display.HTML object>"
            ],
            "text/html": [
              "\n",
              "    <div>\n",
              "      \n",
              "      <progress value='161' max='161' style='width:300px; height:20px; vertical-align: middle;'></progress>\n",
              "      [161/161 00:05]\n",
              "    </div>\n",
              "    "
            ]
          },
          "metadata": {}
        },
        {
          "output_type": "stream",
          "name": "stderr",
          "text": [
            "Trainer is attempting to log a value of \"                 precision    recall  f1-score   support\n",
            "\n",
            "              O       0.76      0.34      0.48       429\n",
            "     B-location       0.57      0.11      0.18       218\n",
            "     I-location       0.32      0.15      0.21       165\n",
            "        B-group       0.53      0.41      0.46       150\n",
            "        I-group       0.23      0.05      0.08       127\n",
            "  B-corporation       0.24      0.11      0.16        70\n",
            "  I-corporation       0.57      0.09      0.16       959\n",
            "       B-person       0.31      0.06      0.10        87\n",
            "       I-person       0.20      0.10      0.14       330\n",
            "B-creative-work       0.44      0.22      0.30       237\n",
            "I-creative-work       0.64      0.22      0.33       452\n",
            "      B-product       0.28      0.07      0.11       186\n",
            "      I-product       0.94      0.99      0.96     36390\n",
            "\n",
            "      micro avg       0.92      0.92      0.92     39800\n",
            "      macro avg       0.47      0.23      0.28     39800\n",
            "   weighted avg       0.90      0.92      0.90     39800\n",
            "    samples avg       0.92      0.92      0.92     39800\n",
            "\" of type <class 'str'> for key \"eval/classification_report\" as a scalar. This invocation of Tensorboard's writer.add_scalar() is incorrect so we dropped this attribute.\n",
            "Trainer is attempting to log a value of \"{'corporation': {'precision': 0.6456692913385826, 'recall': 0.287215411558669, 'f1-score': 0.3975757575757576, 'support': 571}, 'creative-work': {'precision': 0.5294117647058824, 'recall': 0.11637931034482758, 'f1-score': 0.1908127208480565, 'support': 232}, 'group': {'precision': 0.25874125874125875, 'recall': 0.16017316017316016, 'f1-score': 0.1978609625668449, 'support': 231}, 'location': {'precision': 0.38636363636363635, 'recall': 0.34, 'f1-score': 0.36170212765957455, 'support': 150}, 'person': {'precision': 0.46938775510204084, 'recall': 0.19742489270386265, 'f1-score': 0.27794561933534745, 'support': 233}, 'product': {'precision': 0.2553191489361702, 'recall': 0.09448818897637795, 'f1-score': 0.13793103448275862, 'support': 127}, 'micro avg': {'precision': 0.46482758620689657, 'recall': 0.2182642487046632, 'f1-score': 0.2970471573380344, 'support': 1544}, 'macro avg': {'precision': 0.42414880919792847, 'recall': 0.1992801606261496, 'f1-score': 0.2606380370780566, 'support': 1544}, 'weighted avg': {'precision': 0.48641020067586843, 'recall': 0.2182642487046632, 'f1-score': 0.293733213082144, 'support': 1544}}\" of type <class 'dict'> for key \"eval/seqeval_classification_report\" as a scalar. This invocation of Tensorboard's writer.add_scalar() is incorrect so we dropped this attribute.\n"
          ]
        },
        {
          "output_type": "stream",
          "name": "stdout",
          "text": [
            "Test Results:\n",
            "{'eval_loss': 0.8080958127975464, 'eval_classification_report': '                 precision    recall  f1-score   support\\n\\n              O       0.76      0.34      0.48       429\\n     B-location       0.57      0.11      0.18       218\\n     I-location       0.32      0.15      0.21       165\\n        B-group       0.53      0.41      0.46       150\\n        I-group       0.23      0.05      0.08       127\\n  B-corporation       0.24      0.11      0.16        70\\n  I-corporation       0.57      0.09      0.16       959\\n       B-person       0.31      0.06      0.10        87\\n       I-person       0.20      0.10      0.14       330\\nB-creative-work       0.44      0.22      0.30       237\\nI-creative-work       0.64      0.22      0.33       452\\n      B-product       0.28      0.07      0.11       186\\n      I-product       0.94      0.99      0.96     36390\\n\\n      micro avg       0.92      0.92      0.92     39800\\n      macro avg       0.47      0.23      0.28     39800\\n   weighted avg       0.90      0.92      0.90     39800\\n    samples avg       0.92      0.92      0.92     39800\\n', 'eval_macro_f1': 0.2815248304731828, 'eval_micro_f1': 0.922964824120603, 'eval_seqeval_classification_report': {'corporation': {'precision': 0.6456692913385826, 'recall': 0.287215411558669, 'f1-score': 0.3975757575757576, 'support': 571}, 'creative-work': {'precision': 0.5294117647058824, 'recall': 0.11637931034482758, 'f1-score': 0.1908127208480565, 'support': 232}, 'group': {'precision': 0.25874125874125875, 'recall': 0.16017316017316016, 'f1-score': 0.1978609625668449, 'support': 231}, 'location': {'precision': 0.38636363636363635, 'recall': 0.34, 'f1-score': 0.36170212765957455, 'support': 150}, 'person': {'precision': 0.46938775510204084, 'recall': 0.19742489270386265, 'f1-score': 0.27794561933534745, 'support': 233}, 'product': {'precision': 0.2553191489361702, 'recall': 0.09448818897637795, 'f1-score': 0.13793103448275862, 'support': 127}, 'micro avg': {'precision': 0.46482758620689657, 'recall': 0.2182642487046632, 'f1-score': 0.2970471573380344, 'support': 1544}, 'macro avg': {'precision': 0.42414880919792847, 'recall': 0.1992801606261496, 'f1-score': 0.2606380370780566, 'support': 1544}, 'weighted avg': {'precision': 0.48641020067586843, 'recall': 0.2182642487046632, 'f1-score': 0.293733213082144, 'support': 1544}}, 'eval_seqeval_micro_f1': 0.2970471573380344, 'eval_seqeval_macro_precision': 0.46482758620689657, 'eval_seqeval_macro_recall': 0.2182642487046632, 'eval_runtime': 6.5531, 'eval_samples_per_second': 196.395, 'eval_steps_per_second': 24.568, 'epoch': 3.0}\n"
          ]
        }
      ]
    }
  ],
  "metadata": {
    "accelerator": "GPU",
    "colab": {
      "gpuType": "T4",
      "provenance": []
    },
    "kernelspec": {
      "display_name": "Python 3",
      "name": "python3"
    },
    "language_info": {
      "codemirror_mode": {
        "name": "ipython",
        "version": 3
      },
      "file_extension": ".py",
      "mimetype": "text/x-python",
      "name": "python",
      "nbconvert_exporter": "python",
      "pygments_lexer": "ipython3",
      "version": "3.10.0"
    },
    "widgets": {
      "application/vnd.jupyter.widget-state+json": {
        "8b079606caf448dfae753ddcef180064": {
          "model_module": "@jupyter-widgets/controls",
          "model_name": "HBoxModel",
          "model_module_version": "1.5.0",
          "state": {
            "_dom_classes": [],
            "_model_module": "@jupyter-widgets/controls",
            "_model_module_version": "1.5.0",
            "_model_name": "HBoxModel",
            "_view_count": null,
            "_view_module": "@jupyter-widgets/controls",
            "_view_module_version": "1.5.0",
            "_view_name": "HBoxView",
            "box_style": "",
            "children": [
              "IPY_MODEL_0daa7169975a45a3b21f02684a5b9d5f",
              "IPY_MODEL_ce8a259abe3f4e0380f00cd9a1e063fb",
              "IPY_MODEL_d10da366230443439aa0bdcc3e9928a5"
            ],
            "layout": "IPY_MODEL_c2c6e83ccca04a84b8e46e6638e49ff9"
          }
        },
        "0daa7169975a45a3b21f02684a5b9d5f": {
          "model_module": "@jupyter-widgets/controls",
          "model_name": "HTMLModel",
          "model_module_version": "1.5.0",
          "state": {
            "_dom_classes": [],
            "_model_module": "@jupyter-widgets/controls",
            "_model_module_version": "1.5.0",
            "_model_name": "HTMLModel",
            "_view_count": null,
            "_view_module": "@jupyter-widgets/controls",
            "_view_module_version": "1.5.0",
            "_view_name": "HTMLView",
            "description": "",
            "description_tooltip": null,
            "layout": "IPY_MODEL_d677106579234b1c86104668ebde1101",
            "placeholder": "​",
            "style": "IPY_MODEL_e34bef54056a463eabfa80343e4c59b0",
            "value": "Map: 100%"
          }
        },
        "ce8a259abe3f4e0380f00cd9a1e063fb": {
          "model_module": "@jupyter-widgets/controls",
          "model_name": "FloatProgressModel",
          "model_module_version": "1.5.0",
          "state": {
            "_dom_classes": [],
            "_model_module": "@jupyter-widgets/controls",
            "_model_module_version": "1.5.0",
            "_model_name": "FloatProgressModel",
            "_view_count": null,
            "_view_module": "@jupyter-widgets/controls",
            "_view_module_version": "1.5.0",
            "_view_name": "ProgressView",
            "bar_style": "success",
            "description": "",
            "description_tooltip": null,
            "layout": "IPY_MODEL_b9b0b047e3644f688e9398edac429b0a",
            "max": 3394,
            "min": 0,
            "orientation": "horizontal",
            "style": "IPY_MODEL_d8f961117f1847f086d7657aa4506476",
            "value": 3394
          }
        },
        "d10da366230443439aa0bdcc3e9928a5": {
          "model_module": "@jupyter-widgets/controls",
          "model_name": "HTMLModel",
          "model_module_version": "1.5.0",
          "state": {
            "_dom_classes": [],
            "_model_module": "@jupyter-widgets/controls",
            "_model_module_version": "1.5.0",
            "_model_name": "HTMLModel",
            "_view_count": null,
            "_view_module": "@jupyter-widgets/controls",
            "_view_module_version": "1.5.0",
            "_view_name": "HTMLView",
            "description": "",
            "description_tooltip": null,
            "layout": "IPY_MODEL_45e83a85e71249659ff56c1a642c9e4d",
            "placeholder": "​",
            "style": "IPY_MODEL_77d567e32dcc4883b583cea746909620",
            "value": " 3394/3394 [00:01&lt;00:00, 2770.18 examples/s]"
          }
        },
        "c2c6e83ccca04a84b8e46e6638e49ff9": {
          "model_module": "@jupyter-widgets/base",
          "model_name": "LayoutModel",
          "model_module_version": "1.2.0",
          "state": {
            "_model_module": "@jupyter-widgets/base",
            "_model_module_version": "1.2.0",
            "_model_name": "LayoutModel",
            "_view_count": null,
            "_view_module": "@jupyter-widgets/base",
            "_view_module_version": "1.2.0",
            "_view_name": "LayoutView",
            "align_content": null,
            "align_items": null,
            "align_self": null,
            "border": null,
            "bottom": null,
            "display": null,
            "flex": null,
            "flex_flow": null,
            "grid_area": null,
            "grid_auto_columns": null,
            "grid_auto_flow": null,
            "grid_auto_rows": null,
            "grid_column": null,
            "grid_gap": null,
            "grid_row": null,
            "grid_template_areas": null,
            "grid_template_columns": null,
            "grid_template_rows": null,
            "height": null,
            "justify_content": null,
            "justify_items": null,
            "left": null,
            "margin": null,
            "max_height": null,
            "max_width": null,
            "min_height": null,
            "min_width": null,
            "object_fit": null,
            "object_position": null,
            "order": null,
            "overflow": null,
            "overflow_x": null,
            "overflow_y": null,
            "padding": null,
            "right": null,
            "top": null,
            "visibility": null,
            "width": null
          }
        },
        "d677106579234b1c86104668ebde1101": {
          "model_module": "@jupyter-widgets/base",
          "model_name": "LayoutModel",
          "model_module_version": "1.2.0",
          "state": {
            "_model_module": "@jupyter-widgets/base",
            "_model_module_version": "1.2.0",
            "_model_name": "LayoutModel",
            "_view_count": null,
            "_view_module": "@jupyter-widgets/base",
            "_view_module_version": "1.2.0",
            "_view_name": "LayoutView",
            "align_content": null,
            "align_items": null,
            "align_self": null,
            "border": null,
            "bottom": null,
            "display": null,
            "flex": null,
            "flex_flow": null,
            "grid_area": null,
            "grid_auto_columns": null,
            "grid_auto_flow": null,
            "grid_auto_rows": null,
            "grid_column": null,
            "grid_gap": null,
            "grid_row": null,
            "grid_template_areas": null,
            "grid_template_columns": null,
            "grid_template_rows": null,
            "height": null,
            "justify_content": null,
            "justify_items": null,
            "left": null,
            "margin": null,
            "max_height": null,
            "max_width": null,
            "min_height": null,
            "min_width": null,
            "object_fit": null,
            "object_position": null,
            "order": null,
            "overflow": null,
            "overflow_x": null,
            "overflow_y": null,
            "padding": null,
            "right": null,
            "top": null,
            "visibility": null,
            "width": null
          }
        },
        "e34bef54056a463eabfa80343e4c59b0": {
          "model_module": "@jupyter-widgets/controls",
          "model_name": "DescriptionStyleModel",
          "model_module_version": "1.5.0",
          "state": {
            "_model_module": "@jupyter-widgets/controls",
            "_model_module_version": "1.5.0",
            "_model_name": "DescriptionStyleModel",
            "_view_count": null,
            "_view_module": "@jupyter-widgets/base",
            "_view_module_version": "1.2.0",
            "_view_name": "StyleView",
            "description_width": ""
          }
        },
        "b9b0b047e3644f688e9398edac429b0a": {
          "model_module": "@jupyter-widgets/base",
          "model_name": "LayoutModel",
          "model_module_version": "1.2.0",
          "state": {
            "_model_module": "@jupyter-widgets/base",
            "_model_module_version": "1.2.0",
            "_model_name": "LayoutModel",
            "_view_count": null,
            "_view_module": "@jupyter-widgets/base",
            "_view_module_version": "1.2.0",
            "_view_name": "LayoutView",
            "align_content": null,
            "align_items": null,
            "align_self": null,
            "border": null,
            "bottom": null,
            "display": null,
            "flex": null,
            "flex_flow": null,
            "grid_area": null,
            "grid_auto_columns": null,
            "grid_auto_flow": null,
            "grid_auto_rows": null,
            "grid_column": null,
            "grid_gap": null,
            "grid_row": null,
            "grid_template_areas": null,
            "grid_template_columns": null,
            "grid_template_rows": null,
            "height": null,
            "justify_content": null,
            "justify_items": null,
            "left": null,
            "margin": null,
            "max_height": null,
            "max_width": null,
            "min_height": null,
            "min_width": null,
            "object_fit": null,
            "object_position": null,
            "order": null,
            "overflow": null,
            "overflow_x": null,
            "overflow_y": null,
            "padding": null,
            "right": null,
            "top": null,
            "visibility": null,
            "width": null
          }
        },
        "d8f961117f1847f086d7657aa4506476": {
          "model_module": "@jupyter-widgets/controls",
          "model_name": "ProgressStyleModel",
          "model_module_version": "1.5.0",
          "state": {
            "_model_module": "@jupyter-widgets/controls",
            "_model_module_version": "1.5.0",
            "_model_name": "ProgressStyleModel",
            "_view_count": null,
            "_view_module": "@jupyter-widgets/base",
            "_view_module_version": "1.2.0",
            "_view_name": "StyleView",
            "bar_color": null,
            "description_width": ""
          }
        },
        "45e83a85e71249659ff56c1a642c9e4d": {
          "model_module": "@jupyter-widgets/base",
          "model_name": "LayoutModel",
          "model_module_version": "1.2.0",
          "state": {
            "_model_module": "@jupyter-widgets/base",
            "_model_module_version": "1.2.0",
            "_model_name": "LayoutModel",
            "_view_count": null,
            "_view_module": "@jupyter-widgets/base",
            "_view_module_version": "1.2.0",
            "_view_name": "LayoutView",
            "align_content": null,
            "align_items": null,
            "align_self": null,
            "border": null,
            "bottom": null,
            "display": null,
            "flex": null,
            "flex_flow": null,
            "grid_area": null,
            "grid_auto_columns": null,
            "grid_auto_flow": null,
            "grid_auto_rows": null,
            "grid_column": null,
            "grid_gap": null,
            "grid_row": null,
            "grid_template_areas": null,
            "grid_template_columns": null,
            "grid_template_rows": null,
            "height": null,
            "justify_content": null,
            "justify_items": null,
            "left": null,
            "margin": null,
            "max_height": null,
            "max_width": null,
            "min_height": null,
            "min_width": null,
            "object_fit": null,
            "object_position": null,
            "order": null,
            "overflow": null,
            "overflow_x": null,
            "overflow_y": null,
            "padding": null,
            "right": null,
            "top": null,
            "visibility": null,
            "width": null
          }
        },
        "77d567e32dcc4883b583cea746909620": {
          "model_module": "@jupyter-widgets/controls",
          "model_name": "DescriptionStyleModel",
          "model_module_version": "1.5.0",
          "state": {
            "_model_module": "@jupyter-widgets/controls",
            "_model_module_version": "1.5.0",
            "_model_name": "DescriptionStyleModel",
            "_view_count": null,
            "_view_module": "@jupyter-widgets/base",
            "_view_module_version": "1.2.0",
            "_view_name": "StyleView",
            "description_width": ""
          }
        },
        "a909377cd16c40d295569f78bb163a6f": {
          "model_module": "@jupyter-widgets/controls",
          "model_name": "HBoxModel",
          "model_module_version": "1.5.0",
          "state": {
            "_dom_classes": [],
            "_model_module": "@jupyter-widgets/controls",
            "_model_module_version": "1.5.0",
            "_model_name": "HBoxModel",
            "_view_count": null,
            "_view_module": "@jupyter-widgets/controls",
            "_view_module_version": "1.5.0",
            "_view_name": "HBoxView",
            "box_style": "",
            "children": [
              "IPY_MODEL_bc30793dadde4a7bb299a32d364b4023",
              "IPY_MODEL_c12537805cdc4d2ebb6e95a15c07db99",
              "IPY_MODEL_b8e4f420a2f74810a4088837f88b340d"
            ],
            "layout": "IPY_MODEL_58f3bd31de9647c49e0c8a23d3c749db"
          }
        },
        "bc30793dadde4a7bb299a32d364b4023": {
          "model_module": "@jupyter-widgets/controls",
          "model_name": "HTMLModel",
          "model_module_version": "1.5.0",
          "state": {
            "_dom_classes": [],
            "_model_module": "@jupyter-widgets/controls",
            "_model_module_version": "1.5.0",
            "_model_name": "HTMLModel",
            "_view_count": null,
            "_view_module": "@jupyter-widgets/controls",
            "_view_module_version": "1.5.0",
            "_view_name": "HTMLView",
            "description": "",
            "description_tooltip": null,
            "layout": "IPY_MODEL_ec68bdc7eea44e3597272013f8510ff6",
            "placeholder": "​",
            "style": "IPY_MODEL_8a24d66b2ad744f6833fc0b476658360",
            "value": "Map: 100%"
          }
        },
        "c12537805cdc4d2ebb6e95a15c07db99": {
          "model_module": "@jupyter-widgets/controls",
          "model_name": "FloatProgressModel",
          "model_module_version": "1.5.0",
          "state": {
            "_dom_classes": [],
            "_model_module": "@jupyter-widgets/controls",
            "_model_module_version": "1.5.0",
            "_model_name": "FloatProgressModel",
            "_view_count": null,
            "_view_module": "@jupyter-widgets/controls",
            "_view_module_version": "1.5.0",
            "_view_name": "ProgressView",
            "bar_style": "success",
            "description": "",
            "description_tooltip": null,
            "layout": "IPY_MODEL_f6e1a5b74570414cbabc70795a40011a",
            "max": 1009,
            "min": 0,
            "orientation": "horizontal",
            "style": "IPY_MODEL_8fc6067c364a4fd6824a474d4c8d09eb",
            "value": 1009
          }
        },
        "b8e4f420a2f74810a4088837f88b340d": {
          "model_module": "@jupyter-widgets/controls",
          "model_name": "HTMLModel",
          "model_module_version": "1.5.0",
          "state": {
            "_dom_classes": [],
            "_model_module": "@jupyter-widgets/controls",
            "_model_module_version": "1.5.0",
            "_model_name": "HTMLModel",
            "_view_count": null,
            "_view_module": "@jupyter-widgets/controls",
            "_view_module_version": "1.5.0",
            "_view_name": "HTMLView",
            "description": "",
            "description_tooltip": null,
            "layout": "IPY_MODEL_b42d6e21decf4dae8e28165e7dfe1086",
            "placeholder": "​",
            "style": "IPY_MODEL_44ad873d445744f9824227a1847cf4b7",
            "value": " 1009/1009 [00:00&lt;00:00, 4266.91 examples/s]"
          }
        },
        "58f3bd31de9647c49e0c8a23d3c749db": {
          "model_module": "@jupyter-widgets/base",
          "model_name": "LayoutModel",
          "model_module_version": "1.2.0",
          "state": {
            "_model_module": "@jupyter-widgets/base",
            "_model_module_version": "1.2.0",
            "_model_name": "LayoutModel",
            "_view_count": null,
            "_view_module": "@jupyter-widgets/base",
            "_view_module_version": "1.2.0",
            "_view_name": "LayoutView",
            "align_content": null,
            "align_items": null,
            "align_self": null,
            "border": null,
            "bottom": null,
            "display": null,
            "flex": null,
            "flex_flow": null,
            "grid_area": null,
            "grid_auto_columns": null,
            "grid_auto_flow": null,
            "grid_auto_rows": null,
            "grid_column": null,
            "grid_gap": null,
            "grid_row": null,
            "grid_template_areas": null,
            "grid_template_columns": null,
            "grid_template_rows": null,
            "height": null,
            "justify_content": null,
            "justify_items": null,
            "left": null,
            "margin": null,
            "max_height": null,
            "max_width": null,
            "min_height": null,
            "min_width": null,
            "object_fit": null,
            "object_position": null,
            "order": null,
            "overflow": null,
            "overflow_x": null,
            "overflow_y": null,
            "padding": null,
            "right": null,
            "top": null,
            "visibility": null,
            "width": null
          }
        },
        "ec68bdc7eea44e3597272013f8510ff6": {
          "model_module": "@jupyter-widgets/base",
          "model_name": "LayoutModel",
          "model_module_version": "1.2.0",
          "state": {
            "_model_module": "@jupyter-widgets/base",
            "_model_module_version": "1.2.0",
            "_model_name": "LayoutModel",
            "_view_count": null,
            "_view_module": "@jupyter-widgets/base",
            "_view_module_version": "1.2.0",
            "_view_name": "LayoutView",
            "align_content": null,
            "align_items": null,
            "align_self": null,
            "border": null,
            "bottom": null,
            "display": null,
            "flex": null,
            "flex_flow": null,
            "grid_area": null,
            "grid_auto_columns": null,
            "grid_auto_flow": null,
            "grid_auto_rows": null,
            "grid_column": null,
            "grid_gap": null,
            "grid_row": null,
            "grid_template_areas": null,
            "grid_template_columns": null,
            "grid_template_rows": null,
            "height": null,
            "justify_content": null,
            "justify_items": null,
            "left": null,
            "margin": null,
            "max_height": null,
            "max_width": null,
            "min_height": null,
            "min_width": null,
            "object_fit": null,
            "object_position": null,
            "order": null,
            "overflow": null,
            "overflow_x": null,
            "overflow_y": null,
            "padding": null,
            "right": null,
            "top": null,
            "visibility": null,
            "width": null
          }
        },
        "8a24d66b2ad744f6833fc0b476658360": {
          "model_module": "@jupyter-widgets/controls",
          "model_name": "DescriptionStyleModel",
          "model_module_version": "1.5.0",
          "state": {
            "_model_module": "@jupyter-widgets/controls",
            "_model_module_version": "1.5.0",
            "_model_name": "DescriptionStyleModel",
            "_view_count": null,
            "_view_module": "@jupyter-widgets/base",
            "_view_module_version": "1.2.0",
            "_view_name": "StyleView",
            "description_width": ""
          }
        },
        "f6e1a5b74570414cbabc70795a40011a": {
          "model_module": "@jupyter-widgets/base",
          "model_name": "LayoutModel",
          "model_module_version": "1.2.0",
          "state": {
            "_model_module": "@jupyter-widgets/base",
            "_model_module_version": "1.2.0",
            "_model_name": "LayoutModel",
            "_view_count": null,
            "_view_module": "@jupyter-widgets/base",
            "_view_module_version": "1.2.0",
            "_view_name": "LayoutView",
            "align_content": null,
            "align_items": null,
            "align_self": null,
            "border": null,
            "bottom": null,
            "display": null,
            "flex": null,
            "flex_flow": null,
            "grid_area": null,
            "grid_auto_columns": null,
            "grid_auto_flow": null,
            "grid_auto_rows": null,
            "grid_column": null,
            "grid_gap": null,
            "grid_row": null,
            "grid_template_areas": null,
            "grid_template_columns": null,
            "grid_template_rows": null,
            "height": null,
            "justify_content": null,
            "justify_items": null,
            "left": null,
            "margin": null,
            "max_height": null,
            "max_width": null,
            "min_height": null,
            "min_width": null,
            "object_fit": null,
            "object_position": null,
            "order": null,
            "overflow": null,
            "overflow_x": null,
            "overflow_y": null,
            "padding": null,
            "right": null,
            "top": null,
            "visibility": null,
            "width": null
          }
        },
        "8fc6067c364a4fd6824a474d4c8d09eb": {
          "model_module": "@jupyter-widgets/controls",
          "model_name": "ProgressStyleModel",
          "model_module_version": "1.5.0",
          "state": {
            "_model_module": "@jupyter-widgets/controls",
            "_model_module_version": "1.5.0",
            "_model_name": "ProgressStyleModel",
            "_view_count": null,
            "_view_module": "@jupyter-widgets/base",
            "_view_module_version": "1.2.0",
            "_view_name": "StyleView",
            "bar_color": null,
            "description_width": ""
          }
        },
        "b42d6e21decf4dae8e28165e7dfe1086": {
          "model_module": "@jupyter-widgets/base",
          "model_name": "LayoutModel",
          "model_module_version": "1.2.0",
          "state": {
            "_model_module": "@jupyter-widgets/base",
            "_model_module_version": "1.2.0",
            "_model_name": "LayoutModel",
            "_view_count": null,
            "_view_module": "@jupyter-widgets/base",
            "_view_module_version": "1.2.0",
            "_view_name": "LayoutView",
            "align_content": null,
            "align_items": null,
            "align_self": null,
            "border": null,
            "bottom": null,
            "display": null,
            "flex": null,
            "flex_flow": null,
            "grid_area": null,
            "grid_auto_columns": null,
            "grid_auto_flow": null,
            "grid_auto_rows": null,
            "grid_column": null,
            "grid_gap": null,
            "grid_row": null,
            "grid_template_areas": null,
            "grid_template_columns": null,
            "grid_template_rows": null,
            "height": null,
            "justify_content": null,
            "justify_items": null,
            "left": null,
            "margin": null,
            "max_height": null,
            "max_width": null,
            "min_height": null,
            "min_width": null,
            "object_fit": null,
            "object_position": null,
            "order": null,
            "overflow": null,
            "overflow_x": null,
            "overflow_y": null,
            "padding": null,
            "right": null,
            "top": null,
            "visibility": null,
            "width": null
          }
        },
        "44ad873d445744f9824227a1847cf4b7": {
          "model_module": "@jupyter-widgets/controls",
          "model_name": "DescriptionStyleModel",
          "model_module_version": "1.5.0",
          "state": {
            "_model_module": "@jupyter-widgets/controls",
            "_model_module_version": "1.5.0",
            "_model_name": "DescriptionStyleModel",
            "_view_count": null,
            "_view_module": "@jupyter-widgets/base",
            "_view_module_version": "1.2.0",
            "_view_name": "StyleView",
            "description_width": ""
          }
        },
        "0adad4567e1141f08ded98e8a789666f": {
          "model_module": "@jupyter-widgets/controls",
          "model_name": "HBoxModel",
          "model_module_version": "1.5.0",
          "state": {
            "_dom_classes": [],
            "_model_module": "@jupyter-widgets/controls",
            "_model_module_version": "1.5.0",
            "_model_name": "HBoxModel",
            "_view_count": null,
            "_view_module": "@jupyter-widgets/controls",
            "_view_module_version": "1.5.0",
            "_view_name": "HBoxView",
            "box_style": "",
            "children": [
              "IPY_MODEL_d1c67c5b17c149659295e5cc5068f917",
              "IPY_MODEL_3b17d8f37f9b436196cb89346ca99faa",
              "IPY_MODEL_f7b1dd3879974ed18c0d500137c11525"
            ],
            "layout": "IPY_MODEL_94f08214b1914b9eb300386361c45884"
          }
        },
        "d1c67c5b17c149659295e5cc5068f917": {
          "model_module": "@jupyter-widgets/controls",
          "model_name": "HTMLModel",
          "model_module_version": "1.5.0",
          "state": {
            "_dom_classes": [],
            "_model_module": "@jupyter-widgets/controls",
            "_model_module_version": "1.5.0",
            "_model_name": "HTMLModel",
            "_view_count": null,
            "_view_module": "@jupyter-widgets/controls",
            "_view_module_version": "1.5.0",
            "_view_name": "HTMLView",
            "description": "",
            "description_tooltip": null,
            "layout": "IPY_MODEL_afcb24d7062e44cea10d2ad2e31ab4af",
            "placeholder": "​",
            "style": "IPY_MODEL_a196979f30074d84b8d09c043ae147c7",
            "value": "Map: 100%"
          }
        },
        "3b17d8f37f9b436196cb89346ca99faa": {
          "model_module": "@jupyter-widgets/controls",
          "model_name": "FloatProgressModel",
          "model_module_version": "1.5.0",
          "state": {
            "_dom_classes": [],
            "_model_module": "@jupyter-widgets/controls",
            "_model_module_version": "1.5.0",
            "_model_name": "FloatProgressModel",
            "_view_count": null,
            "_view_module": "@jupyter-widgets/controls",
            "_view_module_version": "1.5.0",
            "_view_name": "ProgressView",
            "bar_style": "success",
            "description": "",
            "description_tooltip": null,
            "layout": "IPY_MODEL_3f018de552a74be4a0bc55dcdc830394",
            "max": 1287,
            "min": 0,
            "orientation": "horizontal",
            "style": "IPY_MODEL_9ff5d003870f43f9b1af16e7abd656b4",
            "value": 1287
          }
        },
        "f7b1dd3879974ed18c0d500137c11525": {
          "model_module": "@jupyter-widgets/controls",
          "model_name": "HTMLModel",
          "model_module_version": "1.5.0",
          "state": {
            "_dom_classes": [],
            "_model_module": "@jupyter-widgets/controls",
            "_model_module_version": "1.5.0",
            "_model_name": "HTMLModel",
            "_view_count": null,
            "_view_module": "@jupyter-widgets/controls",
            "_view_module_version": "1.5.0",
            "_view_name": "HTMLView",
            "description": "",
            "description_tooltip": null,
            "layout": "IPY_MODEL_29a6af1d2bb54805aba50f2a4b04a38c",
            "placeholder": "​",
            "style": "IPY_MODEL_3b7790a92062419d91d503645ad08ad0",
            "value": " 1287/1287 [00:00&lt;00:00, 3462.36 examples/s]"
          }
        },
        "94f08214b1914b9eb300386361c45884": {
          "model_module": "@jupyter-widgets/base",
          "model_name": "LayoutModel",
          "model_module_version": "1.2.0",
          "state": {
            "_model_module": "@jupyter-widgets/base",
            "_model_module_version": "1.2.0",
            "_model_name": "LayoutModel",
            "_view_count": null,
            "_view_module": "@jupyter-widgets/base",
            "_view_module_version": "1.2.0",
            "_view_name": "LayoutView",
            "align_content": null,
            "align_items": null,
            "align_self": null,
            "border": null,
            "bottom": null,
            "display": null,
            "flex": null,
            "flex_flow": null,
            "grid_area": null,
            "grid_auto_columns": null,
            "grid_auto_flow": null,
            "grid_auto_rows": null,
            "grid_column": null,
            "grid_gap": null,
            "grid_row": null,
            "grid_template_areas": null,
            "grid_template_columns": null,
            "grid_template_rows": null,
            "height": null,
            "justify_content": null,
            "justify_items": null,
            "left": null,
            "margin": null,
            "max_height": null,
            "max_width": null,
            "min_height": null,
            "min_width": null,
            "object_fit": null,
            "object_position": null,
            "order": null,
            "overflow": null,
            "overflow_x": null,
            "overflow_y": null,
            "padding": null,
            "right": null,
            "top": null,
            "visibility": null,
            "width": null
          }
        },
        "afcb24d7062e44cea10d2ad2e31ab4af": {
          "model_module": "@jupyter-widgets/base",
          "model_name": "LayoutModel",
          "model_module_version": "1.2.0",
          "state": {
            "_model_module": "@jupyter-widgets/base",
            "_model_module_version": "1.2.0",
            "_model_name": "LayoutModel",
            "_view_count": null,
            "_view_module": "@jupyter-widgets/base",
            "_view_module_version": "1.2.0",
            "_view_name": "LayoutView",
            "align_content": null,
            "align_items": null,
            "align_self": null,
            "border": null,
            "bottom": null,
            "display": null,
            "flex": null,
            "flex_flow": null,
            "grid_area": null,
            "grid_auto_columns": null,
            "grid_auto_flow": null,
            "grid_auto_rows": null,
            "grid_column": null,
            "grid_gap": null,
            "grid_row": null,
            "grid_template_areas": null,
            "grid_template_columns": null,
            "grid_template_rows": null,
            "height": null,
            "justify_content": null,
            "justify_items": null,
            "left": null,
            "margin": null,
            "max_height": null,
            "max_width": null,
            "min_height": null,
            "min_width": null,
            "object_fit": null,
            "object_position": null,
            "order": null,
            "overflow": null,
            "overflow_x": null,
            "overflow_y": null,
            "padding": null,
            "right": null,
            "top": null,
            "visibility": null,
            "width": null
          }
        },
        "a196979f30074d84b8d09c043ae147c7": {
          "model_module": "@jupyter-widgets/controls",
          "model_name": "DescriptionStyleModel",
          "model_module_version": "1.5.0",
          "state": {
            "_model_module": "@jupyter-widgets/controls",
            "_model_module_version": "1.5.0",
            "_model_name": "DescriptionStyleModel",
            "_view_count": null,
            "_view_module": "@jupyter-widgets/base",
            "_view_module_version": "1.2.0",
            "_view_name": "StyleView",
            "description_width": ""
          }
        },
        "3f018de552a74be4a0bc55dcdc830394": {
          "model_module": "@jupyter-widgets/base",
          "model_name": "LayoutModel",
          "model_module_version": "1.2.0",
          "state": {
            "_model_module": "@jupyter-widgets/base",
            "_model_module_version": "1.2.0",
            "_model_name": "LayoutModel",
            "_view_count": null,
            "_view_module": "@jupyter-widgets/base",
            "_view_module_version": "1.2.0",
            "_view_name": "LayoutView",
            "align_content": null,
            "align_items": null,
            "align_self": null,
            "border": null,
            "bottom": null,
            "display": null,
            "flex": null,
            "flex_flow": null,
            "grid_area": null,
            "grid_auto_columns": null,
            "grid_auto_flow": null,
            "grid_auto_rows": null,
            "grid_column": null,
            "grid_gap": null,
            "grid_row": null,
            "grid_template_areas": null,
            "grid_template_columns": null,
            "grid_template_rows": null,
            "height": null,
            "justify_content": null,
            "justify_items": null,
            "left": null,
            "margin": null,
            "max_height": null,
            "max_width": null,
            "min_height": null,
            "min_width": null,
            "object_fit": null,
            "object_position": null,
            "order": null,
            "overflow": null,
            "overflow_x": null,
            "overflow_y": null,
            "padding": null,
            "right": null,
            "top": null,
            "visibility": null,
            "width": null
          }
        },
        "9ff5d003870f43f9b1af16e7abd656b4": {
          "model_module": "@jupyter-widgets/controls",
          "model_name": "ProgressStyleModel",
          "model_module_version": "1.5.0",
          "state": {
            "_model_module": "@jupyter-widgets/controls",
            "_model_module_version": "1.5.0",
            "_model_name": "ProgressStyleModel",
            "_view_count": null,
            "_view_module": "@jupyter-widgets/base",
            "_view_module_version": "1.2.0",
            "_view_name": "StyleView",
            "bar_color": null,
            "description_width": ""
          }
        },
        "29a6af1d2bb54805aba50f2a4b04a38c": {
          "model_module": "@jupyter-widgets/base",
          "model_name": "LayoutModel",
          "model_module_version": "1.2.0",
          "state": {
            "_model_module": "@jupyter-widgets/base",
            "_model_module_version": "1.2.0",
            "_model_name": "LayoutModel",
            "_view_count": null,
            "_view_module": "@jupyter-widgets/base",
            "_view_module_version": "1.2.0",
            "_view_name": "LayoutView",
            "align_content": null,
            "align_items": null,
            "align_self": null,
            "border": null,
            "bottom": null,
            "display": null,
            "flex": null,
            "flex_flow": null,
            "grid_area": null,
            "grid_auto_columns": null,
            "grid_auto_flow": null,
            "grid_auto_rows": null,
            "grid_column": null,
            "grid_gap": null,
            "grid_row": null,
            "grid_template_areas": null,
            "grid_template_columns": null,
            "grid_template_rows": null,
            "height": null,
            "justify_content": null,
            "justify_items": null,
            "left": null,
            "margin": null,
            "max_height": null,
            "max_width": null,
            "min_height": null,
            "min_width": null,
            "object_fit": null,
            "object_position": null,
            "order": null,
            "overflow": null,
            "overflow_x": null,
            "overflow_y": null,
            "padding": null,
            "right": null,
            "top": null,
            "visibility": null,
            "width": null
          }
        },
        "3b7790a92062419d91d503645ad08ad0": {
          "model_module": "@jupyter-widgets/controls",
          "model_name": "DescriptionStyleModel",
          "model_module_version": "1.5.0",
          "state": {
            "_model_module": "@jupyter-widgets/controls",
            "_model_module_version": "1.5.0",
            "_model_name": "DescriptionStyleModel",
            "_view_count": null,
            "_view_module": "@jupyter-widgets/base",
            "_view_module_version": "1.2.0",
            "_view_name": "StyleView",
            "description_width": ""
          }
        },
        "29ba1e1fb228411c8e01d9fe4836daf9": {
          "model_module": "@jupyter-widgets/controls",
          "model_name": "VBoxModel",
          "model_module_version": "1.5.0",
          "state": {
            "_dom_classes": [],
            "_model_module": "@jupyter-widgets/controls",
            "_model_module_version": "1.5.0",
            "_model_name": "VBoxModel",
            "_view_count": null,
            "_view_module": "@jupyter-widgets/controls",
            "_view_module_version": "1.5.0",
            "_view_name": "VBoxView",
            "box_style": "",
            "children": [
              "IPY_MODEL_b0a974d1092641449d90376a7c0ce97f",
              "IPY_MODEL_53c655a8396f46348a891d09231d3481",
              "IPY_MODEL_21914cdbabfa41888229c2a9b5f5a6c1",
              "IPY_MODEL_97255b092093460d9ed7a1b241663254"
            ],
            "layout": "IPY_MODEL_71a892fc0e2142eca06f83841e64cf37"
          }
        },
        "af7df0a22b3b4992a7138017c25ceb6e": {
          "model_module": "@jupyter-widgets/controls",
          "model_name": "HTMLModel",
          "model_module_version": "1.5.0",
          "state": {
            "_dom_classes": [],
            "_model_module": "@jupyter-widgets/controls",
            "_model_module_version": "1.5.0",
            "_model_name": "HTMLModel",
            "_view_count": null,
            "_view_module": "@jupyter-widgets/controls",
            "_view_module_version": "1.5.0",
            "_view_name": "HTMLView",
            "description": "",
            "description_tooltip": null,
            "layout": "IPY_MODEL_31cad55c507f465b8d9b1ca7bdd2461c",
            "placeholder": "​",
            "style": "IPY_MODEL_a2a05692227e4a07b5fa17212c67a380",
            "value": "<center> <img\nsrc=https://huggingface.co/front/assets/huggingface_logo-noborder.svg\nalt='Hugging Face'> <br> Copy a token from <a\nhref=\"https://huggingface.co/settings/tokens\" target=\"_blank\">your Hugging Face\ntokens page</a> and paste it below. <br> Immediately click login after copying\nyour token or it might be stored in plain text in this notebook file. </center>"
          }
        },
        "fa670104a98a4ec7bb450f743bfad052": {
          "model_module": "@jupyter-widgets/controls",
          "model_name": "PasswordModel",
          "model_module_version": "1.5.0",
          "state": {
            "_dom_classes": [],
            "_model_module": "@jupyter-widgets/controls",
            "_model_module_version": "1.5.0",
            "_model_name": "PasswordModel",
            "_view_count": null,
            "_view_module": "@jupyter-widgets/controls",
            "_view_module_version": "1.5.0",
            "_view_name": "PasswordView",
            "continuous_update": true,
            "description": "Token:",
            "description_tooltip": null,
            "disabled": false,
            "layout": "IPY_MODEL_1774e5b023434d06920f03f419b72959",
            "placeholder": "​",
            "style": "IPY_MODEL_605d0fd953e743f48104f8c4c069e104",
            "value": ""
          }
        },
        "9eaba1838fc147f8a204ffc94e85286b": {
          "model_module": "@jupyter-widgets/controls",
          "model_name": "CheckboxModel",
          "model_module_version": "1.5.0",
          "state": {
            "_dom_classes": [],
            "_model_module": "@jupyter-widgets/controls",
            "_model_module_version": "1.5.0",
            "_model_name": "CheckboxModel",
            "_view_count": null,
            "_view_module": "@jupyter-widgets/controls",
            "_view_module_version": "1.5.0",
            "_view_name": "CheckboxView",
            "description": "Add token as git credential?",
            "description_tooltip": null,
            "disabled": false,
            "indent": true,
            "layout": "IPY_MODEL_a3d07711a5a3484e894e56db7dbdcfd9",
            "style": "IPY_MODEL_6c499d5b430d4620a57d7138627d6f93",
            "value": true
          }
        },
        "4048ef50f24446dca953a4f84aa0a81c": {
          "model_module": "@jupyter-widgets/controls",
          "model_name": "ButtonModel",
          "model_module_version": "1.5.0",
          "state": {
            "_dom_classes": [],
            "_model_module": "@jupyter-widgets/controls",
            "_model_module_version": "1.5.0",
            "_model_name": "ButtonModel",
            "_view_count": null,
            "_view_module": "@jupyter-widgets/controls",
            "_view_module_version": "1.5.0",
            "_view_name": "ButtonView",
            "button_style": "",
            "description": "Login",
            "disabled": false,
            "icon": "",
            "layout": "IPY_MODEL_f445f03771b44e62ae6d39e55a78f0b1",
            "style": "IPY_MODEL_2975bb63073e49ecad9955e50141ee2d",
            "tooltip": ""
          }
        },
        "e3db5035e8894119b6492b9a2167ae3f": {
          "model_module": "@jupyter-widgets/controls",
          "model_name": "HTMLModel",
          "model_module_version": "1.5.0",
          "state": {
            "_dom_classes": [],
            "_model_module": "@jupyter-widgets/controls",
            "_model_module_version": "1.5.0",
            "_model_name": "HTMLModel",
            "_view_count": null,
            "_view_module": "@jupyter-widgets/controls",
            "_view_module_version": "1.5.0",
            "_view_name": "HTMLView",
            "description": "",
            "description_tooltip": null,
            "layout": "IPY_MODEL_c0b76f61202b49c39f01d593586deae2",
            "placeholder": "​",
            "style": "IPY_MODEL_095fce6da65442ef832f9666f6531499",
            "value": "\n<b>Pro Tip:</b> If you don't already have one, you can create a dedicated\n'notebooks' token with 'write' access, that you can then easily reuse for all\nnotebooks. </center>"
          }
        },
        "71a892fc0e2142eca06f83841e64cf37": {
          "model_module": "@jupyter-widgets/base",
          "model_name": "LayoutModel",
          "model_module_version": "1.2.0",
          "state": {
            "_model_module": "@jupyter-widgets/base",
            "_model_module_version": "1.2.0",
            "_model_name": "LayoutModel",
            "_view_count": null,
            "_view_module": "@jupyter-widgets/base",
            "_view_module_version": "1.2.0",
            "_view_name": "LayoutView",
            "align_content": null,
            "align_items": "center",
            "align_self": null,
            "border": null,
            "bottom": null,
            "display": "flex",
            "flex": null,
            "flex_flow": "column",
            "grid_area": null,
            "grid_auto_columns": null,
            "grid_auto_flow": null,
            "grid_auto_rows": null,
            "grid_column": null,
            "grid_gap": null,
            "grid_row": null,
            "grid_template_areas": null,
            "grid_template_columns": null,
            "grid_template_rows": null,
            "height": null,
            "justify_content": null,
            "justify_items": null,
            "left": null,
            "margin": null,
            "max_height": null,
            "max_width": null,
            "min_height": null,
            "min_width": null,
            "object_fit": null,
            "object_position": null,
            "order": null,
            "overflow": null,
            "overflow_x": null,
            "overflow_y": null,
            "padding": null,
            "right": null,
            "top": null,
            "visibility": null,
            "width": "50%"
          }
        },
        "31cad55c507f465b8d9b1ca7bdd2461c": {
          "model_module": "@jupyter-widgets/base",
          "model_name": "LayoutModel",
          "model_module_version": "1.2.0",
          "state": {
            "_model_module": "@jupyter-widgets/base",
            "_model_module_version": "1.2.0",
            "_model_name": "LayoutModel",
            "_view_count": null,
            "_view_module": "@jupyter-widgets/base",
            "_view_module_version": "1.2.0",
            "_view_name": "LayoutView",
            "align_content": null,
            "align_items": null,
            "align_self": null,
            "border": null,
            "bottom": null,
            "display": null,
            "flex": null,
            "flex_flow": null,
            "grid_area": null,
            "grid_auto_columns": null,
            "grid_auto_flow": null,
            "grid_auto_rows": null,
            "grid_column": null,
            "grid_gap": null,
            "grid_row": null,
            "grid_template_areas": null,
            "grid_template_columns": null,
            "grid_template_rows": null,
            "height": null,
            "justify_content": null,
            "justify_items": null,
            "left": null,
            "margin": null,
            "max_height": null,
            "max_width": null,
            "min_height": null,
            "min_width": null,
            "object_fit": null,
            "object_position": null,
            "order": null,
            "overflow": null,
            "overflow_x": null,
            "overflow_y": null,
            "padding": null,
            "right": null,
            "top": null,
            "visibility": null,
            "width": null
          }
        },
        "a2a05692227e4a07b5fa17212c67a380": {
          "model_module": "@jupyter-widgets/controls",
          "model_name": "DescriptionStyleModel",
          "model_module_version": "1.5.0",
          "state": {
            "_model_module": "@jupyter-widgets/controls",
            "_model_module_version": "1.5.0",
            "_model_name": "DescriptionStyleModel",
            "_view_count": null,
            "_view_module": "@jupyter-widgets/base",
            "_view_module_version": "1.2.0",
            "_view_name": "StyleView",
            "description_width": ""
          }
        },
        "1774e5b023434d06920f03f419b72959": {
          "model_module": "@jupyter-widgets/base",
          "model_name": "LayoutModel",
          "model_module_version": "1.2.0",
          "state": {
            "_model_module": "@jupyter-widgets/base",
            "_model_module_version": "1.2.0",
            "_model_name": "LayoutModel",
            "_view_count": null,
            "_view_module": "@jupyter-widgets/base",
            "_view_module_version": "1.2.0",
            "_view_name": "LayoutView",
            "align_content": null,
            "align_items": null,
            "align_self": null,
            "border": null,
            "bottom": null,
            "display": null,
            "flex": null,
            "flex_flow": null,
            "grid_area": null,
            "grid_auto_columns": null,
            "grid_auto_flow": null,
            "grid_auto_rows": null,
            "grid_column": null,
            "grid_gap": null,
            "grid_row": null,
            "grid_template_areas": null,
            "grid_template_columns": null,
            "grid_template_rows": null,
            "height": null,
            "justify_content": null,
            "justify_items": null,
            "left": null,
            "margin": null,
            "max_height": null,
            "max_width": null,
            "min_height": null,
            "min_width": null,
            "object_fit": null,
            "object_position": null,
            "order": null,
            "overflow": null,
            "overflow_x": null,
            "overflow_y": null,
            "padding": null,
            "right": null,
            "top": null,
            "visibility": null,
            "width": null
          }
        },
        "605d0fd953e743f48104f8c4c069e104": {
          "model_module": "@jupyter-widgets/controls",
          "model_name": "DescriptionStyleModel",
          "model_module_version": "1.5.0",
          "state": {
            "_model_module": "@jupyter-widgets/controls",
            "_model_module_version": "1.5.0",
            "_model_name": "DescriptionStyleModel",
            "_view_count": null,
            "_view_module": "@jupyter-widgets/base",
            "_view_module_version": "1.2.0",
            "_view_name": "StyleView",
            "description_width": ""
          }
        },
        "a3d07711a5a3484e894e56db7dbdcfd9": {
          "model_module": "@jupyter-widgets/base",
          "model_name": "LayoutModel",
          "model_module_version": "1.2.0",
          "state": {
            "_model_module": "@jupyter-widgets/base",
            "_model_module_version": "1.2.0",
            "_model_name": "LayoutModel",
            "_view_count": null,
            "_view_module": "@jupyter-widgets/base",
            "_view_module_version": "1.2.0",
            "_view_name": "LayoutView",
            "align_content": null,
            "align_items": null,
            "align_self": null,
            "border": null,
            "bottom": null,
            "display": null,
            "flex": null,
            "flex_flow": null,
            "grid_area": null,
            "grid_auto_columns": null,
            "grid_auto_flow": null,
            "grid_auto_rows": null,
            "grid_column": null,
            "grid_gap": null,
            "grid_row": null,
            "grid_template_areas": null,
            "grid_template_columns": null,
            "grid_template_rows": null,
            "height": null,
            "justify_content": null,
            "justify_items": null,
            "left": null,
            "margin": null,
            "max_height": null,
            "max_width": null,
            "min_height": null,
            "min_width": null,
            "object_fit": null,
            "object_position": null,
            "order": null,
            "overflow": null,
            "overflow_x": null,
            "overflow_y": null,
            "padding": null,
            "right": null,
            "top": null,
            "visibility": null,
            "width": null
          }
        },
        "6c499d5b430d4620a57d7138627d6f93": {
          "model_module": "@jupyter-widgets/controls",
          "model_name": "DescriptionStyleModel",
          "model_module_version": "1.5.0",
          "state": {
            "_model_module": "@jupyter-widgets/controls",
            "_model_module_version": "1.5.0",
            "_model_name": "DescriptionStyleModel",
            "_view_count": null,
            "_view_module": "@jupyter-widgets/base",
            "_view_module_version": "1.2.0",
            "_view_name": "StyleView",
            "description_width": ""
          }
        },
        "f445f03771b44e62ae6d39e55a78f0b1": {
          "model_module": "@jupyter-widgets/base",
          "model_name": "LayoutModel",
          "model_module_version": "1.2.0",
          "state": {
            "_model_module": "@jupyter-widgets/base",
            "_model_module_version": "1.2.0",
            "_model_name": "LayoutModel",
            "_view_count": null,
            "_view_module": "@jupyter-widgets/base",
            "_view_module_version": "1.2.0",
            "_view_name": "LayoutView",
            "align_content": null,
            "align_items": null,
            "align_self": null,
            "border": null,
            "bottom": null,
            "display": null,
            "flex": null,
            "flex_flow": null,
            "grid_area": null,
            "grid_auto_columns": null,
            "grid_auto_flow": null,
            "grid_auto_rows": null,
            "grid_column": null,
            "grid_gap": null,
            "grid_row": null,
            "grid_template_areas": null,
            "grid_template_columns": null,
            "grid_template_rows": null,
            "height": null,
            "justify_content": null,
            "justify_items": null,
            "left": null,
            "margin": null,
            "max_height": null,
            "max_width": null,
            "min_height": null,
            "min_width": null,
            "object_fit": null,
            "object_position": null,
            "order": null,
            "overflow": null,
            "overflow_x": null,
            "overflow_y": null,
            "padding": null,
            "right": null,
            "top": null,
            "visibility": null,
            "width": null
          }
        },
        "2975bb63073e49ecad9955e50141ee2d": {
          "model_module": "@jupyter-widgets/controls",
          "model_name": "ButtonStyleModel",
          "model_module_version": "1.5.0",
          "state": {
            "_model_module": "@jupyter-widgets/controls",
            "_model_module_version": "1.5.0",
            "_model_name": "ButtonStyleModel",
            "_view_count": null,
            "_view_module": "@jupyter-widgets/base",
            "_view_module_version": "1.2.0",
            "_view_name": "StyleView",
            "button_color": null,
            "font_weight": ""
          }
        },
        "c0b76f61202b49c39f01d593586deae2": {
          "model_module": "@jupyter-widgets/base",
          "model_name": "LayoutModel",
          "model_module_version": "1.2.0",
          "state": {
            "_model_module": "@jupyter-widgets/base",
            "_model_module_version": "1.2.0",
            "_model_name": "LayoutModel",
            "_view_count": null,
            "_view_module": "@jupyter-widgets/base",
            "_view_module_version": "1.2.0",
            "_view_name": "LayoutView",
            "align_content": null,
            "align_items": null,
            "align_self": null,
            "border": null,
            "bottom": null,
            "display": null,
            "flex": null,
            "flex_flow": null,
            "grid_area": null,
            "grid_auto_columns": null,
            "grid_auto_flow": null,
            "grid_auto_rows": null,
            "grid_column": null,
            "grid_gap": null,
            "grid_row": null,
            "grid_template_areas": null,
            "grid_template_columns": null,
            "grid_template_rows": null,
            "height": null,
            "justify_content": null,
            "justify_items": null,
            "left": null,
            "margin": null,
            "max_height": null,
            "max_width": null,
            "min_height": null,
            "min_width": null,
            "object_fit": null,
            "object_position": null,
            "order": null,
            "overflow": null,
            "overflow_x": null,
            "overflow_y": null,
            "padding": null,
            "right": null,
            "top": null,
            "visibility": null,
            "width": null
          }
        },
        "095fce6da65442ef832f9666f6531499": {
          "model_module": "@jupyter-widgets/controls",
          "model_name": "DescriptionStyleModel",
          "model_module_version": "1.5.0",
          "state": {
            "_model_module": "@jupyter-widgets/controls",
            "_model_module_version": "1.5.0",
            "_model_name": "DescriptionStyleModel",
            "_view_count": null,
            "_view_module": "@jupyter-widgets/base",
            "_view_module_version": "1.2.0",
            "_view_name": "StyleView",
            "description_width": ""
          }
        },
        "51158231ba5a42bea0244f849ae44a31": {
          "model_module": "@jupyter-widgets/controls",
          "model_name": "LabelModel",
          "model_module_version": "1.5.0",
          "state": {
            "_dom_classes": [],
            "_model_module": "@jupyter-widgets/controls",
            "_model_module_version": "1.5.0",
            "_model_name": "LabelModel",
            "_view_count": null,
            "_view_module": "@jupyter-widgets/controls",
            "_view_module_version": "1.5.0",
            "_view_name": "LabelView",
            "description": "",
            "description_tooltip": null,
            "layout": "IPY_MODEL_7be57308266c48e1ae976a21aea0fd45",
            "placeholder": "​",
            "style": "IPY_MODEL_763338da6ad54da1afd4ad62997e4c2c",
            "value": "Connecting..."
          }
        },
        "7be57308266c48e1ae976a21aea0fd45": {
          "model_module": "@jupyter-widgets/base",
          "model_name": "LayoutModel",
          "model_module_version": "1.2.0",
          "state": {
            "_model_module": "@jupyter-widgets/base",
            "_model_module_version": "1.2.0",
            "_model_name": "LayoutModel",
            "_view_count": null,
            "_view_module": "@jupyter-widgets/base",
            "_view_module_version": "1.2.0",
            "_view_name": "LayoutView",
            "align_content": null,
            "align_items": null,
            "align_self": null,
            "border": null,
            "bottom": null,
            "display": null,
            "flex": null,
            "flex_flow": null,
            "grid_area": null,
            "grid_auto_columns": null,
            "grid_auto_flow": null,
            "grid_auto_rows": null,
            "grid_column": null,
            "grid_gap": null,
            "grid_row": null,
            "grid_template_areas": null,
            "grid_template_columns": null,
            "grid_template_rows": null,
            "height": null,
            "justify_content": null,
            "justify_items": null,
            "left": null,
            "margin": null,
            "max_height": null,
            "max_width": null,
            "min_height": null,
            "min_width": null,
            "object_fit": null,
            "object_position": null,
            "order": null,
            "overflow": null,
            "overflow_x": null,
            "overflow_y": null,
            "padding": null,
            "right": null,
            "top": null,
            "visibility": null,
            "width": null
          }
        },
        "763338da6ad54da1afd4ad62997e4c2c": {
          "model_module": "@jupyter-widgets/controls",
          "model_name": "DescriptionStyleModel",
          "model_module_version": "1.5.0",
          "state": {
            "_model_module": "@jupyter-widgets/controls",
            "_model_module_version": "1.5.0",
            "_model_name": "DescriptionStyleModel",
            "_view_count": null,
            "_view_module": "@jupyter-widgets/base",
            "_view_module_version": "1.2.0",
            "_view_name": "StyleView",
            "description_width": ""
          }
        },
        "b0a974d1092641449d90376a7c0ce97f": {
          "model_module": "@jupyter-widgets/controls",
          "model_name": "LabelModel",
          "model_module_version": "1.5.0",
          "state": {
            "_dom_classes": [],
            "_model_module": "@jupyter-widgets/controls",
            "_model_module_version": "1.5.0",
            "_model_name": "LabelModel",
            "_view_count": null,
            "_view_module": "@jupyter-widgets/controls",
            "_view_module_version": "1.5.0",
            "_view_name": "LabelView",
            "description": "",
            "description_tooltip": null,
            "layout": "IPY_MODEL_673f0cf090b24bfab0eca5119fea3dc5",
            "placeholder": "​",
            "style": "IPY_MODEL_7e54a152992f48b98dedb31a695bd569",
            "value": "Token is valid (permission: read)."
          }
        },
        "53c655a8396f46348a891d09231d3481": {
          "model_module": "@jupyter-widgets/controls",
          "model_name": "LabelModel",
          "model_module_version": "1.5.0",
          "state": {
            "_dom_classes": [],
            "_model_module": "@jupyter-widgets/controls",
            "_model_module_version": "1.5.0",
            "_model_name": "LabelModel",
            "_view_count": null,
            "_view_module": "@jupyter-widgets/controls",
            "_view_module_version": "1.5.0",
            "_view_name": "LabelView",
            "description": "",
            "description_tooltip": null,
            "layout": "IPY_MODEL_95dca42ef0bb43918dd03852d901216a",
            "placeholder": "​",
            "style": "IPY_MODEL_7576d5bea4544f7d88a48e4201184573",
            "value": "Your token has been saved in your configured git credential helpers (store)."
          }
        },
        "21914cdbabfa41888229c2a9b5f5a6c1": {
          "model_module": "@jupyter-widgets/controls",
          "model_name": "LabelModel",
          "model_module_version": "1.5.0",
          "state": {
            "_dom_classes": [],
            "_model_module": "@jupyter-widgets/controls",
            "_model_module_version": "1.5.0",
            "_model_name": "LabelModel",
            "_view_count": null,
            "_view_module": "@jupyter-widgets/controls",
            "_view_module_version": "1.5.0",
            "_view_name": "LabelView",
            "description": "",
            "description_tooltip": null,
            "layout": "IPY_MODEL_2bdd14c0bf064189aea5f3a08d8efaf4",
            "placeholder": "​",
            "style": "IPY_MODEL_b569a979a95a405eba6daae34831fa9a",
            "value": "Your token has been saved to /root/.cache/huggingface/token"
          }
        },
        "97255b092093460d9ed7a1b241663254": {
          "model_module": "@jupyter-widgets/controls",
          "model_name": "LabelModel",
          "model_module_version": "1.5.0",
          "state": {
            "_dom_classes": [],
            "_model_module": "@jupyter-widgets/controls",
            "_model_module_version": "1.5.0",
            "_model_name": "LabelModel",
            "_view_count": null,
            "_view_module": "@jupyter-widgets/controls",
            "_view_module_version": "1.5.0",
            "_view_name": "LabelView",
            "description": "",
            "description_tooltip": null,
            "layout": "IPY_MODEL_4cb946f9863c4a5ca74caf91c5f1eb61",
            "placeholder": "​",
            "style": "IPY_MODEL_26b444229516425d8955eb1cbd0f01d5",
            "value": "Login successful"
          }
        },
        "673f0cf090b24bfab0eca5119fea3dc5": {
          "model_module": "@jupyter-widgets/base",
          "model_name": "LayoutModel",
          "model_module_version": "1.2.0",
          "state": {
            "_model_module": "@jupyter-widgets/base",
            "_model_module_version": "1.2.0",
            "_model_name": "LayoutModel",
            "_view_count": null,
            "_view_module": "@jupyter-widgets/base",
            "_view_module_version": "1.2.0",
            "_view_name": "LayoutView",
            "align_content": null,
            "align_items": null,
            "align_self": null,
            "border": null,
            "bottom": null,
            "display": null,
            "flex": null,
            "flex_flow": null,
            "grid_area": null,
            "grid_auto_columns": null,
            "grid_auto_flow": null,
            "grid_auto_rows": null,
            "grid_column": null,
            "grid_gap": null,
            "grid_row": null,
            "grid_template_areas": null,
            "grid_template_columns": null,
            "grid_template_rows": null,
            "height": null,
            "justify_content": null,
            "justify_items": null,
            "left": null,
            "margin": null,
            "max_height": null,
            "max_width": null,
            "min_height": null,
            "min_width": null,
            "object_fit": null,
            "object_position": null,
            "order": null,
            "overflow": null,
            "overflow_x": null,
            "overflow_y": null,
            "padding": null,
            "right": null,
            "top": null,
            "visibility": null,
            "width": null
          }
        },
        "7e54a152992f48b98dedb31a695bd569": {
          "model_module": "@jupyter-widgets/controls",
          "model_name": "DescriptionStyleModel",
          "model_module_version": "1.5.0",
          "state": {
            "_model_module": "@jupyter-widgets/controls",
            "_model_module_version": "1.5.0",
            "_model_name": "DescriptionStyleModel",
            "_view_count": null,
            "_view_module": "@jupyter-widgets/base",
            "_view_module_version": "1.2.0",
            "_view_name": "StyleView",
            "description_width": ""
          }
        },
        "95dca42ef0bb43918dd03852d901216a": {
          "model_module": "@jupyter-widgets/base",
          "model_name": "LayoutModel",
          "model_module_version": "1.2.0",
          "state": {
            "_model_module": "@jupyter-widgets/base",
            "_model_module_version": "1.2.0",
            "_model_name": "LayoutModel",
            "_view_count": null,
            "_view_module": "@jupyter-widgets/base",
            "_view_module_version": "1.2.0",
            "_view_name": "LayoutView",
            "align_content": null,
            "align_items": null,
            "align_self": null,
            "border": null,
            "bottom": null,
            "display": null,
            "flex": null,
            "flex_flow": null,
            "grid_area": null,
            "grid_auto_columns": null,
            "grid_auto_flow": null,
            "grid_auto_rows": null,
            "grid_column": null,
            "grid_gap": null,
            "grid_row": null,
            "grid_template_areas": null,
            "grid_template_columns": null,
            "grid_template_rows": null,
            "height": null,
            "justify_content": null,
            "justify_items": null,
            "left": null,
            "margin": null,
            "max_height": null,
            "max_width": null,
            "min_height": null,
            "min_width": null,
            "object_fit": null,
            "object_position": null,
            "order": null,
            "overflow": null,
            "overflow_x": null,
            "overflow_y": null,
            "padding": null,
            "right": null,
            "top": null,
            "visibility": null,
            "width": null
          }
        },
        "7576d5bea4544f7d88a48e4201184573": {
          "model_module": "@jupyter-widgets/controls",
          "model_name": "DescriptionStyleModel",
          "model_module_version": "1.5.0",
          "state": {
            "_model_module": "@jupyter-widgets/controls",
            "_model_module_version": "1.5.0",
            "_model_name": "DescriptionStyleModel",
            "_view_count": null,
            "_view_module": "@jupyter-widgets/base",
            "_view_module_version": "1.2.0",
            "_view_name": "StyleView",
            "description_width": ""
          }
        },
        "2bdd14c0bf064189aea5f3a08d8efaf4": {
          "model_module": "@jupyter-widgets/base",
          "model_name": "LayoutModel",
          "model_module_version": "1.2.0",
          "state": {
            "_model_module": "@jupyter-widgets/base",
            "_model_module_version": "1.2.0",
            "_model_name": "LayoutModel",
            "_view_count": null,
            "_view_module": "@jupyter-widgets/base",
            "_view_module_version": "1.2.0",
            "_view_name": "LayoutView",
            "align_content": null,
            "align_items": null,
            "align_self": null,
            "border": null,
            "bottom": null,
            "display": null,
            "flex": null,
            "flex_flow": null,
            "grid_area": null,
            "grid_auto_columns": null,
            "grid_auto_flow": null,
            "grid_auto_rows": null,
            "grid_column": null,
            "grid_gap": null,
            "grid_row": null,
            "grid_template_areas": null,
            "grid_template_columns": null,
            "grid_template_rows": null,
            "height": null,
            "justify_content": null,
            "justify_items": null,
            "left": null,
            "margin": null,
            "max_height": null,
            "max_width": null,
            "min_height": null,
            "min_width": null,
            "object_fit": null,
            "object_position": null,
            "order": null,
            "overflow": null,
            "overflow_x": null,
            "overflow_y": null,
            "padding": null,
            "right": null,
            "top": null,
            "visibility": null,
            "width": null
          }
        },
        "b569a979a95a405eba6daae34831fa9a": {
          "model_module": "@jupyter-widgets/controls",
          "model_name": "DescriptionStyleModel",
          "model_module_version": "1.5.0",
          "state": {
            "_model_module": "@jupyter-widgets/controls",
            "_model_module_version": "1.5.0",
            "_model_name": "DescriptionStyleModel",
            "_view_count": null,
            "_view_module": "@jupyter-widgets/base",
            "_view_module_version": "1.2.0",
            "_view_name": "StyleView",
            "description_width": ""
          }
        },
        "4cb946f9863c4a5ca74caf91c5f1eb61": {
          "model_module": "@jupyter-widgets/base",
          "model_name": "LayoutModel",
          "model_module_version": "1.2.0",
          "state": {
            "_model_module": "@jupyter-widgets/base",
            "_model_module_version": "1.2.0",
            "_model_name": "LayoutModel",
            "_view_count": null,
            "_view_module": "@jupyter-widgets/base",
            "_view_module_version": "1.2.0",
            "_view_name": "LayoutView",
            "align_content": null,
            "align_items": null,
            "align_self": null,
            "border": null,
            "bottom": null,
            "display": null,
            "flex": null,
            "flex_flow": null,
            "grid_area": null,
            "grid_auto_columns": null,
            "grid_auto_flow": null,
            "grid_auto_rows": null,
            "grid_column": null,
            "grid_gap": null,
            "grid_row": null,
            "grid_template_areas": null,
            "grid_template_columns": null,
            "grid_template_rows": null,
            "height": null,
            "justify_content": null,
            "justify_items": null,
            "left": null,
            "margin": null,
            "max_height": null,
            "max_width": null,
            "min_height": null,
            "min_width": null,
            "object_fit": null,
            "object_position": null,
            "order": null,
            "overflow": null,
            "overflow_x": null,
            "overflow_y": null,
            "padding": null,
            "right": null,
            "top": null,
            "visibility": null,
            "width": null
          }
        },
        "26b444229516425d8955eb1cbd0f01d5": {
          "model_module": "@jupyter-widgets/controls",
          "model_name": "DescriptionStyleModel",
          "model_module_version": "1.5.0",
          "state": {
            "_model_module": "@jupyter-widgets/controls",
            "_model_module_version": "1.5.0",
            "_model_name": "DescriptionStyleModel",
            "_view_count": null,
            "_view_module": "@jupyter-widgets/base",
            "_view_module_version": "1.2.0",
            "_view_name": "StyleView",
            "description_width": ""
          }
        },
        "e9d910aa6a904123b85c2f1e5b6decd5": {
          "model_module": "@jupyter-widgets/controls",
          "model_name": "VBoxModel",
          "model_module_version": "1.5.0",
          "state": {
            "_dom_classes": [],
            "_model_module": "@jupyter-widgets/controls",
            "_model_module_version": "1.5.0",
            "_model_name": "VBoxModel",
            "_view_count": null,
            "_view_module": "@jupyter-widgets/controls",
            "_view_module_version": "1.5.0",
            "_view_name": "VBoxView",
            "box_style": "",
            "children": [
              "IPY_MODEL_6d07ac38a91148ecbb42b9a92c3de1a3",
              "IPY_MODEL_f6a7b3f9ec944b05b81358a07f498996",
              "IPY_MODEL_8e9c6d29c3194b00a2935eff7a5d721b",
              "IPY_MODEL_0ef5491972194dff98f7853b555929db"
            ],
            "layout": "IPY_MODEL_93085b0489854f86849b403a8569554b"
          }
        },
        "a380e42bb67b4029b7a875cc5ba0a19e": {
          "model_module": "@jupyter-widgets/controls",
          "model_name": "HTMLModel",
          "model_module_version": "1.5.0",
          "state": {
            "_dom_classes": [],
            "_model_module": "@jupyter-widgets/controls",
            "_model_module_version": "1.5.0",
            "_model_name": "HTMLModel",
            "_view_count": null,
            "_view_module": "@jupyter-widgets/controls",
            "_view_module_version": "1.5.0",
            "_view_name": "HTMLView",
            "description": "",
            "description_tooltip": null,
            "layout": "IPY_MODEL_907f9a6a2ef94e1aaab87ee8ecbd1c34",
            "placeholder": "​",
            "style": "IPY_MODEL_d6af09e1e76747ce9e9732cb99f0fce1",
            "value": "<center> <img\nsrc=https://huggingface.co/front/assets/huggingface_logo-noborder.svg\nalt='Hugging Face'> <br> Copy a token from <a\nhref=\"https://huggingface.co/settings/tokens\" target=\"_blank\">your Hugging Face\ntokens page</a> and paste it below. <br> Immediately click login after copying\nyour token or it might be stored in plain text in this notebook file. </center>"
          }
        },
        "5fe8599c2eda495b8ada07095299b922": {
          "model_module": "@jupyter-widgets/controls",
          "model_name": "PasswordModel",
          "model_module_version": "1.5.0",
          "state": {
            "_dom_classes": [],
            "_model_module": "@jupyter-widgets/controls",
            "_model_module_version": "1.5.0",
            "_model_name": "PasswordModel",
            "_view_count": null,
            "_view_module": "@jupyter-widgets/controls",
            "_view_module_version": "1.5.0",
            "_view_name": "PasswordView",
            "continuous_update": true,
            "description": "Token:",
            "description_tooltip": null,
            "disabled": false,
            "layout": "IPY_MODEL_e9d2643224e144938aa92cf21cd242c1",
            "placeholder": "​",
            "style": "IPY_MODEL_de6123e4ee8f4062b252b949b55151f8",
            "value": ""
          }
        },
        "b9e0ca55bb324a48b265d7fb3b1f1e3e": {
          "model_module": "@jupyter-widgets/controls",
          "model_name": "CheckboxModel",
          "model_module_version": "1.5.0",
          "state": {
            "_dom_classes": [],
            "_model_module": "@jupyter-widgets/controls",
            "_model_module_version": "1.5.0",
            "_model_name": "CheckboxModel",
            "_view_count": null,
            "_view_module": "@jupyter-widgets/controls",
            "_view_module_version": "1.5.0",
            "_view_name": "CheckboxView",
            "description": "Add token as git credential?",
            "description_tooltip": null,
            "disabled": false,
            "indent": true,
            "layout": "IPY_MODEL_7389eb0841c54046bdb169b2d87ee698",
            "style": "IPY_MODEL_2099092526a24357bae399a7c257019f",
            "value": true
          }
        },
        "e6f75def9a544a2f8d1008ab292793d8": {
          "model_module": "@jupyter-widgets/controls",
          "model_name": "ButtonModel",
          "model_module_version": "1.5.0",
          "state": {
            "_dom_classes": [],
            "_model_module": "@jupyter-widgets/controls",
            "_model_module_version": "1.5.0",
            "_model_name": "ButtonModel",
            "_view_count": null,
            "_view_module": "@jupyter-widgets/controls",
            "_view_module_version": "1.5.0",
            "_view_name": "ButtonView",
            "button_style": "",
            "description": "Login",
            "disabled": false,
            "icon": "",
            "layout": "IPY_MODEL_b817faca35f845b59f6e0bd663cfdcd0",
            "style": "IPY_MODEL_c687d23394bd4ef9add868df92dbcabb",
            "tooltip": ""
          }
        },
        "be6cdb4083f54f8290a101e0ea8295d7": {
          "model_module": "@jupyter-widgets/controls",
          "model_name": "HTMLModel",
          "model_module_version": "1.5.0",
          "state": {
            "_dom_classes": [],
            "_model_module": "@jupyter-widgets/controls",
            "_model_module_version": "1.5.0",
            "_model_name": "HTMLModel",
            "_view_count": null,
            "_view_module": "@jupyter-widgets/controls",
            "_view_module_version": "1.5.0",
            "_view_name": "HTMLView",
            "description": "",
            "description_tooltip": null,
            "layout": "IPY_MODEL_c4290f7f952d4ae69011379fdfea6cfc",
            "placeholder": "​",
            "style": "IPY_MODEL_598d869762c64b8985cfe0fcbc83db45",
            "value": "\n<b>Pro Tip:</b> If you don't already have one, you can create a dedicated\n'notebooks' token with 'write' access, that you can then easily reuse for all\nnotebooks. </center>"
          }
        },
        "93085b0489854f86849b403a8569554b": {
          "model_module": "@jupyter-widgets/base",
          "model_name": "LayoutModel",
          "model_module_version": "1.2.0",
          "state": {
            "_model_module": "@jupyter-widgets/base",
            "_model_module_version": "1.2.0",
            "_model_name": "LayoutModel",
            "_view_count": null,
            "_view_module": "@jupyter-widgets/base",
            "_view_module_version": "1.2.0",
            "_view_name": "LayoutView",
            "align_content": null,
            "align_items": "center",
            "align_self": null,
            "border": null,
            "bottom": null,
            "display": "flex",
            "flex": null,
            "flex_flow": "column",
            "grid_area": null,
            "grid_auto_columns": null,
            "grid_auto_flow": null,
            "grid_auto_rows": null,
            "grid_column": null,
            "grid_gap": null,
            "grid_row": null,
            "grid_template_areas": null,
            "grid_template_columns": null,
            "grid_template_rows": null,
            "height": null,
            "justify_content": null,
            "justify_items": null,
            "left": null,
            "margin": null,
            "max_height": null,
            "max_width": null,
            "min_height": null,
            "min_width": null,
            "object_fit": null,
            "object_position": null,
            "order": null,
            "overflow": null,
            "overflow_x": null,
            "overflow_y": null,
            "padding": null,
            "right": null,
            "top": null,
            "visibility": null,
            "width": "50%"
          }
        },
        "907f9a6a2ef94e1aaab87ee8ecbd1c34": {
          "model_module": "@jupyter-widgets/base",
          "model_name": "LayoutModel",
          "model_module_version": "1.2.0",
          "state": {
            "_model_module": "@jupyter-widgets/base",
            "_model_module_version": "1.2.0",
            "_model_name": "LayoutModel",
            "_view_count": null,
            "_view_module": "@jupyter-widgets/base",
            "_view_module_version": "1.2.0",
            "_view_name": "LayoutView",
            "align_content": null,
            "align_items": null,
            "align_self": null,
            "border": null,
            "bottom": null,
            "display": null,
            "flex": null,
            "flex_flow": null,
            "grid_area": null,
            "grid_auto_columns": null,
            "grid_auto_flow": null,
            "grid_auto_rows": null,
            "grid_column": null,
            "grid_gap": null,
            "grid_row": null,
            "grid_template_areas": null,
            "grid_template_columns": null,
            "grid_template_rows": null,
            "height": null,
            "justify_content": null,
            "justify_items": null,
            "left": null,
            "margin": null,
            "max_height": null,
            "max_width": null,
            "min_height": null,
            "min_width": null,
            "object_fit": null,
            "object_position": null,
            "order": null,
            "overflow": null,
            "overflow_x": null,
            "overflow_y": null,
            "padding": null,
            "right": null,
            "top": null,
            "visibility": null,
            "width": null
          }
        },
        "d6af09e1e76747ce9e9732cb99f0fce1": {
          "model_module": "@jupyter-widgets/controls",
          "model_name": "DescriptionStyleModel",
          "model_module_version": "1.5.0",
          "state": {
            "_model_module": "@jupyter-widgets/controls",
            "_model_module_version": "1.5.0",
            "_model_name": "DescriptionStyleModel",
            "_view_count": null,
            "_view_module": "@jupyter-widgets/base",
            "_view_module_version": "1.2.0",
            "_view_name": "StyleView",
            "description_width": ""
          }
        },
        "e9d2643224e144938aa92cf21cd242c1": {
          "model_module": "@jupyter-widgets/base",
          "model_name": "LayoutModel",
          "model_module_version": "1.2.0",
          "state": {
            "_model_module": "@jupyter-widgets/base",
            "_model_module_version": "1.2.0",
            "_model_name": "LayoutModel",
            "_view_count": null,
            "_view_module": "@jupyter-widgets/base",
            "_view_module_version": "1.2.0",
            "_view_name": "LayoutView",
            "align_content": null,
            "align_items": null,
            "align_self": null,
            "border": null,
            "bottom": null,
            "display": null,
            "flex": null,
            "flex_flow": null,
            "grid_area": null,
            "grid_auto_columns": null,
            "grid_auto_flow": null,
            "grid_auto_rows": null,
            "grid_column": null,
            "grid_gap": null,
            "grid_row": null,
            "grid_template_areas": null,
            "grid_template_columns": null,
            "grid_template_rows": null,
            "height": null,
            "justify_content": null,
            "justify_items": null,
            "left": null,
            "margin": null,
            "max_height": null,
            "max_width": null,
            "min_height": null,
            "min_width": null,
            "object_fit": null,
            "object_position": null,
            "order": null,
            "overflow": null,
            "overflow_x": null,
            "overflow_y": null,
            "padding": null,
            "right": null,
            "top": null,
            "visibility": null,
            "width": null
          }
        },
        "de6123e4ee8f4062b252b949b55151f8": {
          "model_module": "@jupyter-widgets/controls",
          "model_name": "DescriptionStyleModel",
          "model_module_version": "1.5.0",
          "state": {
            "_model_module": "@jupyter-widgets/controls",
            "_model_module_version": "1.5.0",
            "_model_name": "DescriptionStyleModel",
            "_view_count": null,
            "_view_module": "@jupyter-widgets/base",
            "_view_module_version": "1.2.0",
            "_view_name": "StyleView",
            "description_width": ""
          }
        },
        "7389eb0841c54046bdb169b2d87ee698": {
          "model_module": "@jupyter-widgets/base",
          "model_name": "LayoutModel",
          "model_module_version": "1.2.0",
          "state": {
            "_model_module": "@jupyter-widgets/base",
            "_model_module_version": "1.2.0",
            "_model_name": "LayoutModel",
            "_view_count": null,
            "_view_module": "@jupyter-widgets/base",
            "_view_module_version": "1.2.0",
            "_view_name": "LayoutView",
            "align_content": null,
            "align_items": null,
            "align_self": null,
            "border": null,
            "bottom": null,
            "display": null,
            "flex": null,
            "flex_flow": null,
            "grid_area": null,
            "grid_auto_columns": null,
            "grid_auto_flow": null,
            "grid_auto_rows": null,
            "grid_column": null,
            "grid_gap": null,
            "grid_row": null,
            "grid_template_areas": null,
            "grid_template_columns": null,
            "grid_template_rows": null,
            "height": null,
            "justify_content": null,
            "justify_items": null,
            "left": null,
            "margin": null,
            "max_height": null,
            "max_width": null,
            "min_height": null,
            "min_width": null,
            "object_fit": null,
            "object_position": null,
            "order": null,
            "overflow": null,
            "overflow_x": null,
            "overflow_y": null,
            "padding": null,
            "right": null,
            "top": null,
            "visibility": null,
            "width": null
          }
        },
        "2099092526a24357bae399a7c257019f": {
          "model_module": "@jupyter-widgets/controls",
          "model_name": "DescriptionStyleModel",
          "model_module_version": "1.5.0",
          "state": {
            "_model_module": "@jupyter-widgets/controls",
            "_model_module_version": "1.5.0",
            "_model_name": "DescriptionStyleModel",
            "_view_count": null,
            "_view_module": "@jupyter-widgets/base",
            "_view_module_version": "1.2.0",
            "_view_name": "StyleView",
            "description_width": ""
          }
        },
        "b817faca35f845b59f6e0bd663cfdcd0": {
          "model_module": "@jupyter-widgets/base",
          "model_name": "LayoutModel",
          "model_module_version": "1.2.0",
          "state": {
            "_model_module": "@jupyter-widgets/base",
            "_model_module_version": "1.2.0",
            "_model_name": "LayoutModel",
            "_view_count": null,
            "_view_module": "@jupyter-widgets/base",
            "_view_module_version": "1.2.0",
            "_view_name": "LayoutView",
            "align_content": null,
            "align_items": null,
            "align_self": null,
            "border": null,
            "bottom": null,
            "display": null,
            "flex": null,
            "flex_flow": null,
            "grid_area": null,
            "grid_auto_columns": null,
            "grid_auto_flow": null,
            "grid_auto_rows": null,
            "grid_column": null,
            "grid_gap": null,
            "grid_row": null,
            "grid_template_areas": null,
            "grid_template_columns": null,
            "grid_template_rows": null,
            "height": null,
            "justify_content": null,
            "justify_items": null,
            "left": null,
            "margin": null,
            "max_height": null,
            "max_width": null,
            "min_height": null,
            "min_width": null,
            "object_fit": null,
            "object_position": null,
            "order": null,
            "overflow": null,
            "overflow_x": null,
            "overflow_y": null,
            "padding": null,
            "right": null,
            "top": null,
            "visibility": null,
            "width": null
          }
        },
        "c687d23394bd4ef9add868df92dbcabb": {
          "model_module": "@jupyter-widgets/controls",
          "model_name": "ButtonStyleModel",
          "model_module_version": "1.5.0",
          "state": {
            "_model_module": "@jupyter-widgets/controls",
            "_model_module_version": "1.5.0",
            "_model_name": "ButtonStyleModel",
            "_view_count": null,
            "_view_module": "@jupyter-widgets/base",
            "_view_module_version": "1.2.0",
            "_view_name": "StyleView",
            "button_color": null,
            "font_weight": ""
          }
        },
        "c4290f7f952d4ae69011379fdfea6cfc": {
          "model_module": "@jupyter-widgets/base",
          "model_name": "LayoutModel",
          "model_module_version": "1.2.0",
          "state": {
            "_model_module": "@jupyter-widgets/base",
            "_model_module_version": "1.2.0",
            "_model_name": "LayoutModel",
            "_view_count": null,
            "_view_module": "@jupyter-widgets/base",
            "_view_module_version": "1.2.0",
            "_view_name": "LayoutView",
            "align_content": null,
            "align_items": null,
            "align_self": null,
            "border": null,
            "bottom": null,
            "display": null,
            "flex": null,
            "flex_flow": null,
            "grid_area": null,
            "grid_auto_columns": null,
            "grid_auto_flow": null,
            "grid_auto_rows": null,
            "grid_column": null,
            "grid_gap": null,
            "grid_row": null,
            "grid_template_areas": null,
            "grid_template_columns": null,
            "grid_template_rows": null,
            "height": null,
            "justify_content": null,
            "justify_items": null,
            "left": null,
            "margin": null,
            "max_height": null,
            "max_width": null,
            "min_height": null,
            "min_width": null,
            "object_fit": null,
            "object_position": null,
            "order": null,
            "overflow": null,
            "overflow_x": null,
            "overflow_y": null,
            "padding": null,
            "right": null,
            "top": null,
            "visibility": null,
            "width": null
          }
        },
        "598d869762c64b8985cfe0fcbc83db45": {
          "model_module": "@jupyter-widgets/controls",
          "model_name": "DescriptionStyleModel",
          "model_module_version": "1.5.0",
          "state": {
            "_model_module": "@jupyter-widgets/controls",
            "_model_module_version": "1.5.0",
            "_model_name": "DescriptionStyleModel",
            "_view_count": null,
            "_view_module": "@jupyter-widgets/base",
            "_view_module_version": "1.2.0",
            "_view_name": "StyleView",
            "description_width": ""
          }
        },
        "432a5ea502ba4d598dfdd0b9a2b72274": {
          "model_module": "@jupyter-widgets/controls",
          "model_name": "LabelModel",
          "model_module_version": "1.5.0",
          "state": {
            "_dom_classes": [],
            "_model_module": "@jupyter-widgets/controls",
            "_model_module_version": "1.5.0",
            "_model_name": "LabelModel",
            "_view_count": null,
            "_view_module": "@jupyter-widgets/controls",
            "_view_module_version": "1.5.0",
            "_view_name": "LabelView",
            "description": "",
            "description_tooltip": null,
            "layout": "IPY_MODEL_1e204428ab3441368ef3d16719ead496",
            "placeholder": "​",
            "style": "IPY_MODEL_9aef5df9c05c4fe79400494c64782471",
            "value": "Connecting..."
          }
        },
        "1e204428ab3441368ef3d16719ead496": {
          "model_module": "@jupyter-widgets/base",
          "model_name": "LayoutModel",
          "model_module_version": "1.2.0",
          "state": {
            "_model_module": "@jupyter-widgets/base",
            "_model_module_version": "1.2.0",
            "_model_name": "LayoutModel",
            "_view_count": null,
            "_view_module": "@jupyter-widgets/base",
            "_view_module_version": "1.2.0",
            "_view_name": "LayoutView",
            "align_content": null,
            "align_items": null,
            "align_self": null,
            "border": null,
            "bottom": null,
            "display": null,
            "flex": null,
            "flex_flow": null,
            "grid_area": null,
            "grid_auto_columns": null,
            "grid_auto_flow": null,
            "grid_auto_rows": null,
            "grid_column": null,
            "grid_gap": null,
            "grid_row": null,
            "grid_template_areas": null,
            "grid_template_columns": null,
            "grid_template_rows": null,
            "height": null,
            "justify_content": null,
            "justify_items": null,
            "left": null,
            "margin": null,
            "max_height": null,
            "max_width": null,
            "min_height": null,
            "min_width": null,
            "object_fit": null,
            "object_position": null,
            "order": null,
            "overflow": null,
            "overflow_x": null,
            "overflow_y": null,
            "padding": null,
            "right": null,
            "top": null,
            "visibility": null,
            "width": null
          }
        },
        "9aef5df9c05c4fe79400494c64782471": {
          "model_module": "@jupyter-widgets/controls",
          "model_name": "DescriptionStyleModel",
          "model_module_version": "1.5.0",
          "state": {
            "_model_module": "@jupyter-widgets/controls",
            "_model_module_version": "1.5.0",
            "_model_name": "DescriptionStyleModel",
            "_view_count": null,
            "_view_module": "@jupyter-widgets/base",
            "_view_module_version": "1.2.0",
            "_view_name": "StyleView",
            "description_width": ""
          }
        },
        "6d07ac38a91148ecbb42b9a92c3de1a3": {
          "model_module": "@jupyter-widgets/controls",
          "model_name": "LabelModel",
          "model_module_version": "1.5.0",
          "state": {
            "_dom_classes": [],
            "_model_module": "@jupyter-widgets/controls",
            "_model_module_version": "1.5.0",
            "_model_name": "LabelModel",
            "_view_count": null,
            "_view_module": "@jupyter-widgets/controls",
            "_view_module_version": "1.5.0",
            "_view_name": "LabelView",
            "description": "",
            "description_tooltip": null,
            "layout": "IPY_MODEL_96cda95e22c14098b6e3f82685671ab6",
            "placeholder": "​",
            "style": "IPY_MODEL_f402cfbcb5a94fd09262a169d4bd2507",
            "value": "Token is valid (permission: write)."
          }
        },
        "f6a7b3f9ec944b05b81358a07f498996": {
          "model_module": "@jupyter-widgets/controls",
          "model_name": "LabelModel",
          "model_module_version": "1.5.0",
          "state": {
            "_dom_classes": [],
            "_model_module": "@jupyter-widgets/controls",
            "_model_module_version": "1.5.0",
            "_model_name": "LabelModel",
            "_view_count": null,
            "_view_module": "@jupyter-widgets/controls",
            "_view_module_version": "1.5.0",
            "_view_name": "LabelView",
            "description": "",
            "description_tooltip": null,
            "layout": "IPY_MODEL_fd30c2f98af843d49842e5393a7e6764",
            "placeholder": "​",
            "style": "IPY_MODEL_23cd006e82054b7c8f77baeda0f54772",
            "value": "Your token has been saved in your configured git credential helpers (store)."
          }
        },
        "8e9c6d29c3194b00a2935eff7a5d721b": {
          "model_module": "@jupyter-widgets/controls",
          "model_name": "LabelModel",
          "model_module_version": "1.5.0",
          "state": {
            "_dom_classes": [],
            "_model_module": "@jupyter-widgets/controls",
            "_model_module_version": "1.5.0",
            "_model_name": "LabelModel",
            "_view_count": null,
            "_view_module": "@jupyter-widgets/controls",
            "_view_module_version": "1.5.0",
            "_view_name": "LabelView",
            "description": "",
            "description_tooltip": null,
            "layout": "IPY_MODEL_7d34a4c551994c17b2aeba57aee10665",
            "placeholder": "​",
            "style": "IPY_MODEL_a030d888a11a4b96b7c345cce7cf37f2",
            "value": "Your token has been saved to /root/.cache/huggingface/token"
          }
        },
        "0ef5491972194dff98f7853b555929db": {
          "model_module": "@jupyter-widgets/controls",
          "model_name": "LabelModel",
          "model_module_version": "1.5.0",
          "state": {
            "_dom_classes": [],
            "_model_module": "@jupyter-widgets/controls",
            "_model_module_version": "1.5.0",
            "_model_name": "LabelModel",
            "_view_count": null,
            "_view_module": "@jupyter-widgets/controls",
            "_view_module_version": "1.5.0",
            "_view_name": "LabelView",
            "description": "",
            "description_tooltip": null,
            "layout": "IPY_MODEL_0b8fcacd772742e3adaca9f0849d4ca0",
            "placeholder": "​",
            "style": "IPY_MODEL_dcdda3b5094b41e48227264d25889f81",
            "value": "Login successful"
          }
        },
        "96cda95e22c14098b6e3f82685671ab6": {
          "model_module": "@jupyter-widgets/base",
          "model_name": "LayoutModel",
          "model_module_version": "1.2.0",
          "state": {
            "_model_module": "@jupyter-widgets/base",
            "_model_module_version": "1.2.0",
            "_model_name": "LayoutModel",
            "_view_count": null,
            "_view_module": "@jupyter-widgets/base",
            "_view_module_version": "1.2.0",
            "_view_name": "LayoutView",
            "align_content": null,
            "align_items": null,
            "align_self": null,
            "border": null,
            "bottom": null,
            "display": null,
            "flex": null,
            "flex_flow": null,
            "grid_area": null,
            "grid_auto_columns": null,
            "grid_auto_flow": null,
            "grid_auto_rows": null,
            "grid_column": null,
            "grid_gap": null,
            "grid_row": null,
            "grid_template_areas": null,
            "grid_template_columns": null,
            "grid_template_rows": null,
            "height": null,
            "justify_content": null,
            "justify_items": null,
            "left": null,
            "margin": null,
            "max_height": null,
            "max_width": null,
            "min_height": null,
            "min_width": null,
            "object_fit": null,
            "object_position": null,
            "order": null,
            "overflow": null,
            "overflow_x": null,
            "overflow_y": null,
            "padding": null,
            "right": null,
            "top": null,
            "visibility": null,
            "width": null
          }
        },
        "f402cfbcb5a94fd09262a169d4bd2507": {
          "model_module": "@jupyter-widgets/controls",
          "model_name": "DescriptionStyleModel",
          "model_module_version": "1.5.0",
          "state": {
            "_model_module": "@jupyter-widgets/controls",
            "_model_module_version": "1.5.0",
            "_model_name": "DescriptionStyleModel",
            "_view_count": null,
            "_view_module": "@jupyter-widgets/base",
            "_view_module_version": "1.2.0",
            "_view_name": "StyleView",
            "description_width": ""
          }
        },
        "fd30c2f98af843d49842e5393a7e6764": {
          "model_module": "@jupyter-widgets/base",
          "model_name": "LayoutModel",
          "model_module_version": "1.2.0",
          "state": {
            "_model_module": "@jupyter-widgets/base",
            "_model_module_version": "1.2.0",
            "_model_name": "LayoutModel",
            "_view_count": null,
            "_view_module": "@jupyter-widgets/base",
            "_view_module_version": "1.2.0",
            "_view_name": "LayoutView",
            "align_content": null,
            "align_items": null,
            "align_self": null,
            "border": null,
            "bottom": null,
            "display": null,
            "flex": null,
            "flex_flow": null,
            "grid_area": null,
            "grid_auto_columns": null,
            "grid_auto_flow": null,
            "grid_auto_rows": null,
            "grid_column": null,
            "grid_gap": null,
            "grid_row": null,
            "grid_template_areas": null,
            "grid_template_columns": null,
            "grid_template_rows": null,
            "height": null,
            "justify_content": null,
            "justify_items": null,
            "left": null,
            "margin": null,
            "max_height": null,
            "max_width": null,
            "min_height": null,
            "min_width": null,
            "object_fit": null,
            "object_position": null,
            "order": null,
            "overflow": null,
            "overflow_x": null,
            "overflow_y": null,
            "padding": null,
            "right": null,
            "top": null,
            "visibility": null,
            "width": null
          }
        },
        "23cd006e82054b7c8f77baeda0f54772": {
          "model_module": "@jupyter-widgets/controls",
          "model_name": "DescriptionStyleModel",
          "model_module_version": "1.5.0",
          "state": {
            "_model_module": "@jupyter-widgets/controls",
            "_model_module_version": "1.5.0",
            "_model_name": "DescriptionStyleModel",
            "_view_count": null,
            "_view_module": "@jupyter-widgets/base",
            "_view_module_version": "1.2.0",
            "_view_name": "StyleView",
            "description_width": ""
          }
        },
        "7d34a4c551994c17b2aeba57aee10665": {
          "model_module": "@jupyter-widgets/base",
          "model_name": "LayoutModel",
          "model_module_version": "1.2.0",
          "state": {
            "_model_module": "@jupyter-widgets/base",
            "_model_module_version": "1.2.0",
            "_model_name": "LayoutModel",
            "_view_count": null,
            "_view_module": "@jupyter-widgets/base",
            "_view_module_version": "1.2.0",
            "_view_name": "LayoutView",
            "align_content": null,
            "align_items": null,
            "align_self": null,
            "border": null,
            "bottom": null,
            "display": null,
            "flex": null,
            "flex_flow": null,
            "grid_area": null,
            "grid_auto_columns": null,
            "grid_auto_flow": null,
            "grid_auto_rows": null,
            "grid_column": null,
            "grid_gap": null,
            "grid_row": null,
            "grid_template_areas": null,
            "grid_template_columns": null,
            "grid_template_rows": null,
            "height": null,
            "justify_content": null,
            "justify_items": null,
            "left": null,
            "margin": null,
            "max_height": null,
            "max_width": null,
            "min_height": null,
            "min_width": null,
            "object_fit": null,
            "object_position": null,
            "order": null,
            "overflow": null,
            "overflow_x": null,
            "overflow_y": null,
            "padding": null,
            "right": null,
            "top": null,
            "visibility": null,
            "width": null
          }
        },
        "a030d888a11a4b96b7c345cce7cf37f2": {
          "model_module": "@jupyter-widgets/controls",
          "model_name": "DescriptionStyleModel",
          "model_module_version": "1.5.0",
          "state": {
            "_model_module": "@jupyter-widgets/controls",
            "_model_module_version": "1.5.0",
            "_model_name": "DescriptionStyleModel",
            "_view_count": null,
            "_view_module": "@jupyter-widgets/base",
            "_view_module_version": "1.2.0",
            "_view_name": "StyleView",
            "description_width": ""
          }
        },
        "0b8fcacd772742e3adaca9f0849d4ca0": {
          "model_module": "@jupyter-widgets/base",
          "model_name": "LayoutModel",
          "model_module_version": "1.2.0",
          "state": {
            "_model_module": "@jupyter-widgets/base",
            "_model_module_version": "1.2.0",
            "_model_name": "LayoutModel",
            "_view_count": null,
            "_view_module": "@jupyter-widgets/base",
            "_view_module_version": "1.2.0",
            "_view_name": "LayoutView",
            "align_content": null,
            "align_items": null,
            "align_self": null,
            "border": null,
            "bottom": null,
            "display": null,
            "flex": null,
            "flex_flow": null,
            "grid_area": null,
            "grid_auto_columns": null,
            "grid_auto_flow": null,
            "grid_auto_rows": null,
            "grid_column": null,
            "grid_gap": null,
            "grid_row": null,
            "grid_template_areas": null,
            "grid_template_columns": null,
            "grid_template_rows": null,
            "height": null,
            "justify_content": null,
            "justify_items": null,
            "left": null,
            "margin": null,
            "max_height": null,
            "max_width": null,
            "min_height": null,
            "min_width": null,
            "object_fit": null,
            "object_position": null,
            "order": null,
            "overflow": null,
            "overflow_x": null,
            "overflow_y": null,
            "padding": null,
            "right": null,
            "top": null,
            "visibility": null,
            "width": null
          }
        },
        "dcdda3b5094b41e48227264d25889f81": {
          "model_module": "@jupyter-widgets/controls",
          "model_name": "DescriptionStyleModel",
          "model_module_version": "1.5.0",
          "state": {
            "_model_module": "@jupyter-widgets/controls",
            "_model_module_version": "1.5.0",
            "_model_name": "DescriptionStyleModel",
            "_view_count": null,
            "_view_module": "@jupyter-widgets/base",
            "_view_module_version": "1.2.0",
            "_view_name": "StyleView",
            "description_width": ""
          }
        }
      }
    }
  },
  "nbformat": 4,
  "nbformat_minor": 0
}